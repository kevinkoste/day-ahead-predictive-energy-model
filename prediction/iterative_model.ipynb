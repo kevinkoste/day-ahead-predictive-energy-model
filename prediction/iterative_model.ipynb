{
 "cells": [
  {
   "cell_type": "markdown",
   "metadata": {},
   "source": [
    "## Currently broken. Adding elec lag features appears to change the learned frequency of the prediction, and I don't know why."
   ]
  },
  {
   "cell_type": "code",
   "execution_count": null,
   "metadata": {},
   "outputs": [],
   "source": [
    "import pandas as pd\n",
    "pd.set_option('mode.chained_assignment', None)\n",
    "import numpy as np\n",
    "\n",
    "# plotting libraries\n",
    "import seaborn as sns\n",
    "import matplotlib\n",
    "%matplotlib inline\n",
    "import matplotlib.pyplot as plt\n",
    "plt.style.use('ggplot')\n",
    "\n",
    "# preprocessing\n",
    "from sklearn.preprocessing import StandardScaler\n",
    "\n",
    "# models\n",
    "from sklearn.linear_model import LinearRegression"
   ]
  },
  {
   "cell_type": "markdown",
   "metadata": {},
   "source": [
    "This cell constructs a Series called y that contains the target feature - in this case, hourly electricity demand."
   ]
  },
  {
   "cell_type": "code",
   "execution_count": 38,
   "metadata": {},
   "outputs": [],
   "source": [
    "# read clean electricity data to create target variable array y\n",
    "elec = pd.read_csv('../data/elec_clean.csv',index_col=0)\n",
    "elec.index = pd.to_datetime(elec.index,format='%Y-%m-%d %H:00:00')\n",
    "\n",
    "# remove Davenport for now because it is missing most of June and July\n",
    "elec.drop('Davenport',axis=1,inplace=True)\n",
    "\n",
    "y = pd.Series(elec.iloc[:, 0:11].sum(axis=1))"
   ]
  },
  {
   "cell_type": "markdown",
   "metadata": {},
   "source": [
    "This cell constructs a DataFrame called X that contains the covariate data. Here, one-hot dates, weather lag, and electricity lag features are added for a total of 45 covariates."
   ]
  },
  {
   "cell_type": "code",
   "execution_count": 56,
   "metadata": {},
   "outputs": [],
   "source": [
    "# create X as a copy of y\n",
    "X = pd.DataFrame(index=y.index)\n",
    "\n",
    "# add electricity lag features (be careful with this)\n",
    "elec = pd.DataFrame(index=y.index)\n",
    "for i in range(1,3):\n",
    "    elec['elec -'+str(i)] = np.append(np.array([np.nan]*i),y.values[0:len(y)-i])\n",
    "X = X.join(elec)\n",
    "\n",
    "# add weather lag features\n",
    "weather = pd.read_csv('../data/weather_clean.csv',index_col=0)\n",
    "weather.index = pd.to_datetime(weather.index,format='%Y-%m-%d %H:00:00')\n",
    "weather = weather.loc[y.index[0]:y.index[len(y)-1]]\n",
    "X = X.join(weather)\n",
    "\n",
    "# add boolean date features\n",
    "dates = pd.read_csv('../data/date_features.csv',index_col=0)\n",
    "dates.index = pd.to_datetime(dates.index,format='%Y-%m-%d %H:00:00')\n",
    "X = X.join(dates)\n",
    "\n",
    "# truncate y and X to match each other (this step is only necessary if using elec lag features)\n",
    "X = X.iloc[2:]\n",
    "y = y.iloc[2:]"
   ]
  },
  {
   "cell_type": "markdown",
   "metadata": {},
   "source": [
    "Here I would like to implement an iterative linear regression model to more accurately represent the reality of placing bids in the day ahead market. These models will have a test set of just one hour, and the result of each model will be used to predict the following hour.\n",
    "\n",
    "This is not working right now because the scaler can't be applied to a single row...\n",
    "Should seek advice on this from statlab or other expert"
   ]
  },
  {
   "cell_type": "markdown",
   "metadata": {},
   "source": [
    "1. A random day is chosen for analysis, the initial test_start is set\n",
    "2. Enter a for loop with i from 1 to 39\n",
    "2. X_train and X_test are created, with X_train = everything before and including start_time + 1"
   ]
  },
  {
   "cell_type": "code",
   "execution_count": 57,
   "metadata": {},
   "outputs": [],
   "source": [
    "# choose a random day between Jan 10 and July 10 to test\n",
    "start_times = pd.date_range(start='2018-01-10 08:00:00',end='2018-07-10 08:00:00',freq='D')\n",
    "first_hour = start_times[np.random.randint(len(start_times))]\n",
    "\n",
    "# initialize X_pred, a copy of X with y_pred lag features substituted in\n",
    "X_pred = X.copy(deep=True)\n",
    "y_pred = y.copy(deep=True)\n",
    "\n",
    "y_test = y.loc[first_hour+pd.DateOffset(hours=1):first_hour+pd.DateOffset(hours=39)].copy()\n",
    "y_results = np.array([])\n",
    "\n",
    "# choose model\n",
    "model = LinearRegression()\n",
    "\n",
    "for i in range(1,40):\n",
    "    # identify the target hour\n",
    "    target_hour = first_hour + pd.DateOffset(hours=i)\n",
    "    \n",
    "    # initialize train and test sets\n",
    "    X_train = X_pred.loc[X.index < target_hour].copy()\n",
    "    X_test = X_pred.loc[target_hour].copy()\n",
    "    y_train = y_pred.loc[y.index < target_hour].copy()\n",
    "\n",
    "#     # fit standard scalers to the weather and elec features in the training data\n",
    "    weather_fit = StandardScaler().fit(X_train[weather.columns])\n",
    "    elec_fit = StandardScaler().fit(X_train[elec.columns])\n",
    "\n",
    "#     # scale the training and test sets using the scalers fit to the training set\n",
    "#     X_train[weather.columns] = weather_fit.transform(X_train[weather.columns])\n",
    "#     X_train[elec.columns] = elec_fit.fit_transform(X_train[elec.columns])\n",
    "#     X_test[weather.columns] = weather_fit.transform(X_test[weather.columns])\n",
    "#     X_test[elec.columns] = elec_fit.transform(X_test[elec.columns])\n",
    "    \n",
    "    # train the model predict for the target hour, store result in y_results\n",
    "    reg = model.fit(X_train, y_train)\n",
    "    y_results = np.append(y_results, reg.predict(np.array(X_test).reshape(1,-1)))\n",
    "    \n",
    "    # update X_pred and y_pred to reflect the results of the model\n",
    "    y_pred.loc[target_hour] = reg.predict(np.array(X_test).reshape(1,-1))\n",
    "    \n",
    "    # replace elec lag features in X_pred with predicted data\n",
    "    elec = pd.DataFrame(index=y.index)\n",
    "    for i in range(1,3):\n",
    "        elec['elec -'+str(i)] = np.append(np.array([np.nan]*i),y_pred.values[0:len(y_pred)-i])\n",
    "    \n",
    "    X_pred[elec.columns] = elec\n",
    "    X_pred = X_pred[2:]\n"
   ]
  },
  {
   "cell_type": "code",
   "execution_count": 58,
   "metadata": {},
   "outputs": [],
   "source": [
    "results = pd.DataFrame(y_test,columns=['actual'])\n",
    "results['pred'] = y_results"
   ]
  },
  {
   "cell_type": "code",
   "execution_count": 59,
   "metadata": {},
   "outputs": [
    {
     "data": {
      "text/plain": [
       "<matplotlib.axes._subplots.AxesSubplot at 0x1a1f853978>"
      ]
     },
     "execution_count": 59,
     "metadata": {},
     "output_type": "execute_result"
    },
    {
     "data": {
      "image/png": "[encoded data removed]",
      "text/plain": [
       "<Figure size 432x288 with 1 Axes>"
      ]
     },
     "metadata": {
      "needs_background": "light"
     },
     "output_type": "display_data"
    }
   ],
   "source": [
    "results.plot()"
   ]
  },
  {
   "cell_type": "code",
   "execution_count": null,
   "metadata": {},
   "outputs": [],
   "source": []
  }
 ],
 "metadata": {
  "kernelspec": {
   "display_name": "Python 3",
   "language": "python",
   "name": "python3"
  },
  "language_info": {
   "codemirror_mode": {
    "name": "ipython",
    "version": 3
   },
   "file_extension": ".py",
   "mimetype": "text/x-python",
   "name": "python",
   "nbconvert_exporter": "python",
   "pygments_lexer": "ipython3",
   "version": "3.7.0"
  }
 },
 "nbformat": 4,
 "nbformat_minor": 2
}
