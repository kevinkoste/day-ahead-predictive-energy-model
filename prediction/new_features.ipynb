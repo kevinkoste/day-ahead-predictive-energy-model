{
 "cells": [
  {
   "cell_type": "code",
   "execution_count": 116,
   "metadata": {},
   "outputs": [],
   "source": [
    "import pandas as pd\n",
    "import numpy as np\n",
    "\n",
    "import matplotlib.pyplot as plt\n",
    "%matplotlib inline\n",
    "plt.style.use('ggplot')\n",
    "\n",
    "# min-max scaler\n",
    "from sklearn.preprocessing import MinMaxScaler\n",
    "\n",
    "# recursive feature elimination\n",
    "from sklearn.feature_selection import RFE\n",
    "\n",
    "# estimators\n",
    "from sklearn.linear_model import LinearRegression\n",
    "from sklearn.svm import SVR\n",
    "from sklearn.neural_network import MLPRegressor\n",
    "from sklearn.tree import DecisionTreeRegressor"
   ]
  },
  {
   "cell_type": "code",
   "execution_count": 117,
   "metadata": {},
   "outputs": [],
   "source": [
    "# read clean electricity data to create target variable array y\n",
    "elec = pd.read_csv('../data/elec_clean.csv',index_col=0)\n",
    "elec.index = pd.to_datetime(elec.index,format='%Y-%m-%d %H:00:00')\n",
    "\n",
    "# remove Davenport for now because it is missing most of June and July\n",
    "elec.drop('Davenport',axis=1,inplace=True)\n",
    "\n",
    "agg = pd.DataFrame({'actual':elec.sum(axis=1)})"
   ]
  },
  {
   "cell_type": "markdown",
   "metadata": {},
   "source": [
    "### Add features"
   ]
  },
  {
   "cell_type": "code",
   "execution_count": 86,
   "metadata": {},
   "outputs": [],
   "source": [
    "# add lag features\n",
    "for i in [1,2,3,24,25,26,48,49,50]:\n",
    "    agg['t-'+str(i)] = np.append(np.array([np.nan]*i),agg['actual'][0:len(agg)-i])\n",
    "    \n",
    "# add day of week features\n",
    "days = ['mon','tues','wed','thurs','fri','sat','sun']\n",
    "for i in range(7):\n",
    "    agg[days[i]] = (np.array([i]*len(agg))==np.asarray(agg.index.dayofweek)).astype(int)\n",
    "    \n",
    "# add hour of day features\n",
    "for i in range(12):\n",
    "    agg[str(i)+'am'] = (np.array([i]*len(agg))==np.asarray(agg.index.hour)).astype(int)\n",
    "for i in range(12,24):\n",
    "    agg[str(i-12)+'pm'] = (np.array([i]*len(agg))==np.asarray(agg.index.hour)).astype(int)\n",
    "agg.rename({'0am':'12am','0pm':'12pm'},axis=1)\n",
    "\n",
    "# feature for school breaks\n",
    "agg['break'] = (agg.index.isin(pd.date_range(start='01/01/2018', end='01/15/2018', freq='H',closed='left'))\n",
    "                | agg.index.isin(pd.date_range(start='03/10/2018', end='03/25/2018', freq='H',closed='left'))\n",
    "                | agg.index.isin(pd.date_range(start='05/10/2018', end='08/22/2018', freq='H',closed='left'))\n",
    "               ).astype(int)\n",
    "\n",
    "# feature for office holidays: MLK day, memorial day, 4th of july\n",
    "agg['holiday'] = (agg.index.isin(pd.date_range(start='01/15/2018', end='01/16/2018', freq='H',closed='left'))\n",
    "                  | agg.index.isin(pd.date_range(start='05/28/2018', end='05/29/2018', freq='H',closed='left'))\n",
    "                  | agg.index.isin(pd.date_range(start='07/04/2018', end='07/05/2018', freq='H',closed='left'))\n",
    "                 ).astype(int)\n",
    "\n",
    "# trim NaNs from lag calculation\n",
    "data = agg['2018-01-04 00:00:00':]"
   ]
  },
  {
   "cell_type": "markdown",
   "metadata": {},
   "source": [
    "### Evaluate feature importance"
   ]
  },
  {
   "cell_type": "code",
   "execution_count": 92,
   "metadata": {},
   "outputs": [
    {
     "data": {
      "text/plain": [
       "<matplotlib.axes._subplots.AxesSubplot at 0x1a2806dcc0>"
      ]
     },
     "execution_count": 92,
     "metadata": {},
     "output_type": "execute_result"
    },
    {
     "data": {
      "image/png": "[encoded data removed]",
      "text/plain": [
       "<Figure size 1296x360 with 1 Axes>"
      ]
     },
     "metadata": {},
     "output_type": "display_data"
    }
   ],
   "source": [
    "X = data.loc[:,'t-1':].values\n",
    "y = data.loc[:,'actual'].values.reshape(-1, 1)\n",
    "\n",
    "X_scaler = MinMaxScaler().fit(X)\n",
    "y_scaler = MinMaxScaler().fit(y)\n",
    "\n",
    "X_rfe = X_scaler.transform(X)\n",
    "y_rfe = y_scaler.transform(y).ravel()\n",
    "\n",
    "model_names = ['Linear Regression','Support Vector Regression','Decision Tree Regression']\n",
    "models = [LinearRegression(),SVR(kernel='linear'),DecisionTreeRegressor()]\n",
    "results = pd.DataFrame(index=data.loc[:,'t-1':].columns)\n",
    "\n",
    "for i in range(len(models)):\n",
    "    rfe = RFE(models[i], 1)\n",
    "    rfe = rfe.fit(X_rfe, y_rfe)\n",
    "    results[model_names[i]] = rfe.ranking_\n",
    "    \n",
    "results['Cumulative Score'] = results.sum(axis=1)\n",
    "results['Cumulative Score'].plot(kind='bar',figsize=(18,5))"
   ]
  },
  {
   "cell_type": "markdown",
   "metadata": {},
   "source": [
    "### Writing iterative forecasting procedure"
   ]
  },
  {
   "cell_type": "code",
   "execution_count": 107,
   "metadata": {},
   "outputs": [
    {
     "data": {
      "text/html": [
       "<div>\n",
       "<style scoped>\n",
       "    .dataframe tbody tr th:only-of-type {\n",
       "        vertical-align: middle;\n",
       "    }\n",
       "\n",
       "    .dataframe tbody tr th {\n",
       "        vertical-align: top;\n",
       "    }\n",
       "\n",
       "    .dataframe thead th {\n",
       "        text-align: right;\n",
       "    }\n",
       "</style>\n",
       "<table border=\"1\" class=\"dataframe\">\n",
       "  <thead>\n",
       "    <tr style=\"text-align: right;\">\n",
       "      <th></th>\n",
       "      <th>mon</th>\n",
       "      <th>tues</th>\n",
       "      <th>wed</th>\n",
       "      <th>thurs</th>\n",
       "      <th>fri</th>\n",
       "      <th>sat</th>\n",
       "      <th>sun</th>\n",
       "      <th>12am</th>\n",
       "      <th>1am</th>\n",
       "      <th>2am</th>\n",
       "      <th>...</th>\n",
       "      <th>4pm</th>\n",
       "      <th>5pm</th>\n",
       "      <th>6pm</th>\n",
       "      <th>7pm</th>\n",
       "      <th>8pm</th>\n",
       "      <th>9pm</th>\n",
       "      <th>10pm</th>\n",
       "      <th>11pm</th>\n",
       "      <th>break</th>\n",
       "      <th>holiday</th>\n",
       "    </tr>\n",
       "  </thead>\n",
       "  <tbody>\n",
       "    <tr>\n",
       "      <th>2018-01-01 00:00:00</th>\n",
       "      <td>1</td>\n",
       "      <td>0</td>\n",
       "      <td>0</td>\n",
       "      <td>0</td>\n",
       "      <td>0</td>\n",
       "      <td>0</td>\n",
       "      <td>0</td>\n",
       "      <td>1</td>\n",
       "      <td>0</td>\n",
       "      <td>0</td>\n",
       "      <td>...</td>\n",
       "      <td>0</td>\n",
       "      <td>0</td>\n",
       "      <td>0</td>\n",
       "      <td>0</td>\n",
       "      <td>0</td>\n",
       "      <td>0</td>\n",
       "      <td>0</td>\n",
       "      <td>0</td>\n",
       "      <td>1</td>\n",
       "      <td>0</td>\n",
       "    </tr>\n",
       "    <tr>\n",
       "      <th>2018-01-01 01:00:00</th>\n",
       "      <td>1</td>\n",
       "      <td>0</td>\n",
       "      <td>0</td>\n",
       "      <td>0</td>\n",
       "      <td>0</td>\n",
       "      <td>0</td>\n",
       "      <td>0</td>\n",
       "      <td>0</td>\n",
       "      <td>1</td>\n",
       "      <td>0</td>\n",
       "      <td>...</td>\n",
       "      <td>0</td>\n",
       "      <td>0</td>\n",
       "      <td>0</td>\n",
       "      <td>0</td>\n",
       "      <td>0</td>\n",
       "      <td>0</td>\n",
       "      <td>0</td>\n",
       "      <td>0</td>\n",
       "      <td>1</td>\n",
       "      <td>0</td>\n",
       "    </tr>\n",
       "    <tr>\n",
       "      <th>2018-01-01 02:00:00</th>\n",
       "      <td>1</td>\n",
       "      <td>0</td>\n",
       "      <td>0</td>\n",
       "      <td>0</td>\n",
       "      <td>0</td>\n",
       "      <td>0</td>\n",
       "      <td>0</td>\n",
       "      <td>0</td>\n",
       "      <td>0</td>\n",
       "      <td>1</td>\n",
       "      <td>...</td>\n",
       "      <td>0</td>\n",
       "      <td>0</td>\n",
       "      <td>0</td>\n",
       "      <td>0</td>\n",
       "      <td>0</td>\n",
       "      <td>0</td>\n",
       "      <td>0</td>\n",
       "      <td>0</td>\n",
       "      <td>1</td>\n",
       "      <td>0</td>\n",
       "    </tr>\n",
       "  </tbody>\n",
       "</table>\n",
       "<p>3 rows × 33 columns</p>\n",
       "</div>"
      ],
      "text/plain": [
       "                     mon  tues  wed  thurs  fri  sat  sun  12am  1am  2am  \\\n",
       "2018-01-01 00:00:00    1     0    0      0    0    0    0     1    0    0   \n",
       "2018-01-01 01:00:00    1     0    0      0    0    0    0     0    1    0   \n",
       "2018-01-01 02:00:00    1     0    0      0    0    0    0     0    0    1   \n",
       "\n",
       "                      ...     4pm  5pm  6pm  7pm  8pm  9pm  10pm  11pm  break  \\\n",
       "2018-01-01 00:00:00   ...       0    0    0    0    0    0     0     0      1   \n",
       "2018-01-01 01:00:00   ...       0    0    0    0    0    0     0     0      1   \n",
       "2018-01-01 02:00:00   ...       0    0    0    0    0    0     0     0      1   \n",
       "\n",
       "                     holiday  \n",
       "2018-01-01 00:00:00        0  \n",
       "2018-01-01 01:00:00        0  \n",
       "2018-01-01 02:00:00        0  \n",
       "\n",
       "[3 rows x 33 columns]"
      ]
     },
     "execution_count": 107,
     "metadata": {},
     "output_type": "execute_result"
    }
   ],
   "source": [
    "# create static features dataframe\n",
    "static_features = pd.DataFrame(index=pd.date_range(start='2018-01-01', end='2019-01-01', freq='H',closed='left'))\n",
    "\n",
    "# add day of week features\n",
    "days = ['mon','tues','wed','thurs','fri','sat','sun']\n",
    "for i in range(7):\n",
    "    static_features[days[i]] = (np.array([i]*len(static_features))==np.asarray(static_features.index.dayofweek)).astype(int)\n",
    "    \n",
    "# add hour of day features\n",
    "for i in range(12):\n",
    "    static_features[str(i)+'am'] = (np.array([i]*len(static_features))==np.asarray(static_features.index.hour)).astype(int)\n",
    "for i in range(12,24):\n",
    "    static_features[str(i-12)+'pm'] = (np.array([i]*len(static_features))==np.asarray(static_features.index.hour)).astype(int)\n",
    "static_features = static_features.rename({'0am':'12am','0pm':'12pm'},axis=1)\n",
    "\n",
    "# feature for school breaks\n",
    "static_features['break'] = (static_features.index.isin(pd.date_range(start='01/01/2018', end='01/15/2018', freq='H',closed='left'))\n",
    "                            | static_features.index.isin(pd.date_range(start='03/10/2018', end='03/25/2018', freq='H',closed='left'))\n",
    "                            | static_features.index.isin(pd.date_range(start='05/10/2018', end='08/22/2018', freq='H',closed='left'))\n",
    "                           ).astype(int)\n",
    "\n",
    "# feature for office holidays: MLK day, memorial day, 4th of july\n",
    "static_features['holiday'] = (static_features.index.isin(pd.date_range(start='01/15/2018', end='01/16/2018', freq='H',closed='left'))\n",
    "                              | static_features.index.isin(pd.date_range(start='05/28/2018', end='05/29/2018', freq='H',closed='left'))\n",
    "                              | static_features.index.isin(pd.date_range(start='07/04/2018', end='07/05/2018', freq='H',closed='left'))\n",
    "                             ).astype(int)\n",
    "\n",
    "static_features.head(3)\n",
    "\n"
   ]
  },
  {
   "cell_type": "code",
   "execution_count": 112,
   "metadata": {},
   "outputs": [
    {
     "ename": "ValueError",
     "evalue": "operands could not be broadcast together with shapes (3552,9) (42,) (3552,9) ",
     "output_type": "error",
     "traceback": [
      "\u001b[0;31m---------------------------------------------------------------------------\u001b[0m",
      "\u001b[0;31mValueError\u001b[0m                                Traceback (most recent call last)",
      "\u001b[0;32m<ipython-input-112-6a7ce41e1171>\u001b[0m in \u001b[0;36m<module>\u001b[0;34m()\u001b[0m\n\u001b[1;32m      8\u001b[0m \u001b[0my\u001b[0m \u001b[0;34m=\u001b[0m \u001b[0mlag_features\u001b[0m\u001b[0;34m.\u001b[0m\u001b[0mloc\u001b[0m\u001b[0;34m[\u001b[0m\u001b[0;34m:\u001b[0m\u001b[0;34m,\u001b[0m\u001b[0;34m'actual'\u001b[0m\u001b[0;34m]\u001b[0m\u001b[0;34m\u001b[0m\u001b[0m\n\u001b[1;32m      9\u001b[0m \u001b[0;34m\u001b[0m\u001b[0m\n\u001b[0;32m---> 10\u001b[0;31m \u001b[0mX_train\u001b[0m \u001b[0;34m=\u001b[0m \u001b[0mX_scaler\u001b[0m\u001b[0;34m.\u001b[0m\u001b[0mtransform\u001b[0m\u001b[0;34m(\u001b[0m\u001b[0mX\u001b[0m\u001b[0;34m[\u001b[0m\u001b[0;34m:\u001b[0m\u001b[0;34m'2018-05-31 23:00:00'\u001b[0m\u001b[0;34m]\u001b[0m\u001b[0;34m.\u001b[0m\u001b[0mvalues\u001b[0m\u001b[0;34m)\u001b[0m\u001b[0;34m\u001b[0m\u001b[0m\n\u001b[0m\u001b[1;32m     11\u001b[0m \u001b[0my_train\u001b[0m \u001b[0;34m=\u001b[0m \u001b[0my_scaler\u001b[0m\u001b[0;34m.\u001b[0m\u001b[0mtransform\u001b[0m\u001b[0;34m(\u001b[0m\u001b[0my\u001b[0m\u001b[0;34m[\u001b[0m\u001b[0;34m:\u001b[0m\u001b[0;34m'2018-05-31 23:00:00'\u001b[0m\u001b[0;34m]\u001b[0m\u001b[0;34m.\u001b[0m\u001b[0mvalues\u001b[0m\u001b[0;34m.\u001b[0m\u001b[0mreshape\u001b[0m\u001b[0;34m(\u001b[0m\u001b[0;34m-\u001b[0m\u001b[0;36m1\u001b[0m\u001b[0;34m,\u001b[0m \u001b[0;36m1\u001b[0m\u001b[0;34m)\u001b[0m\u001b[0;34m)\u001b[0m\u001b[0;34m\u001b[0m\u001b[0m\n\u001b[1;32m     12\u001b[0m \u001b[0;34m\u001b[0m\u001b[0m\n",
      "\u001b[0;32m~/anaconda3/lib/python3.7/site-packages/sklearn/preprocessing/data.py\u001b[0m in \u001b[0;36mtransform\u001b[0;34m(self, X, y, copy)\u001b[0m\n\u001b[1;32m    761\u001b[0m         \u001b[0;32melse\u001b[0m\u001b[0;34m:\u001b[0m\u001b[0;34m\u001b[0m\u001b[0m\n\u001b[1;32m    762\u001b[0m             \u001b[0;32mif\u001b[0m \u001b[0mself\u001b[0m\u001b[0;34m.\u001b[0m\u001b[0mwith_mean\u001b[0m\u001b[0;34m:\u001b[0m\u001b[0;34m\u001b[0m\u001b[0m\n\u001b[0;32m--> 763\u001b[0;31m                 \u001b[0mX\u001b[0m \u001b[0;34m-=\u001b[0m \u001b[0mself\u001b[0m\u001b[0;34m.\u001b[0m\u001b[0mmean_\u001b[0m\u001b[0;34m\u001b[0m\u001b[0m\n\u001b[0m\u001b[1;32m    764\u001b[0m             \u001b[0;32mif\u001b[0m \u001b[0mself\u001b[0m\u001b[0;34m.\u001b[0m\u001b[0mwith_std\u001b[0m\u001b[0;34m:\u001b[0m\u001b[0;34m\u001b[0m\u001b[0m\n\u001b[1;32m    765\u001b[0m                 \u001b[0mX\u001b[0m \u001b[0;34m/=\u001b[0m \u001b[0mself\u001b[0m\u001b[0;34m.\u001b[0m\u001b[0mscale_\u001b[0m\u001b[0;34m\u001b[0m\u001b[0m\n",
      "\u001b[0;31mValueError\u001b[0m: operands could not be broadcast together with shapes (3552,9) (42,) (3552,9) "
     ]
    }
   ],
   "source": [
    "# create lag features dataframe on which to build test rows\n",
    "lag_features = pd.DataFrame({'actual':elec.sum(axis=1)})\n",
    "for i in [1,2,3,24,25,26,48,49,50]:\n",
    "    lag_features['t-'+str(i)] = np.append(np.array([np.nan]*i),lag_features['actual'][0:len(lag_features)-i])\n",
    "lag_features = lag_features['2018-01-04 00:00:00':]\n",
    "\n",
    "X = lag_features.loc[:,'t-1':]\n",
    "y = lag_features.loc[:,'actual']\n",
    " \n",
    "X_train = X_scaler.transform(X[:'2018-05-31 23:00:00'].values)\n",
    "y_train = y_scaler.transform(y[:'2018-05-31 23:00:00'].values.reshape(-1, 1))\n",
    "\n",
    "for i in [1]:\n",
    "    # initialize the X_test, in the future this will be constructed using y_pred...\n",
    "    X_test = X[3793]\n",
    "    \n",
    "    \n",
    "    reg = LinearRegression().fit(X_train_active, y_train_active)\n",
    "    y_pred = reg.predict(X_test.reshape(1, -1))\n",
    "    "
   ]
  },
  {
   "cell_type": "code",
   "execution_count": 115,
   "metadata": {},
   "outputs": [
    {
     "data": {
      "text/plain": [
       "array([[680. , 674. , 710.2, ..., 704. , 695.8, 691.8],\n",
       "       [676.7, 680. , 674. , ..., 691.6, 704. , 695.8],\n",
       "       [662. , 676.7, 680. , ..., 643.9, 691.6, 704. ],\n",
       "       ...,\n",
       "       [886.9, 916.3, 978.4, ..., 694.7, 701.2, 811.7],\n",
       "       [835.9, 886.9, 916.3, ..., 688.7, 694.7, 701.2],\n",
       "       [765.9, 835.9, 886.9, ..., 673.3, 688.7, 694.7]])"
      ]
     },
     "execution_count": 115,
     "metadata": {},
     "output_type": "execute_result"
    }
   ],
   "source": []
  },
  {
   "cell_type": "code",
   "execution_count": null,
   "metadata": {},
   "outputs": [],
   "source": []
  },
  {
   "cell_type": "code",
   "execution_count": null,
   "metadata": {},
   "outputs": [],
   "source": []
  }
 ],
 "metadata": {
  "kernelspec": {
   "display_name": "Python 3",
   "language": "python",
   "name": "python3"
  },
  "language_info": {
   "codemirror_mode": {
    "name": "ipython",
    "version": 3
   },
   "file_extension": ".py",
   "mimetype": "text/x-python",
   "name": "python",
   "nbconvert_exporter": "python",
   "pygments_lexer": "ipython3",
   "version": "3.7.0"
  }
 },
 "nbformat": 4,
 "nbformat_minor": 2
}
