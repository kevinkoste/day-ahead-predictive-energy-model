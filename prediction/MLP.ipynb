{
 "cells": [
  {
   "cell_type": "code",
   "execution_count": 1,
   "metadata": {},
   "outputs": [],
   "source": [
    "import pandas as pd\n",
    "import numpy as np\n",
    "\n",
    "import matplotlib.pyplot as plt\n",
    "%matplotlib inline\n",
    "plt.style.use('ggplot')\n",
    "\n",
    "import tensorflow as tf\n",
    "from tensorflow.keras.models import Sequential\n",
    "from tensorflow.keras.layers import LSTM, Dense\n"
   ]
  },
  {
   "cell_type": "code",
   "execution_count": 2,
   "metadata": {},
   "outputs": [],
   "source": [
    "# read clean electricity data to create target variable array y\n",
    "elec = pd.read_csv('../data/elec_clean.csv',index_col=0)\n",
    "elec.index = pd.to_datetime(elec.index,format='%Y-%m-%d %H:00:00')\n",
    "\n",
    "# remove Davenport for now because it is missing most of June and July\n",
    "elec.drop('Davenport',axis=1,inplace=True)\n",
    "\n",
    "agg = pd.Series(elec.sum(axis=1))"
   ]
  },
  {
   "cell_type": "code",
   "execution_count": 131,
   "metadata": {},
   "outputs": [],
   "source": [
    "num_days = 20\n",
    "start = '2018-02-01 09:00:00'\n",
    "split_times = pd.date_range(start=start,freq='D',periods=num_days)\n",
    "X_train_list, y_train_list = list(), list()\n",
    "\n",
    "for k in range(num_days):\n",
    "    X_train_entry = np.array(agg[split_times[k]-pd.Timedelta(hours=168):split_times[k]-pd.Timedelta(hours=1)])\n",
    "    y_train_entry = np.array(agg[split_times[k]:split_times[k]+pd.Timedelta(hours=38)])\n",
    "    X_train_list.append(X_train_entry)\n",
    "    y_train_list.append(y_train_entry)\n",
    "\n",
    "X_train = np.array(X_train_list).reshape(num_days,168)\n",
    "y_train = np.array(y_train_list).reshape(num_days,39)"
   ]
  },
  {
   "cell_type": "code",
   "execution_count": 132,
   "metadata": {},
   "outputs": [
    {
     "data": {
      "text/plain": [
       "<tensorflow.python.keras.callbacks.History at 0xb3b564f98>"
      ]
     },
     "execution_count": 132,
     "metadata": {},
     "output_type": "execute_result"
    }
   ],
   "source": [
    "# define model\n",
    "model = Sequential()\n",
    "model.add(Dense(100, activation='relu', input_dim=168))\n",
    "model.add(Dense(39))\n",
    "model.compile(optimizer='adam', loss='mse')\n",
    "# fit model\n",
    "model.fit(X_train, y_train, epochs=200, verbose=0)"
   ]
  },
  {
   "cell_type": "code",
   "execution_count": 133,
   "metadata": {},
   "outputs": [],
   "source": [
    "# create evaluation data\n",
    "num_days = 5\n",
    "start = '2018-02-22 09:00:00'\n",
    "split_times = pd.date_range(start=start,freq='D',periods=num_days)\n",
    "X_test_list, y_test_list = list(), list()\n",
    "\n",
    "for k in range(num_days):\n",
    "    X_test_entry = np.array(agg[split_times[k]-pd.Timedelta(hours=168):split_times[k]-pd.Timedelta(hours=1)])\n",
    "    y_test_entry = np.array(agg[split_times[k]:split_times[k]+pd.Timedelta(hours=38)])\n",
    "    X_test_list.append(X_test_entry)\n",
    "    y_test_list.append(y_test_entry)\n",
    "\n",
    "X_test = np.array(X_test_list).reshape(num_days,168)\n",
    "y_test = np.array(y_test_list).reshape(num_days,39)"
   ]
  },
  {
   "cell_type": "code",
   "execution_count": 128,
   "metadata": {},
   "outputs": [
    {
     "data": {
      "text/plain": [
       "[<matplotlib.lines.Line2D at 0xb3b08f278>]"
      ]
     },
     "execution_count": 128,
     "metadata": {},
     "output_type": "execute_result"
    },
    {
     "data": {
      "image/png": "[encoded data removed]",
      "text/plain": [
       "<Figure size 432x288 with 1 Axes>"
      ]
     },
     "metadata": {
      "needs_background": "light"
     },
     "output_type": "display_data"
    }
   ],
   "source": [
    "for k in range(num_days):\n",
    "    y_pred\n",
    "\n",
    "\n",
    "\n",
    "y_pred = model.predict(X_test).reshape(39,)\n",
    "y_pred\n",
    "\n",
    "# X_test.reshape(168,)\n",
    "\n",
    "plt.plot(y_pred)\n",
    "plt.plot(y_test.reshape(39,))"
   ]
  },
  {
   "cell_type": "code",
   "execution_count": 86,
   "metadata": {},
   "outputs": [
    {
     "data": {
      "text/plain": [
       "<tensorflow.python.keras.callbacks.History at 0xb3a04d358>"
      ]
     },
     "execution_count": 86,
     "metadata": {},
     "output_type": "execute_result"
    }
   ],
   "source": [
    "# This is working!!!\n",
    "\n",
    "def split_sequence(sequence, n_steps_in, n_steps_out):\n",
    "    X, y = list(), list()\n",
    "    for i in range(len(sequence)):\n",
    "        # find the last index of this iteration to check if beyond sequence length\n",
    "        end_ix = i + n_steps_in\n",
    "        out_end_ix = end_ix + n_steps_out\n",
    "        if (i+n_steps_in+n_steps_out) > len(sequence): break\n",
    "        # gather input and output parts of the pattern\n",
    "        seq_x, seq_y = sequence[i:end_ix], sequence[end_ix:out_end_ix]\n",
    "        X.append(seq_x)\n",
    "        y.append(seq_y)  \n",
    "    return np.array(X), np.array(y)\n",
    "\n",
    "X, y = split_sequence(agg[:1000].values,168,39)\n",
    "\n",
    "model = Sequential()\n",
    "model.add(Dense(100, activation='relu', input_dim=168))\n",
    "model.add(Dense(39))\n",
    "model.compile(optimizer='adam', loss='mse')\n",
    "\n",
    "model.fit(X, y, epochs=2000, verbose=0)\n",
    "\n",
    "x_input = agg[794:(794+168)].values.reshape(1,168)\n",
    "y_pred = model.predict(x_input, verbose=0)\n",
    "\n",
    "plt.plot(agg[794:(794+168)].values)\n",
    "plt.plot(y_pred.reshape(39,))"
   ]
  },
  {
   "cell_type": "code",
   "execution_count": 114,
   "metadata": {},
   "outputs": [
    {
     "data": {
      "text/plain": [
       "(794, 39)"
      ]
     },
     "execution_count": 114,
     "metadata": {},
     "output_type": "execute_result"
    }
   ],
   "source": [
    "X.shape\n",
    "y.shape"
   ]
  },
  {
   "cell_type": "markdown",
   "metadata": {},
   "source": [
    "## Starting over"
   ]
  },
  {
   "cell_type": "code",
   "execution_count": null,
   "metadata": {},
   "outputs": [],
   "source": [
    "import pandas as pd\n",
    "import numpy as np\n",
    "\n",
    "import matplotlib.pyplot as plt\n",
    "%matplotlib inline\n",
    "plt.style.use('ggplot')\n",
    "\n",
    "import tensorflow as tf\n",
    "from tensorflow.keras.models import Sequential\n",
    "from tensorflow.keras.layers import Dense"
   ]
  },
  {
   "cell_type": "code",
   "execution_count": null,
   "metadata": {},
   "outputs": [],
   "source": [
    "# model parameters\n",
    "num_days = 20\n",
    "start = '2018-01-10 09:00:00'\n",
    "\n",
    "# initialize some useful objects for the modeling loop\n",
    "start_times = pd.date_range(start=start,freq='D',periods=num_days)\n",
    "forecasts = data.copy(deep=True)\n",
    "\n",
    "for i in range(num_days):\n",
    "    y_train = data[k].loc[start_times[i]-pd.Timedelta(hours=168):start_times[i]].values\n",
    "    \n",
    "    # train and fit the model\n",
    "    model = SARIMAX(y_train, order=trend_params,seasonal_order=seasonal_params,enforce_stationarity=False)\n",
    "    model_fit = model.fit(disp=0,maxiter=200)\n",
    "    \n",
    "    # make and store a 39-step-forward forecast\n",
    "    forecast = model_fit.forecast(steps=39)[15:]\n",
    "    \n",
    "    forecasts[k].loc[start_times[i]+pd.Timedelta(hours=15):start_times[i]+pd.Timedelta(hours=38)]=forecast"
   ]
  },
  {
   "cell_type": "code",
   "execution_count": null,
   "metadata": {},
   "outputs": [],
   "source": []
  },
  {
   "cell_type": "code",
   "execution_count": null,
   "metadata": {},
   "outputs": [],
   "source": []
  },
  {
   "cell_type": "code",
   "execution_count": null,
   "metadata": {},
   "outputs": [],
   "source": []
  },
  {
   "cell_type": "code",
   "execution_count": null,
   "metadata": {},
   "outputs": [],
   "source": []
  }
 ],
 "metadata": {
  "kernelspec": {
   "display_name": "Python 3",
   "language": "python",
   "name": "python3"
  },
  "language_info": {
   "codemirror_mode": {
    "name": "ipython",
    "version": 3
   },
   "file_extension": ".py",
   "mimetype": "text/x-python",
   "name": "python",
   "nbconvert_exporter": "python",
   "pygments_lexer": "ipython3",
   "version": "3.7.0"
  }
 },
 "nbformat": 4,
 "nbformat_minor": 2
}
