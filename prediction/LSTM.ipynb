{
 "cells": [
  {
   "cell_type": "code",
   "execution_count": 9,
   "metadata": {},
   "outputs": [],
   "source": [
    "import pandas as pd\n",
    "import numpy as np\n",
    "\n",
    "import matplotlib.pyplot as plt\n",
    "%matplotlib inline\n",
    "plt.style.use('ggplot')\n",
    "\n",
    "import tensorflow as tf\n",
    "from tensorflow.keras.models import Sequential\n",
    "from tensorflow.keras.layers import LSTM, Dense\n"
   ]
  },
  {
   "cell_type": "code",
   "execution_count": 31,
   "metadata": {},
   "outputs": [],
   "source": [
    "# read clean electricity data to create target variable array y\n",
    "elec = pd.read_csv('../data/elec_clean.csv',index_col=0)\n",
    "elec.index = pd.to_datetime(elec.index,format='%Y-%m-%d %H:00:00')\n",
    "\n",
    "# remove Davenport for now because it is missing most of June and July\n",
    "elec.drop('Davenport',axis=1,inplace=True)\n",
    "\n",
    "agg = pd.Series(elec.sum(axis=1))"
   ]
  },
  {
   "cell_type": "code",
   "execution_count": 140,
   "metadata": {},
   "outputs": [],
   "source": [
    "num_days = 20\n",
    "start = '2018-02-01 09:00:00'\n",
    "split_times = pd.date_range(start=start,freq='D',periods=num_days)\n",
    "train_list, test_list = list(), list()\n",
    "\n",
    "for k in range(num_days):\n",
    "    train_entry = np.array(agg[split_times[k]-pd.Timedelta(hours=168):split_times[k]-pd.Timedelta(hours=1)])\n",
    "    test_entry = np.array(agg[split_times[k]:split_times[k]+pd.Timedelta(hours=38)])\n",
    "    train_list.append(train_entry)\n",
    "    test_list.append(test_entry)\n",
    "\n",
    "train = np.array(train_list).reshape(num_days,168,1)\n",
    "test = np.array(test_list).reshape(num_days,39)"
   ]
  },
  {
   "cell_type": "code",
   "execution_count": 144,
   "metadata": {},
   "outputs": [
    {
     "data": {
      "text/plain": [
       "<tensorflow.python.keras.callbacks.History at 0xb3a8457f0>"
      ]
     },
     "execution_count": 144,
     "metadata": {},
     "output_type": "execute_result"
    }
   ],
   "source": [
    "# define model\n",
    "model = Sequential()\n",
    "model.add(LSTM(50, activation='relu', input_shape=(168, 1)))\n",
    "model.add(Dense(1))\n",
    "model.compile(optimizer='adam',loss='mape')\n",
    "# fit model\n",
    "model.fit(train, test, epochs=200, verbose=0)"
   ]
  },
  {
   "cell_type": "code",
   "execution_count": 145,
   "metadata": {},
   "outputs": [],
   "source": [
    "# create evaluation data\n",
    "num_days = 5\n",
    "start = '2018-02-22 09:00:00'\n",
    "split_times = pd.date_range(start=start,freq='D',periods=num_days)\n",
    "train_list, test_list = list(), list()\n",
    "\n",
    "for k in range(num_days):\n",
    "    train_entry = np.array(agg[split_times[k]-pd.Timedelta(hours=168):split_times[k]-pd.Timedelta(hours=1)])\n",
    "    test_entry = np.array(agg[split_times[k]:split_times[k]+pd.Timedelta(hours=38)])\n",
    "    train_list.append(train_entry)\n",
    "    test_list.append(test_entry)\n",
    "\n",
    "eval_train = np.array(train_list).reshape(num_days,168,1)\n",
    "eval_test = np.array(test_list).reshape(num_days,39)"
   ]
  },
  {
   "cell_type": "code",
   "execution_count": 160,
   "metadata": {},
   "outputs": [
    {
     "data": {
      "text/plain": [
       "array([[nan]], dtype=float32)"
      ]
     },
     "execution_count": 160,
     "metadata": {},
     "output_type": "execute_result"
    }
   ],
   "source": [
    "eval_train_1 = eval_train[0].reshape(1,168,1)\n",
    "\n",
    "model.predict(eval_train_1)\n"
   ]
  },
  {
   "cell_type": "code",
   "execution_count": null,
   "metadata": {},
   "outputs": [],
   "source": []
  }
 ],
 "metadata": {
  "kernelspec": {
   "display_name": "Python 3",
   "language": "python",
   "name": "python3"
  },
  "language_info": {
   "codemirror_mode": {
    "name": "ipython",
    "version": 3
   },
   "file_extension": ".py",
   "mimetype": "text/x-python",
   "name": "python",
   "nbconvert_exporter": "python",
   "pygments_lexer": "ipython3",
   "version": "3.7.0"
  }
 },
 "nbformat": 4,
 "nbformat_minor": 2
}
