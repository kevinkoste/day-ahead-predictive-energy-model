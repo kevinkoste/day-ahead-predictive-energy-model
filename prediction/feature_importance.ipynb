{
 "cells": [
  {
   "cell_type": "code",
   "execution_count": 1,
   "metadata": {},
   "outputs": [],
   "source": [
    "import pandas as pd\n",
    "import numpy as np\n",
    "\n",
    "import matplotlib.pyplot as plt\n",
    "%matplotlib inline\n",
    "plt.style.use('ggplot')\n",
    "\n",
    "# min-max scaler\n",
    "from sklearn.preprocessing import MinMaxScaler\n",
    "\n",
    "# recursive feature elimination\n",
    "from sklearn.feature_selection import RFE\n",
    "\n",
    "# estimators\n",
    "from sklearn.linear_model import LinearRegression\n",
    "from sklearn.svm import SVR\n",
    "from sklearn.neural_network import MLPRegressor\n",
    "from sklearn.tree import DecisionTreeRegressor"
   ]
  },
  {
   "cell_type": "code",
   "execution_count": 2,
   "metadata": {},
   "outputs": [],
   "source": [
    "# read clean electricity data to create target variable array y\n",
    "elec = pd.read_csv('../data/elec_clean.csv',index_col=0)\n",
    "elec.index = pd.to_datetime(elec.index,format='%Y-%m-%d %H:00:00')\n",
    "\n",
    "# remove Davenport for now because it is missing most of June and July\n",
    "elec.drop('Davenport',axis=1,inplace=True)\n",
    "\n",
    "agg = pd.DataFrame({'actual':elec.sum(axis=1)})"
   ]
  },
  {
   "cell_type": "code",
   "execution_count": 3,
   "metadata": {},
   "outputs": [],
   "source": [
    "# add lag features\n",
    "for i in [1,2,3,24,25,26,48,49,50]:\n",
    "    agg['t-'+str(i)] = np.append(np.array([np.nan]*i),agg['actual'][0:len(agg)-i])\n",
    "    \n",
    "# add day of week features\n",
    "days = ['mon','tues','wed','thurs','fri','sat','sun']\n",
    "for i in range(7):\n",
    "    agg[days[i]] = (np.array([i]*len(agg))==np.asarray(agg.index.dayofweek)).astype(int)\n",
    "    \n",
    "# add hour of day features\n",
    "for i in range(12):\n",
    "    agg[str(i)+'am'] = (np.array([i]*len(agg))==np.asarray(agg.index.hour)).astype(int)\n",
    "for i in range(12,24):\n",
    "    agg[str(i-12)+'pm'] = (np.array([i]*len(agg))==np.asarray(agg.index.hour)).astype(int)\n",
    "agg = agg.rename({'0am':'12am','0pm':'12pm'},axis=1)\n",
    "\n",
    "# feature for school breaks\n",
    "agg['break'] = (agg.index.isin(pd.date_range(start='01/01/2018', end='01/15/2018', freq='H',closed='left'))\n",
    "                | agg.index.isin(pd.date_range(start='03/10/2018', end='03/25/2018', freq='H',closed='left'))\n",
    "                | agg.index.isin(pd.date_range(start='05/10/2018', end='08/22/2018', freq='H',closed='left'))\n",
    "               ).astype(int)\n",
    "\n",
    "# feature for office holidays: MLK day, memorial day, 4th of july\n",
    "agg['holiday'] = (agg.index.isin(pd.date_range(start='01/15/2018', end='01/16/2018', freq='H',closed='left'))\n",
    "                  | agg.index.isin(pd.date_range(start='05/28/2018', end='05/29/2018', freq='H',closed='left'))\n",
    "                  | agg.index.isin(pd.date_range(start='07/04/2018', end='07/05/2018', freq='H',closed='left'))\n",
    "                 ).astype(int)\n",
    "\n",
    "# trim NaNs from lag calculation\n",
    "data = agg['2018-01-04 00:00:00':]"
   ]
  },
  {
   "cell_type": "code",
   "execution_count": 4,
   "metadata": {},
   "outputs": [
    {
     "data": {
      "text/plain": [
       "<matplotlib.axes._subplots.AxesSubplot at 0x1a1de0ce48>"
      ]
     },
     "execution_count": 4,
     "metadata": {},
     "output_type": "execute_result"
    },
    {
     "data": {
      "image/png": "[encoded data removed]",
      "text/plain": [
       "<Figure size 1296x360 with 1 Axes>"
      ]
     },
     "metadata": {
      "needs_background": "light"
     },
     "output_type": "display_data"
    }
   ],
   "source": [
    "X = data.loc[:,'t-1':].values\n",
    "y = data.loc[:,'actual'].values.reshape(-1, 1)\n",
    "\n",
    "X_scaler = MinMaxScaler().fit(X)\n",
    "y_scaler = MinMaxScaler().fit(y)\n",
    "\n",
    "X_rfe = X_scaler.transform(X)\n",
    "y_rfe = y_scaler.transform(y).ravel()\n",
    "\n",
    "model_names = ['Linear Regression','Support Vector Regression','Decision Tree Regression']\n",
    "models = [LinearRegression(),SVR(kernel='linear'),DecisionTreeRegressor()]\n",
    "results = pd.DataFrame(index=data.loc[:,'t-1':].columns)\n",
    "\n",
    "for i in range(len(models)):\n",
    "    rfe = RFE(models[i], 1)\n",
    "    rfe = rfe.fit(X_rfe, y_rfe)\n",
    "    results[model_names[i]] = rfe.ranking_\n",
    "    \n",
    "results['Cumulative Score'] = results.sum(axis=1)\n",
    "results['Cumulative Score'].plot(kind='bar',figsize=(18,5))"
   ]
  },
  {
   "cell_type": "code",
   "execution_count": null,
   "metadata": {},
   "outputs": [],
   "source": []
  }
 ],
 "metadata": {
  "kernelspec": {
   "display_name": "Python 3",
   "language": "python",
   "name": "python3"
  },
  "language_info": {
   "codemirror_mode": {
    "name": "ipython",
    "version": 3
   },
   "file_extension": ".py",
   "mimetype": "text/x-python",
   "name": "python",
   "nbconvert_exporter": "python",
   "pygments_lexer": "ipython3",
   "version": "3.7.0"
  }
 },
 "nbformat": 4,
 "nbformat_minor": 2
}
