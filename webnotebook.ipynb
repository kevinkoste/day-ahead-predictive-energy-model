{
 "cells": [
  {
   "cell_type": "code",
   "execution_count": 137,
   "metadata": {},
   "outputs": [],
   "source": [
    "import numpy as np\n",
    "import pandas as pd\n",
    "import datetime as dt\n",
    "\n",
    "import dash\n",
    "import dash_core_components as dcc\n",
    "import dash_html_components as html\n",
    "import plotly.graph_objs as go\n",
    "from plotly.subplots import make_subplots\n",
    "\n",
    "from src.forecasting.errors import mape"
   ]
  },
  {
   "cell_type": "code",
   "execution_count": 139,
   "metadata": {},
   "outputs": [],
   "source": [
    "# read and initialize data for plots\n",
    "date = dt.datetime.now().date()\n",
    "time = dt.datetime.now().hour\n",
    "\n",
    "results = pd.read_csv('data/forecasts/'+str(date)+'.csv',index_col=0,header=[0,1],date_parser=pd.to_datetime)\n",
    "data = results.iloc[14:]\n",
    "\n",
    "clusters = list(data.columns.get_level_values(0).unique())\n",
    "models = list(data.columns.get_level_values(1).unique())\n",
    "models.remove('actual')\n",
    "\n",
    "# calculate mean absolute percentage errors for each forecast\n",
    "mapes = {}\n",
    "for cluster in clusters:\n",
    "    mapes[cluster] = {}\n",
    "    for model in models:\n",
    "        mapes[cluster][model] = np.round(mape(data[cluster]['actual'],data[cluster][model]),3)"
   ]
  },
  {
   "cell_type": "code",
   "execution_count": 148,
   "metadata": {},
   "outputs": [],
   "source": [
    "def LoadShapePlot(plotdata, **kwargs):\n",
    "    \"\"\"\n",
    "    Takes a pandas.Series and returns a Plotly Scatter object with custom attributes\n",
    "    kwargs are passed to plotly.graph_objs.Scatter\n",
    "    \"\"\"\n",
    "    trace = go.Scatter(x=plotdata.index,y=plotdata.values,\n",
    "                       mode='lines',\n",
    "                       hoverinfo='x+y',\n",
    "                       **kwargs)\n",
    "    return trace"
   ]
  },
  {
   "cell_type": "code",
   "execution_count": null,
   "metadata": {},
   "outputs": [],
   "source": [
    "# generate primary (aggregate load) figure\n",
    "aggfig = go.Figure([LoadShapePlot(data['aggregate','actual'].iloc[:time]),\n",
    "                    LoadShapePlot(data['aggregate','sarimax']),\n",
    "                    LoadShapePlot(data['aggregate','mlp'])\n",
    "                   ])\n",
    "aggfig.update_layout(showlegend=False)\n",
    "\n"
   ]
  },
  {
   "cell_type": "code",
   "execution_count": 157,
   "metadata": {},
   "outputs": [
    {
     "data": {
      "text/plain": [
       "<dash.dash.Dash at 0x121422278>"
      ]
     },
     "execution_count": 157,
     "metadata": {},
     "output_type": "execute_result"
    }
   ],
   "source": [
    "\n",
    "# initialize Dash app\n",
    "app = dash.Dash()\n",
    "\n",
    "styleDict = {\n",
    "    'fontFamily':['Avenir','Arial'],\n",
    "    'backgroundColor':'#FFFFFF',\n",
    "    'color': '#111111',\n",
    "    'textAlign':'center'\n",
    "}\n",
    "\n",
    "app.layout = html.Div(style=styleDict, children=[\n",
    "    html.H1(\n",
    "        children='University Load Forecasting:',\n",
    "    ),\n",
    "    html.Div(\n",
    "        children=\"Applications of Deep Learning and Load-Shape Clustering\"\n",
    "    ),\n",
    "    dcc.Graph(\n",
    "        id='AggGraph',\n",
    "        style={'width':800, 'height':500},\n",
    "        figure=aggfig,\n",
    "        config={\n",
    "            # 'staticPlot': True,\n",
    "            # 'modeBarButtons': [['pan2d','zoom2d']],\n",
    "            'displaylogo': False,\n",
    "            'showTips': False,\n",
    "            'scrollZoom': False,\n",
    "            'displayModeBar':False\n",
    "        },\n",
    "    ),\n",
    "])\n",
    "\n",
    "# if __name__ == '__main__':\n",
    "#     app.server.run(port=8000, host='127.0.0.1', debug=True)\n",
    "#     app.run_server(debug=True)"
   ]
  },
  {
   "cell_type": "code",
   "execution_count": null,
   "metadata": {},
   "outputs": [],
   "source": []
  },
  {
   "cell_type": "code",
   "execution_count": 64,
   "metadata": {},
   "outputs": [],
   "source": []
  },
  {
   "cell_type": "code",
   "execution_count": null,
   "metadata": {},
   "outputs": [],
   "source": []
  }
 ],
 "metadata": {
  "kernelspec": {
   "display_name": "Python 3",
   "language": "python",
   "name": "python3"
  },
  "language_info": {
   "codemirror_mode": {
    "name": "ipython",
    "version": 3
   },
   "file_extension": ".py",
   "mimetype": "text/x-python",
   "name": "python",
   "nbconvert_exporter": "python",
   "pygments_lexer": "ipython3",
   "version": "3.7.2"
  }
 },
 "nbformat": 4,
 "nbformat_minor": 2
}
