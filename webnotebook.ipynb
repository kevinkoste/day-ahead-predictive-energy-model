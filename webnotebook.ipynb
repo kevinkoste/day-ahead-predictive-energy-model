{
 "cells": [
  {
   "cell_type": "code",
   "execution_count": 60,
   "metadata": {},
   "outputs": [],
   "source": [
    "import dash\n",
    "import dash_core_components as dcc\n",
    "import dash_html_components as html\n",
    "\n",
    "import plotly.graph_objs as go\n",
    "from plotly.subplots import make_subplots\n",
    "\n",
    "import pandas as pd\n",
    "import datetime as dt"
   ]
  },
  {
   "cell_type": "code",
   "execution_count": 76,
   "metadata": {},
   "outputs": [
    {
     "data": {
      "application/vnd.plotly.v1+json": {
       "config": {
        "plotlyServerURL": "https://plot.ly"
       },
       "data": [
        {
         "hoverinfo": "x+y",
         "type": "scatter",
         "x": [
          "2015-11-03T00:00:00",
          "2015-11-03T01:00:00",
          "2015-11-03T02:00:00",
          "2015-11-03T03:00:00",
          "2015-11-03T04:00:00",
          "2015-11-03T05:00:00",
          "2015-11-03T06:00:00",
          "2015-11-03T07:00:00",
          "2015-11-03T08:00:00",
          "2015-11-03T09:00:00",
          "2015-11-03T10:00:00",
          "2015-11-03T11:00:00",
          "2015-11-03T12:00:00",
          "2015-11-03T13:00:00",
          "2015-11-03T14:00:00",
          "2015-11-03T15:00:00",
          "2015-11-03T16:00:00",
          "2015-11-03T17:00:00",
          "2015-11-03T18:00:00",
          "2015-11-03T19:00:00",
          "2015-11-03T20:00:00"
         ],
         "xaxis": "x",
         "y": [
          19000.29,
          18652.67,
          18079.44,
          17651.46,
          17014.0275,
          16189.3825,
          15922.19,
          15379.8,
          15029.250000000002,
          15037.1,
          14890.78,
          14939.66,
          15330.29,
          16166.37,
          16543.53,
          17575.699999999993,
          18503.33,
          19139.65,
          19460.230000000003,
          19687.5,
          19899.8
         ],
         "yaxis": "y"
        },
        {
         "hoverinfo": "x+y",
         "mode": "lines",
         "type": "scatter",
         "x": [
          "2015-11-03T00:00:00",
          "2015-11-03T01:00:00",
          "2015-11-03T02:00:00",
          "2015-11-03T03:00:00",
          "2015-11-03T04:00:00",
          "2015-11-03T05:00:00",
          "2015-11-03T06:00:00",
          "2015-11-03T07:00:00",
          "2015-11-03T08:00:00",
          "2015-11-03T09:00:00",
          "2015-11-03T10:00:00",
          "2015-11-03T11:00:00",
          "2015-11-03T12:00:00",
          "2015-11-03T13:00:00",
          "2015-11-03T14:00:00",
          "2015-11-03T15:00:00",
          "2015-11-03T16:00:00",
          "2015-11-03T17:00:00",
          "2015-11-03T18:00:00",
          "2015-11-03T19:00:00",
          "2015-11-03T20:00:00",
          "2015-11-03T21:00:00",
          "2015-11-03T22:00:00",
          "2015-11-03T23:00:00"
         ],
         "xaxis": "x",
         "y": [
          17519.844609728552,
          17421.686286156997,
          17224.94418741715,
          16918.764629219742,
          16587.264325038603,
          16215.583620949123,
          15891.647108954423,
          15660.803393878283,
          15499.076914258318,
          15546.490789482827,
          15915.440183458672,
          16061.965289363454,
          16413.16205601609,
          16794.182305178507,
          16991.488320522392,
          17358.203676695684,
          17827.056867865915,
          18194.593157292915,
          18286.626965271986,
          18436.047701373278,
          18580.83488457699,
          18638.493204528582,
          18761.82986743089,
          18616.358915306908
         ],
         "yaxis": "y"
        },
        {
         "hoverinfo": "x+y",
         "type": "scatter",
         "x": [
          "2015-11-03T00:00:00",
          "2015-11-03T01:00:00",
          "2015-11-03T02:00:00",
          "2015-11-03T03:00:00",
          "2015-11-03T04:00:00",
          "2015-11-03T05:00:00",
          "2015-11-03T06:00:00",
          "2015-11-03T07:00:00",
          "2015-11-03T08:00:00",
          "2015-11-03T09:00:00",
          "2015-11-03T10:00:00",
          "2015-11-03T11:00:00",
          "2015-11-03T12:00:00",
          "2015-11-03T13:00:00",
          "2015-11-03T14:00:00",
          "2015-11-03T15:00:00",
          "2015-11-03T16:00:00",
          "2015-11-03T17:00:00",
          "2015-11-03T18:00:00",
          "2015-11-03T19:00:00",
          "2015-11-03T20:00:00"
         ],
         "xaxis": "x2",
         "y": [
          19000.29,
          18652.67,
          18079.44,
          17651.46,
          17014.0275,
          16189.3825,
          15922.19,
          15379.8,
          15029.250000000002,
          15037.1,
          14890.78,
          14939.66,
          15330.29,
          16166.37,
          16543.53,
          17575.699999999993,
          18503.33,
          19139.65,
          19460.230000000003,
          19687.5,
          19899.8
         ],
         "yaxis": "y2"
        },
        {
         "hoverinfo": "x+y",
         "mode": "lines",
         "type": "scatter",
         "x": [
          "2015-11-03T00:00:00",
          "2015-11-03T01:00:00",
          "2015-11-03T02:00:00",
          "2015-11-03T03:00:00",
          "2015-11-03T04:00:00",
          "2015-11-03T05:00:00",
          "2015-11-03T06:00:00",
          "2015-11-03T07:00:00",
          "2015-11-03T08:00:00",
          "2015-11-03T09:00:00",
          "2015-11-03T10:00:00",
          "2015-11-03T11:00:00",
          "2015-11-03T12:00:00",
          "2015-11-03T13:00:00",
          "2015-11-03T14:00:00",
          "2015-11-03T15:00:00",
          "2015-11-03T16:00:00",
          "2015-11-03T17:00:00",
          "2015-11-03T18:00:00",
          "2015-11-03T19:00:00",
          "2015-11-03T20:00:00",
          "2015-11-03T21:00:00",
          "2015-11-03T22:00:00",
          "2015-11-03T23:00:00"
         ],
         "xaxis": "x2",
         "y": [
          17519.844609728552,
          17421.686286156997,
          17224.94418741715,
          16918.764629219742,
          16587.264325038603,
          16215.583620949123,
          15891.647108954423,
          15660.803393878283,
          15499.076914258318,
          15546.490789482827,
          15915.440183458672,
          16061.965289363454,
          16413.16205601609,
          16794.182305178507,
          16991.488320522392,
          17358.203676695684,
          17827.056867865915,
          18194.593157292915,
          18286.626965271986,
          18436.047701373278,
          18580.83488457699,
          18638.493204528582,
          18761.82986743089,
          18616.358915306908
         ],
         "yaxis": "y2"
        }
       ],
       "layout": {
        "annotations": [
         {
          "font": {
           "size": 16
          },
          "showarrow": false,
          "text": "Aggregate",
          "x": 0.225,
          "xanchor": "center",
          "xref": "paper",
          "y": 1,
          "yanchor": "bottom",
          "yref": "paper"
         },
         {
          "font": {
           "size": 16
          },
          "showarrow": false,
          "text": "Cluster 1",
          "x": 0.775,
          "xanchor": "center",
          "xref": "paper",
          "y": 1,
          "yanchor": "bottom",
          "yref": "paper"
         }
        ],
        "showlegend": false,
        "template": {
         "data": {
          "bar": [
           {
            "error_x": {
             "color": "#2a3f5f"
            },
            "error_y": {
             "color": "#2a3f5f"
            },
            "marker": {
             "line": {
              "color": "#E5ECF6",
              "width": 0.5
             }
            },
            "type": "bar"
           }
          ],
          "barpolar": [
           {
            "marker": {
             "line": {
              "color": "#E5ECF6",
              "width": 0.5
             }
            },
            "type": "barpolar"
           }
          ],
          "carpet": [
           {
            "aaxis": {
             "endlinecolor": "#2a3f5f",
             "gridcolor": "white",
             "linecolor": "white",
             "minorgridcolor": "white",
             "startlinecolor": "#2a3f5f"
            },
            "baxis": {
             "endlinecolor": "#2a3f5f",
             "gridcolor": "white",
             "linecolor": "white",
             "minorgridcolor": "white",
             "startlinecolor": "#2a3f5f"
            },
            "type": "carpet"
           }
          ],
          "choropleth": [
           {
            "colorbar": {
             "outlinewidth": 0,
             "ticks": ""
            },
            "type": "choropleth"
           }
          ],
          "contour": [
           {
            "colorbar": {
             "outlinewidth": 0,
             "ticks": ""
            },
            "colorscale": [
             [
              0,
              "#0d0887"
             ],
             [
              0.1111111111111111,
              "#46039f"
             ],
             [
              0.2222222222222222,
              "#7201a8"
             ],
             [
              0.3333333333333333,
              "#9c179e"
             ],
             [
              0.4444444444444444,
              "#bd3786"
             ],
             [
              0.5555555555555556,
              "#d8576b"
             ],
             [
              0.6666666666666666,
              "#ed7953"
             ],
             [
              0.7777777777777778,
              "#fb9f3a"
             ],
             [
              0.8888888888888888,
              "#fdca26"
             ],
             [
              1,
              "#f0f921"
             ]
            ],
            "type": "contour"
           }
          ],
          "contourcarpet": [
           {
            "colorbar": {
             "outlinewidth": 0,
             "ticks": ""
            },
            "type": "contourcarpet"
           }
          ],
          "heatmap": [
           {
            "colorbar": {
             "outlinewidth": 0,
             "ticks": ""
            },
            "colorscale": [
             [
              0,
              "#0d0887"
             ],
             [
              0.1111111111111111,
              "#46039f"
             ],
             [
              0.2222222222222222,
              "#7201a8"
             ],
             [
              0.3333333333333333,
              "#9c179e"
             ],
             [
              0.4444444444444444,
              "#bd3786"
             ],
             [
              0.5555555555555556,
              "#d8576b"
             ],
             [
              0.6666666666666666,
              "#ed7953"
             ],
             [
              0.7777777777777778,
              "#fb9f3a"
             ],
             [
              0.8888888888888888,
              "#fdca26"
             ],
             [
              1,
              "#f0f921"
             ]
            ],
            "type": "heatmap"
           }
          ],
          "heatmapgl": [
           {
            "colorbar": {
             "outlinewidth": 0,
             "ticks": ""
            },
            "colorscale": [
             [
              0,
              "#0d0887"
             ],
             [
              0.1111111111111111,
              "#46039f"
             ],
             [
              0.2222222222222222,
              "#7201a8"
             ],
             [
              0.3333333333333333,
              "#9c179e"
             ],
             [
              0.4444444444444444,
              "#bd3786"
             ],
             [
              0.5555555555555556,
              "#d8576b"
             ],
             [
              0.6666666666666666,
              "#ed7953"
             ],
             [
              0.7777777777777778,
              "#fb9f3a"
             ],
             [
              0.8888888888888888,
              "#fdca26"
             ],
             [
              1,
              "#f0f921"
             ]
            ],
            "type": "heatmapgl"
           }
          ],
          "histogram": [
           {
            "marker": {
             "colorbar": {
              "outlinewidth": 0,
              "ticks": ""
             }
            },
            "type": "histogram"
           }
          ],
          "histogram2d": [
           {
            "colorbar": {
             "outlinewidth": 0,
             "ticks": ""
            },
            "colorscale": [
             [
              0,
              "#0d0887"
             ],
             [
              0.1111111111111111,
              "#46039f"
             ],
             [
              0.2222222222222222,
              "#7201a8"
             ],
             [
              0.3333333333333333,
              "#9c179e"
             ],
             [
              0.4444444444444444,
              "#bd3786"
             ],
             [
              0.5555555555555556,
              "#d8576b"
             ],
             [
              0.6666666666666666,
              "#ed7953"
             ],
             [
              0.7777777777777778,
              "#fb9f3a"
             ],
             [
              0.8888888888888888,
              "#fdca26"
             ],
             [
              1,
              "#f0f921"
             ]
            ],
            "type": "histogram2d"
           }
          ],
          "histogram2dcontour": [
           {
            "colorbar": {
             "outlinewidth": 0,
             "ticks": ""
            },
            "colorscale": [
             [
              0,
              "#0d0887"
             ],
             [
              0.1111111111111111,
              "#46039f"
             ],
             [
              0.2222222222222222,
              "#7201a8"
             ],
             [
              0.3333333333333333,
              "#9c179e"
             ],
             [
              0.4444444444444444,
              "#bd3786"
             ],
             [
              0.5555555555555556,
              "#d8576b"
             ],
             [
              0.6666666666666666,
              "#ed7953"
             ],
             [
              0.7777777777777778,
              "#fb9f3a"
             ],
             [
              0.8888888888888888,
              "#fdca26"
             ],
             [
              1,
              "#f0f921"
             ]
            ],
            "type": "histogram2dcontour"
           }
          ],
          "mesh3d": [
           {
            "colorbar": {
             "outlinewidth": 0,
             "ticks": ""
            },
            "type": "mesh3d"
           }
          ],
          "parcoords": [
           {
            "line": {
             "colorbar": {
              "outlinewidth": 0,
              "ticks": ""
             }
            },
            "type": "parcoords"
           }
          ],
          "scatter": [
           {
            "marker": {
             "colorbar": {
              "outlinewidth": 0,
              "ticks": ""
             }
            },
            "type": "scatter"
           }
          ],
          "scatter3d": [
           {
            "line": {
             "colorbar": {
              "outlinewidth": 0,
              "ticks": ""
             }
            },
            "marker": {
             "colorbar": {
              "outlinewidth": 0,
              "ticks": ""
             }
            },
            "type": "scatter3d"
           }
          ],
          "scattercarpet": [
           {
            "marker": {
             "colorbar": {
              "outlinewidth": 0,
              "ticks": ""
             }
            },
            "type": "scattercarpet"
           }
          ],
          "scattergeo": [
           {
            "marker": {
             "colorbar": {
              "outlinewidth": 0,
              "ticks": ""
             }
            },
            "type": "scattergeo"
           }
          ],
          "scattergl": [
           {
            "marker": {
             "colorbar": {
              "outlinewidth": 0,
              "ticks": ""
             }
            },
            "type": "scattergl"
           }
          ],
          "scattermapbox": [
           {
            "marker": {
             "colorbar": {
              "outlinewidth": 0,
              "ticks": ""
             }
            },
            "type": "scattermapbox"
           }
          ],
          "scatterpolar": [
           {
            "marker": {
             "colorbar": {
              "outlinewidth": 0,
              "ticks": ""
             }
            },
            "type": "scatterpolar"
           }
          ],
          "scatterpolargl": [
           {
            "marker": {
             "colorbar": {
              "outlinewidth": 0,
              "ticks": ""
             }
            },
            "type": "scatterpolargl"
           }
          ],
          "scatterternary": [
           {
            "marker": {
             "colorbar": {
              "outlinewidth": 0,
              "ticks": ""
             }
            },
            "type": "scatterternary"
           }
          ],
          "surface": [
           {
            "colorbar": {
             "outlinewidth": 0,
             "ticks": ""
            },
            "colorscale": [
             [
              0,
              "#0d0887"
             ],
             [
              0.1111111111111111,
              "#46039f"
             ],
             [
              0.2222222222222222,
              "#7201a8"
             ],
             [
              0.3333333333333333,
              "#9c179e"
             ],
             [
              0.4444444444444444,
              "#bd3786"
             ],
             [
              0.5555555555555556,
              "#d8576b"
             ],
             [
              0.6666666666666666,
              "#ed7953"
             ],
             [
              0.7777777777777778,
              "#fb9f3a"
             ],
             [
              0.8888888888888888,
              "#fdca26"
             ],
             [
              1,
              "#f0f921"
             ]
            ],
            "type": "surface"
           }
          ],
          "table": [
           {
            "cells": {
             "fill": {
              "color": "#EBF0F8"
             },
             "line": {
              "color": "white"
             }
            },
            "header": {
             "fill": {
              "color": "#C8D4E3"
             },
             "line": {
              "color": "white"
             }
            },
            "type": "table"
           }
          ]
         },
         "layout": {
          "annotationdefaults": {
           "arrowcolor": "#2a3f5f",
           "arrowhead": 0,
           "arrowwidth": 1
          },
          "colorscale": {
           "diverging": [
            [
             0,
             "#8e0152"
            ],
            [
             0.1,
             "#c51b7d"
            ],
            [
             0.2,
             "#de77ae"
            ],
            [
             0.3,
             "#f1b6da"
            ],
            [
             0.4,
             "#fde0ef"
            ],
            [
             0.5,
             "#f7f7f7"
            ],
            [
             0.6,
             "#e6f5d0"
            ],
            [
             0.7,
             "#b8e186"
            ],
            [
             0.8,
             "#7fbc41"
            ],
            [
             0.9,
             "#4d9221"
            ],
            [
             1,
             "#276419"
            ]
           ],
           "sequential": [
            [
             0,
             "#0d0887"
            ],
            [
             0.1111111111111111,
             "#46039f"
            ],
            [
             0.2222222222222222,
             "#7201a8"
            ],
            [
             0.3333333333333333,
             "#9c179e"
            ],
            [
             0.4444444444444444,
             "#bd3786"
            ],
            [
             0.5555555555555556,
             "#d8576b"
            ],
            [
             0.6666666666666666,
             "#ed7953"
            ],
            [
             0.7777777777777778,
             "#fb9f3a"
            ],
            [
             0.8888888888888888,
             "#fdca26"
            ],
            [
             1,
             "#f0f921"
            ]
           ],
           "sequentialminus": [
            [
             0,
             "#0d0887"
            ],
            [
             0.1111111111111111,
             "#46039f"
            ],
            [
             0.2222222222222222,
             "#7201a8"
            ],
            [
             0.3333333333333333,
             "#9c179e"
            ],
            [
             0.4444444444444444,
             "#bd3786"
            ],
            [
             0.5555555555555556,
             "#d8576b"
            ],
            [
             0.6666666666666666,
             "#ed7953"
            ],
            [
             0.7777777777777778,
             "#fb9f3a"
            ],
            [
             0.8888888888888888,
             "#fdca26"
            ],
            [
             1,
             "#f0f921"
            ]
           ]
          },
          "colorway": [
           "#636efa",
           "#EF553B",
           "#00cc96",
           "#ab63fa",
           "#FFA15A",
           "#19d3f3",
           "#FF6692",
           "#B6E880",
           "#FF97FF",
           "#FECB52"
          ],
          "font": {
           "color": "#2a3f5f"
          },
          "geo": {
           "bgcolor": "white",
           "lakecolor": "white",
           "landcolor": "#E5ECF6",
           "showlakes": true,
           "showland": true,
           "subunitcolor": "white"
          },
          "hoverlabel": {
           "align": "left"
          },
          "hovermode": "closest",
          "mapbox": {
           "style": "light"
          },
          "paper_bgcolor": "white",
          "plot_bgcolor": "#E5ECF6",
          "polar": {
           "angularaxis": {
            "gridcolor": "white",
            "linecolor": "white",
            "ticks": ""
           },
           "bgcolor": "#E5ECF6",
           "radialaxis": {
            "gridcolor": "white",
            "linecolor": "white",
            "ticks": ""
           }
          },
          "scene": {
           "xaxis": {
            "backgroundcolor": "#E5ECF6",
            "gridcolor": "white",
            "gridwidth": 2,
            "linecolor": "white",
            "showbackground": true,
            "ticks": "",
            "zerolinecolor": "white"
           },
           "yaxis": {
            "backgroundcolor": "#E5ECF6",
            "gridcolor": "white",
            "gridwidth": 2,
            "linecolor": "white",
            "showbackground": true,
            "ticks": "",
            "zerolinecolor": "white"
           },
           "zaxis": {
            "backgroundcolor": "#E5ECF6",
            "gridcolor": "white",
            "gridwidth": 2,
            "linecolor": "white",
            "showbackground": true,
            "ticks": "",
            "zerolinecolor": "white"
           }
          },
          "shapedefaults": {
           "line": {
            "color": "#2a3f5f"
           }
          },
          "ternary": {
           "aaxis": {
            "gridcolor": "white",
            "linecolor": "white",
            "ticks": ""
           },
           "baxis": {
            "gridcolor": "white",
            "linecolor": "white",
            "ticks": ""
           },
           "bgcolor": "#E5ECF6",
           "caxis": {
            "gridcolor": "white",
            "linecolor": "white",
            "ticks": ""
           }
          },
          "title": {
           "x": 0.05
          },
          "xaxis": {
           "automargin": true,
           "gridcolor": "white",
           "linecolor": "white",
           "ticks": "",
           "zerolinecolor": "white",
           "zerolinewidth": 2
          },
          "yaxis": {
           "automargin": true,
           "gridcolor": "white",
           "linecolor": "white",
           "ticks": "",
           "zerolinecolor": "white",
           "zerolinewidth": 2
          }
         }
        },
        "xaxis": {
         "anchor": "y",
         "domain": [
          0,
          0.45
         ]
        },
        "xaxis2": {
         "anchor": "y2",
         "domain": [
          0.55,
          1
         ]
        },
        "yaxis": {
         "anchor": "x",
         "domain": [
          0,
          1
         ]
        },
        "yaxis2": {
         "anchor": "x2",
         "domain": [
          0,
          1
         ]
        }
       }
      },
      "text/html": [
       "<div>\n",
       "        \n",
       "        \n",
       "            <div id=\"9640ab0e-f139-481e-9af7-7b80099735dd\" class=\"plotly-graph-div\" style=\"height:525px; width:100%;\"></div>\n",
       "            <script type=\"text/javascript\">\n",
       "                require([\"plotly\"], function(Plotly) {\n",
       "                    window.PLOTLYENV=window.PLOTLYENV || {};\n",
       "                    \n",
       "                if (document.getElementById(\"9640ab0e-f139-481e-9af7-7b80099735dd\")) {\n",
       "                    Plotly.newPlot(\n",
       "                        '9640ab0e-f139-481e-9af7-7b80099735dd',\n",
       "                        [{\"hoverinfo\": \"x+y\", \"type\": \"scatter\", \"x\": [\"2015-11-03T00:00:00\", \"2015-11-03T01:00:00\", \"2015-11-03T02:00:00\", \"2015-11-03T03:00:00\", \"2015-11-03T04:00:00\", \"2015-11-03T05:00:00\", \"2015-11-03T06:00:00\", \"2015-11-03T07:00:00\", \"2015-11-03T08:00:00\", \"2015-11-03T09:00:00\", \"2015-11-03T10:00:00\", \"2015-11-03T11:00:00\", \"2015-11-03T12:00:00\", \"2015-11-03T13:00:00\", \"2015-11-03T14:00:00\", \"2015-11-03T15:00:00\", \"2015-11-03T16:00:00\", \"2015-11-03T17:00:00\", \"2015-11-03T18:00:00\", \"2015-11-03T19:00:00\", \"2015-11-03T20:00:00\"], \"xaxis\": \"x\", \"y\": [19000.29, 18652.67, 18079.44, 17651.46, 17014.0275, 16189.3825, 15922.19, 15379.8, 15029.250000000002, 15037.1, 14890.78, 14939.66, 15330.29, 16166.37, 16543.53, 17575.699999999993, 18503.33, 19139.65, 19460.230000000003, 19687.5, 19899.8], \"yaxis\": \"y\"}, {\"hoverinfo\": \"x+y\", \"mode\": \"lines\", \"type\": \"scatter\", \"x\": [\"2015-11-03T00:00:00\", \"2015-11-03T01:00:00\", \"2015-11-03T02:00:00\", \"2015-11-03T03:00:00\", \"2015-11-03T04:00:00\", \"2015-11-03T05:00:00\", \"2015-11-03T06:00:00\", \"2015-11-03T07:00:00\", \"2015-11-03T08:00:00\", \"2015-11-03T09:00:00\", \"2015-11-03T10:00:00\", \"2015-11-03T11:00:00\", \"2015-11-03T12:00:00\", \"2015-11-03T13:00:00\", \"2015-11-03T14:00:00\", \"2015-11-03T15:00:00\", \"2015-11-03T16:00:00\", \"2015-11-03T17:00:00\", \"2015-11-03T18:00:00\", \"2015-11-03T19:00:00\", \"2015-11-03T20:00:00\", \"2015-11-03T21:00:00\", \"2015-11-03T22:00:00\", \"2015-11-03T23:00:00\"], \"xaxis\": \"x\", \"y\": [17519.844609728552, 17421.686286156997, 17224.94418741715, 16918.764629219742, 16587.264325038603, 16215.583620949123, 15891.647108954423, 15660.803393878283, 15499.076914258318, 15546.490789482827, 15915.440183458672, 16061.965289363454, 16413.16205601609, 16794.182305178507, 16991.488320522392, 17358.203676695684, 17827.056867865915, 18194.593157292915, 18286.626965271986, 18436.047701373278, 18580.83488457699, 18638.493204528582, 18761.82986743089, 18616.358915306908], \"yaxis\": \"y\"}, {\"hoverinfo\": \"x+y\", \"type\": \"scatter\", \"x\": [\"2015-11-03T00:00:00\", \"2015-11-03T01:00:00\", \"2015-11-03T02:00:00\", \"2015-11-03T03:00:00\", \"2015-11-03T04:00:00\", \"2015-11-03T05:00:00\", \"2015-11-03T06:00:00\", \"2015-11-03T07:00:00\", \"2015-11-03T08:00:00\", \"2015-11-03T09:00:00\", \"2015-11-03T10:00:00\", \"2015-11-03T11:00:00\", \"2015-11-03T12:00:00\", \"2015-11-03T13:00:00\", \"2015-11-03T14:00:00\", \"2015-11-03T15:00:00\", \"2015-11-03T16:00:00\", \"2015-11-03T17:00:00\", \"2015-11-03T18:00:00\", \"2015-11-03T19:00:00\", \"2015-11-03T20:00:00\"], \"xaxis\": \"x2\", \"y\": [19000.29, 18652.67, 18079.44, 17651.46, 17014.0275, 16189.3825, 15922.19, 15379.8, 15029.250000000002, 15037.1, 14890.78, 14939.66, 15330.29, 16166.37, 16543.53, 17575.699999999993, 18503.33, 19139.65, 19460.230000000003, 19687.5, 19899.8], \"yaxis\": \"y2\"}, {\"hoverinfo\": \"x+y\", \"mode\": \"lines\", \"type\": \"scatter\", \"x\": [\"2015-11-03T00:00:00\", \"2015-11-03T01:00:00\", \"2015-11-03T02:00:00\", \"2015-11-03T03:00:00\", \"2015-11-03T04:00:00\", \"2015-11-03T05:00:00\", \"2015-11-03T06:00:00\", \"2015-11-03T07:00:00\", \"2015-11-03T08:00:00\", \"2015-11-03T09:00:00\", \"2015-11-03T10:00:00\", \"2015-11-03T11:00:00\", \"2015-11-03T12:00:00\", \"2015-11-03T13:00:00\", \"2015-11-03T14:00:00\", \"2015-11-03T15:00:00\", \"2015-11-03T16:00:00\", \"2015-11-03T17:00:00\", \"2015-11-03T18:00:00\", \"2015-11-03T19:00:00\", \"2015-11-03T20:00:00\", \"2015-11-03T21:00:00\", \"2015-11-03T22:00:00\", \"2015-11-03T23:00:00\"], \"xaxis\": \"x2\", \"y\": [17519.844609728552, 17421.686286156997, 17224.94418741715, 16918.764629219742, 16587.264325038603, 16215.583620949123, 15891.647108954423, 15660.803393878283, 15499.076914258318, 15546.490789482827, 15915.440183458672, 16061.965289363454, 16413.16205601609, 16794.182305178507, 16991.488320522392, 17358.203676695684, 17827.056867865915, 18194.593157292915, 18286.626965271986, 18436.047701373278, 18580.83488457699, 18638.493204528582, 18761.82986743089, 18616.358915306908], \"yaxis\": \"y2\"}],\n",
       "                        {\"annotations\": [{\"font\": {\"size\": 16}, \"showarrow\": false, \"text\": \"Aggregate\", \"x\": 0.225, \"xanchor\": \"center\", \"xref\": \"paper\", \"y\": 1.0, \"yanchor\": \"bottom\", \"yref\": \"paper\"}, {\"font\": {\"size\": 16}, \"showarrow\": false, \"text\": \"Cluster 1\", \"x\": 0.775, \"xanchor\": \"center\", \"xref\": \"paper\", \"y\": 1.0, \"yanchor\": \"bottom\", \"yref\": \"paper\"}], \"showlegend\": false, \"template\": {\"data\": {\"bar\": [{\"error_x\": {\"color\": \"#2a3f5f\"}, \"error_y\": {\"color\": \"#2a3f5f\"}, \"marker\": {\"line\": {\"color\": \"#E5ECF6\", \"width\": 0.5}}, \"type\": \"bar\"}], \"barpolar\": [{\"marker\": {\"line\": {\"color\": \"#E5ECF6\", \"width\": 0.5}}, \"type\": \"barpolar\"}], \"carpet\": [{\"aaxis\": {\"endlinecolor\": \"#2a3f5f\", \"gridcolor\": \"white\", \"linecolor\": \"white\", \"minorgridcolor\": \"white\", \"startlinecolor\": \"#2a3f5f\"}, \"baxis\": {\"endlinecolor\": \"#2a3f5f\", \"gridcolor\": \"white\", \"linecolor\": \"white\", \"minorgridcolor\": \"white\", \"startlinecolor\": \"#2a3f5f\"}, \"type\": \"carpet\"}], \"choropleth\": [{\"colorbar\": {\"outlinewidth\": 0, \"ticks\": \"\"}, \"type\": \"choropleth\"}], \"contour\": [{\"colorbar\": {\"outlinewidth\": 0, \"ticks\": \"\"}, \"colorscale\": [[0.0, \"#0d0887\"], [0.1111111111111111, \"#46039f\"], [0.2222222222222222, \"#7201a8\"], [0.3333333333333333, \"#9c179e\"], [0.4444444444444444, \"#bd3786\"], [0.5555555555555556, \"#d8576b\"], [0.6666666666666666, \"#ed7953\"], [0.7777777777777778, \"#fb9f3a\"], [0.8888888888888888, \"#fdca26\"], [1.0, \"#f0f921\"]], \"type\": \"contour\"}], \"contourcarpet\": [{\"colorbar\": {\"outlinewidth\": 0, \"ticks\": \"\"}, \"type\": \"contourcarpet\"}], \"heatmap\": [{\"colorbar\": {\"outlinewidth\": 0, \"ticks\": \"\"}, \"colorscale\": [[0.0, \"#0d0887\"], [0.1111111111111111, \"#46039f\"], [0.2222222222222222, \"#7201a8\"], [0.3333333333333333, \"#9c179e\"], [0.4444444444444444, \"#bd3786\"], [0.5555555555555556, \"#d8576b\"], [0.6666666666666666, \"#ed7953\"], [0.7777777777777778, \"#fb9f3a\"], [0.8888888888888888, \"#fdca26\"], [1.0, \"#f0f921\"]], \"type\": \"heatmap\"}], \"heatmapgl\": [{\"colorbar\": {\"outlinewidth\": 0, \"ticks\": \"\"}, \"colorscale\": [[0.0, \"#0d0887\"], [0.1111111111111111, \"#46039f\"], [0.2222222222222222, \"#7201a8\"], [0.3333333333333333, \"#9c179e\"], [0.4444444444444444, \"#bd3786\"], [0.5555555555555556, \"#d8576b\"], [0.6666666666666666, \"#ed7953\"], [0.7777777777777778, \"#fb9f3a\"], [0.8888888888888888, \"#fdca26\"], [1.0, \"#f0f921\"]], \"type\": \"heatmapgl\"}], \"histogram\": [{\"marker\": {\"colorbar\": {\"outlinewidth\": 0, \"ticks\": \"\"}}, \"type\": \"histogram\"}], \"histogram2d\": [{\"colorbar\": {\"outlinewidth\": 0, \"ticks\": \"\"}, \"colorscale\": [[0.0, \"#0d0887\"], [0.1111111111111111, \"#46039f\"], [0.2222222222222222, \"#7201a8\"], [0.3333333333333333, \"#9c179e\"], [0.4444444444444444, \"#bd3786\"], [0.5555555555555556, \"#d8576b\"], [0.6666666666666666, \"#ed7953\"], [0.7777777777777778, \"#fb9f3a\"], [0.8888888888888888, \"#fdca26\"], [1.0, \"#f0f921\"]], \"type\": \"histogram2d\"}], \"histogram2dcontour\": [{\"colorbar\": {\"outlinewidth\": 0, \"ticks\": \"\"}, \"colorscale\": [[0.0, \"#0d0887\"], [0.1111111111111111, \"#46039f\"], [0.2222222222222222, \"#7201a8\"], [0.3333333333333333, \"#9c179e\"], [0.4444444444444444, \"#bd3786\"], [0.5555555555555556, \"#d8576b\"], [0.6666666666666666, \"#ed7953\"], [0.7777777777777778, \"#fb9f3a\"], [0.8888888888888888, \"#fdca26\"], [1.0, \"#f0f921\"]], \"type\": \"histogram2dcontour\"}], \"mesh3d\": [{\"colorbar\": {\"outlinewidth\": 0, \"ticks\": \"\"}, \"type\": \"mesh3d\"}], \"parcoords\": [{\"line\": {\"colorbar\": {\"outlinewidth\": 0, \"ticks\": \"\"}}, \"type\": \"parcoords\"}], \"scatter\": [{\"marker\": {\"colorbar\": {\"outlinewidth\": 0, \"ticks\": \"\"}}, \"type\": \"scatter\"}], \"scatter3d\": [{\"line\": {\"colorbar\": {\"outlinewidth\": 0, \"ticks\": \"\"}}, \"marker\": {\"colorbar\": {\"outlinewidth\": 0, \"ticks\": \"\"}}, \"type\": \"scatter3d\"}], \"scattercarpet\": [{\"marker\": {\"colorbar\": {\"outlinewidth\": 0, \"ticks\": \"\"}}, \"type\": \"scattercarpet\"}], \"scattergeo\": [{\"marker\": {\"colorbar\": {\"outlinewidth\": 0, \"ticks\": \"\"}}, \"type\": \"scattergeo\"}], \"scattergl\": [{\"marker\": {\"colorbar\": {\"outlinewidth\": 0, \"ticks\": \"\"}}, \"type\": \"scattergl\"}], \"scattermapbox\": [{\"marker\": {\"colorbar\": {\"outlinewidth\": 0, \"ticks\": \"\"}}, \"type\": \"scattermapbox\"}], \"scatterpolar\": [{\"marker\": {\"colorbar\": {\"outlinewidth\": 0, \"ticks\": \"\"}}, \"type\": \"scatterpolar\"}], \"scatterpolargl\": [{\"marker\": {\"colorbar\": {\"outlinewidth\": 0, \"ticks\": \"\"}}, \"type\": \"scatterpolargl\"}], \"scatterternary\": [{\"marker\": {\"colorbar\": {\"outlinewidth\": 0, \"ticks\": \"\"}}, \"type\": \"scatterternary\"}], \"surface\": [{\"colorbar\": {\"outlinewidth\": 0, \"ticks\": \"\"}, \"colorscale\": [[0.0, \"#0d0887\"], [0.1111111111111111, \"#46039f\"], [0.2222222222222222, \"#7201a8\"], [0.3333333333333333, \"#9c179e\"], [0.4444444444444444, \"#bd3786\"], [0.5555555555555556, \"#d8576b\"], [0.6666666666666666, \"#ed7953\"], [0.7777777777777778, \"#fb9f3a\"], [0.8888888888888888, \"#fdca26\"], [1.0, \"#f0f921\"]], \"type\": \"surface\"}], \"table\": [{\"cells\": {\"fill\": {\"color\": \"#EBF0F8\"}, \"line\": {\"color\": \"white\"}}, \"header\": {\"fill\": {\"color\": \"#C8D4E3\"}, \"line\": {\"color\": \"white\"}}, \"type\": \"table\"}]}, \"layout\": {\"annotationdefaults\": {\"arrowcolor\": \"#2a3f5f\", \"arrowhead\": 0, \"arrowwidth\": 1}, \"colorscale\": {\"diverging\": [[0, \"#8e0152\"], [0.1, \"#c51b7d\"], [0.2, \"#de77ae\"], [0.3, \"#f1b6da\"], [0.4, \"#fde0ef\"], [0.5, \"#f7f7f7\"], [0.6, \"#e6f5d0\"], [0.7, \"#b8e186\"], [0.8, \"#7fbc41\"], [0.9, \"#4d9221\"], [1, \"#276419\"]], \"sequential\": [[0.0, \"#0d0887\"], [0.1111111111111111, \"#46039f\"], [0.2222222222222222, \"#7201a8\"], [0.3333333333333333, \"#9c179e\"], [0.4444444444444444, \"#bd3786\"], [0.5555555555555556, \"#d8576b\"], [0.6666666666666666, \"#ed7953\"], [0.7777777777777778, \"#fb9f3a\"], [0.8888888888888888, \"#fdca26\"], [1.0, \"#f0f921\"]], \"sequentialminus\": [[0.0, \"#0d0887\"], [0.1111111111111111, \"#46039f\"], [0.2222222222222222, \"#7201a8\"], [0.3333333333333333, \"#9c179e\"], [0.4444444444444444, \"#bd3786\"], [0.5555555555555556, \"#d8576b\"], [0.6666666666666666, \"#ed7953\"], [0.7777777777777778, \"#fb9f3a\"], [0.8888888888888888, \"#fdca26\"], [1.0, \"#f0f921\"]]}, \"colorway\": [\"#636efa\", \"#EF553B\", \"#00cc96\", \"#ab63fa\", \"#FFA15A\", \"#19d3f3\", \"#FF6692\", \"#B6E880\", \"#FF97FF\", \"#FECB52\"], \"font\": {\"color\": \"#2a3f5f\"}, \"geo\": {\"bgcolor\": \"white\", \"lakecolor\": \"white\", \"landcolor\": \"#E5ECF6\", \"showlakes\": true, \"showland\": true, \"subunitcolor\": \"white\"}, \"hoverlabel\": {\"align\": \"left\"}, \"hovermode\": \"closest\", \"mapbox\": {\"style\": \"light\"}, \"paper_bgcolor\": \"white\", \"plot_bgcolor\": \"#E5ECF6\", \"polar\": {\"angularaxis\": {\"gridcolor\": \"white\", \"linecolor\": \"white\", \"ticks\": \"\"}, \"bgcolor\": \"#E5ECF6\", \"radialaxis\": {\"gridcolor\": \"white\", \"linecolor\": \"white\", \"ticks\": \"\"}}, \"scene\": {\"xaxis\": {\"backgroundcolor\": \"#E5ECF6\", \"gridcolor\": \"white\", \"gridwidth\": 2, \"linecolor\": \"white\", \"showbackground\": true, \"ticks\": \"\", \"zerolinecolor\": \"white\"}, \"yaxis\": {\"backgroundcolor\": \"#E5ECF6\", \"gridcolor\": \"white\", \"gridwidth\": 2, \"linecolor\": \"white\", \"showbackground\": true, \"ticks\": \"\", \"zerolinecolor\": \"white\"}, \"zaxis\": {\"backgroundcolor\": \"#E5ECF6\", \"gridcolor\": \"white\", \"gridwidth\": 2, \"linecolor\": \"white\", \"showbackground\": true, \"ticks\": \"\", \"zerolinecolor\": \"white\"}}, \"shapedefaults\": {\"line\": {\"color\": \"#2a3f5f\"}}, \"ternary\": {\"aaxis\": {\"gridcolor\": \"white\", \"linecolor\": \"white\", \"ticks\": \"\"}, \"baxis\": {\"gridcolor\": \"white\", \"linecolor\": \"white\", \"ticks\": \"\"}, \"bgcolor\": \"#E5ECF6\", \"caxis\": {\"gridcolor\": \"white\", \"linecolor\": \"white\", \"ticks\": \"\"}}, \"title\": {\"x\": 0.05}, \"xaxis\": {\"automargin\": true, \"gridcolor\": \"white\", \"linecolor\": \"white\", \"ticks\": \"\", \"zerolinecolor\": \"white\", \"zerolinewidth\": 2}, \"yaxis\": {\"automargin\": true, \"gridcolor\": \"white\", \"linecolor\": \"white\", \"ticks\": \"\", \"zerolinecolor\": \"white\", \"zerolinewidth\": 2}}}, \"xaxis\": {\"anchor\": \"y\", \"domain\": [0.0, 0.45]}, \"xaxis2\": {\"anchor\": \"y2\", \"domain\": [0.55, 1.0]}, \"yaxis\": {\"anchor\": \"x\", \"domain\": [0.0, 1.0]}, \"yaxis2\": {\"anchor\": \"x2\", \"domain\": [0.0, 1.0]}},\n",
       "                        {\"responsive\": true}\n",
       "                    ).then(function(){\n",
       "                            \n",
       "var gd = document.getElementById('9640ab0e-f139-481e-9af7-7b80099735dd');\n",
       "var x = new MutationObserver(function (mutations, observer) {{\n",
       "        var display = window.getComputedStyle(gd).display;\n",
       "        if (!display || display === 'none') {{\n",
       "            console.log([gd, 'removed!']);\n",
       "            Plotly.purge(gd);\n",
       "            observer.disconnect();\n",
       "        }}\n",
       "}});\n",
       "\n",
       "// Listen for the removal of the full notebook cells\n",
       "var notebookContainer = gd.closest('#notebook-container');\n",
       "if (notebookContainer) {{\n",
       "    x.observe(notebookContainer, {childList: true});\n",
       "}}\n",
       "\n",
       "// Listen for the clearing of the current output cell\n",
       "var outputEl = gd.closest('.output');\n",
       "if (outputEl) {{\n",
       "    x.observe(outputEl, {childList: true});\n",
       "}}\n",
       "\n",
       "                        })\n",
       "                };\n",
       "                });\n",
       "            </script>\n",
       "        </div>"
      ]
     },
     "metadata": {},
     "output_type": "display_data"
    }
   ],
   "source": [
    "# read and initialize data for plots\n",
    "date = dt.datetime.now().date()\n",
    "time = dt.datetime.now().hour\n",
    "\n",
    "results = pd.read_csv('data/results/'+str(date)+'.csv', index_col=0, header=[0,1], date_parser=pd.to_datetime)\n",
    "data = results.iloc[14:]\n",
    "\n",
    "# generate figure to plot\n",
    "fig = make_subplots(rows=1, cols=2, subplot_titles=('Aggregate', 'Cluster 1'))\n",
    "\n",
    "fig.add_trace(go.Scatter(x=data.index[:time],\n",
    "                         y=data['aggregate','actual'].values[:time],\n",
    "                         hoverinfo='x+y'), row=1, col=1)\n",
    "\n",
    "fig.add_trace(go.Scatter(x=data.index,\n",
    "                         y=data['aggregate','sarimax'].values,\n",
    "                         mode='lines',hoverinfo='x+y'), row=1, col=1)\n",
    "\n",
    "fig.add_trace(go.Scatter(x=data.index[:time],\n",
    "                         y=data['cluster1','actual'].values[:time],\n",
    "                         hoverinfo='x+y'), row=1, col=2)\n",
    "\n",
    "fig.add_trace(go.Scatter(x=data.index,\n",
    "                         y=data['cluster1','sarimax'].values,\n",
    "                         mode='lines',hoverinfo='x+y'), row=1, col=2)\n",
    "\n",
    "fig.update_layout(showlegend=False)\n"
   ]
  },
  {
   "cell_type": "code",
   "execution_count": null,
   "metadata": {},
   "outputs": [],
   "source": [
    "# initialize Dash app\n",
    "app = dash.Dash()\n",
    "\n",
    "styleDict = {\n",
    "    'fontFamily':['Avenir','Arial'],\n",
    "    'backgroundColor':'#FFFFFF',\n",
    "    'color': '#111111',\n",
    "    'textAlign':'center'\n",
    "}\n",
    "\n",
    "app.layout = html.Div(style=styleDict, children=[\n",
    "    html.H1(\n",
    "        children='University Load Forecasting:',\n",
    "    ),\n",
    "    html.Div(\n",
    "        children=\"Applications of Deep Learning and Load-Shape Clustering\"\n",
    "    ),\n",
    "    dcc.Graph(\n",
    "        id='Graph1',\n",
    "        # style={'width': 600},\n",
    "        figure=fig,\n",
    "        config={\n",
    "            'displaylogo': False,\n",
    "            # 'modeBarButtonsToRemove': ['pan2d', 'lasso2d'],\n",
    "            'modeBarButtons': [['pan2d', 'zoom2d']],\n",
    "            # 'displayModeBar':False\n",
    "        },\n",
    "    )\n",
    "])\n",
    "\n",
    "if __name__ == '__main__':\n",
    "    app.run_server(debug=True)"
   ]
  },
  {
   "cell_type": "code",
   "execution_count": null,
   "metadata": {},
   "outputs": [],
   "source": []
  },
  {
   "cell_type": "code",
   "execution_count": null,
   "metadata": {},
   "outputs": [],
   "source": []
  },
  {
   "cell_type": "code",
   "execution_count": null,
   "metadata": {},
   "outputs": [],
   "source": []
  },
  {
   "cell_type": "code",
   "execution_count": null,
   "metadata": {},
   "outputs": [],
   "source": []
  }
 ],
 "metadata": {
  "kernelspec": {
   "display_name": "Python 3",
   "language": "python",
   "name": "python3"
  },
  "language_info": {
   "codemirror_mode": {
    "name": "ipython",
    "version": 3
   },
   "file_extension": ".py",
   "mimetype": "text/x-python",
   "name": "python",
   "nbconvert_exporter": "python",
   "pygments_lexer": "ipython3",
   "version": "3.7.2"
  }
 },
 "nbformat": 4,
 "nbformat_minor": 2
}
