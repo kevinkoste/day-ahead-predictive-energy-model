{
 "cells": [
  {
   "cell_type": "code",
   "execution_count": 1,
   "metadata": {},
   "outputs": [],
   "source": [
    "import pandas as pd\n",
    "import numpy as np\n",
    "\n",
    "from datascience import *\n",
    "\n",
    "import matplotlib\n",
    "%matplotlib inline\n",
    "import matplotlib.pyplot as plots\n",
    "plots.style.use('fivethirtyeight')"
   ]
  },
  {
   "cell_type": "markdown",
   "metadata": {},
   "source": [
    "Preprocessing in Excel:\n",
    "    1. Add building names in row 0\n",
    "    2. Remove rows 1-3\n",
    "    3. Remove average, min, max rows at eof\n",
    "    4. Export as csv"
   ]
  },
  {
   "cell_type": "code",
   "execution_count": 2,
   "metadata": {},
   "outputs": [
    {
     "data": {
      "text/html": [
       "<div>\n",
       "<style scoped>\n",
       "    .dataframe tbody tr th:only-of-type {\n",
       "        vertical-align: middle;\n",
       "    }\n",
       "\n",
       "    .dataframe tbody tr th {\n",
       "        vertical-align: top;\n",
       "    }\n",
       "\n",
       "    .dataframe thead th {\n",
       "        text-align: right;\n",
       "    }\n",
       "</style>\n",
       "<table border=\"1\" class=\"dataframe\">\n",
       "  <thead>\n",
       "    <tr style=\"text-align: right;\">\n",
       "      <th></th>\n",
       "      <th>YUAG</th>\n",
       "      <th>Unnamed: 2</th>\n",
       "      <th>Berkeley</th>\n",
       "      <th>Unnamed: 4</th>\n",
       "      <th>Hopper</th>\n",
       "      <th>Unnamed: 6</th>\n",
       "      <th>304Elm</th>\n",
       "      <th>Unnamed: 8</th>\n",
       "      <th>Davenport</th>\n",
       "      <th>Unnamed: 10</th>\n",
       "      <th>...</th>\n",
       "      <th>53Wall</th>\n",
       "      <th>Unnamed: 16</th>\n",
       "      <th>Sprague</th>\n",
       "      <th>Unnamed: 18</th>\n",
       "      <th>Malone</th>\n",
       "      <th>Unnamed: 20</th>\n",
       "      <th>Trumbull</th>\n",
       "      <th>Unnamed: 22</th>\n",
       "      <th>17HH</th>\n",
       "      <th>Unnamed: 24</th>\n",
       "    </tr>\n",
       "  </thead>\n",
       "  <tbody>\n",
       "    <tr>\n",
       "      <th>2018-01-01 00:00:00</th>\n",
       "      <td>NaN</td>\n",
       "      <td>7929946.5</td>\n",
       "      <td>NaN</td>\n",
       "      <td>7241231.2</td>\n",
       "      <td>NaN</td>\n",
       "      <td>2766963.5</td>\n",
       "      <td>NaN</td>\n",
       "      <td>1109119.8</td>\n",
       "      <td>NaN</td>\n",
       "      <td>4306847.8</td>\n",
       "      <td>...</td>\n",
       "      <td>NaN</td>\n",
       "      <td>3024576.8</td>\n",
       "      <td>NaN</td>\n",
       "      <td>358345.5</td>\n",
       "      <td>NaN</td>\n",
       "      <td>6543549.3</td>\n",
       "      <td>NaN</td>\n",
       "      <td>4441711.2</td>\n",
       "      <td>NaN</td>\n",
       "      <td>8929603.5</td>\n",
       "    </tr>\n",
       "    <tr>\n",
       "      <th>2018-01-01 01:00:00</th>\n",
       "      <td>157.1</td>\n",
       "      <td>7930103.6</td>\n",
       "      <td>69.6</td>\n",
       "      <td>7241300.8</td>\n",
       "      <td>87.6</td>\n",
       "      <td>2767051.1</td>\n",
       "      <td>4.6</td>\n",
       "      <td>1109124.4</td>\n",
       "      <td>95.0</td>\n",
       "      <td>4306942.8</td>\n",
       "      <td>...</td>\n",
       "      <td>-530770.5</td>\n",
       "      <td>2493806.4</td>\n",
       "      <td>34.0</td>\n",
       "      <td>358379.5</td>\n",
       "      <td>111.3</td>\n",
       "      <td>6543660.7</td>\n",
       "      <td>54.6</td>\n",
       "      <td>4441765.7</td>\n",
       "      <td>-1510122.1</td>\n",
       "      <td>7419481.4</td>\n",
       "    </tr>\n",
       "  </tbody>\n",
       "</table>\n",
       "<p>2 rows × 24 columns</p>\n",
       "</div>"
      ],
      "text/plain": [
       "                      YUAG  Unnamed: 2  Berkeley  Unnamed: 4  Hopper  \\\n",
       "2018-01-01 00:00:00    NaN   7929946.5       NaN   7241231.2     NaN   \n",
       "2018-01-01 01:00:00  157.1   7930103.6      69.6   7241300.8    87.6   \n",
       "\n",
       "                     Unnamed: 6  304Elm  Unnamed: 8  Davenport  Unnamed: 10  \\\n",
       "2018-01-01 00:00:00   2766963.5     NaN   1109119.8        NaN    4306847.8   \n",
       "2018-01-01 01:00:00   2767051.1     4.6   1109124.4       95.0    4306942.8   \n",
       "\n",
       "                        ...         53Wall  Unnamed: 16  Sprague  Unnamed: 18  \\\n",
       "2018-01-01 00:00:00     ...            NaN    3024576.8      NaN     358345.5   \n",
       "2018-01-01 01:00:00     ...      -530770.5    2493806.4     34.0     358379.5   \n",
       "\n",
       "                     Malone  Unnamed: 20  Trumbull  Unnamed: 22       17HH  \\\n",
       "2018-01-01 00:00:00     NaN    6543549.3       NaN    4441711.2        NaN   \n",
       "2018-01-01 01:00:00   111.3    6543660.7      54.6    4441765.7 -1510122.1   \n",
       "\n",
       "                     Unnamed: 24  \n",
       "2018-01-01 00:00:00    8929603.5  \n",
       "2018-01-01 01:00:00    7419481.4  \n",
       "\n",
       "[2 rows x 24 columns]"
      ]
     },
     "execution_count": 2,
     "metadata": {},
     "output_type": "execute_result"
    }
   ],
   "source": [
    "raw = pd.read_csv('rawdata.csv',index_col=0,na_values=['#########'])\n",
    "\n",
    "raw.index = pd.to_datetime(raw.index,format='%a %m/%d/%y %H:00')\n",
    "\n",
    "raw.head(2)"
   ]
  },
  {
   "cell_type": "markdown",
   "metadata": {},
   "source": [
    "This cell isolates the YUAG data, renames the columns, interpolates missing values, and adds an 'Hourly' column that gives the hourly consumption.\n",
    "\n",
    "As it stands, I cannot figure out how to smooth and interpolate the demand data, so I am ignoring it for now."
   ]
  },
  {
   "cell_type": "code",
   "execution_count": 5,
   "metadata": {},
   "outputs": [],
   "source": [
    "yuag = raw[['YUAG','Unnamed: 2']]\n",
    "yuag.columns = ['Demand','Consumption']\n",
    "\n",
    "yuag.loc[:,'Consumption'] = yuag['Consumption'].replace(0, np.NaN)\n",
    "\n",
    "# These lines are a work-in-progress to set NaN to the incorrect built-in demand data\n",
    "# yuag.loc[:,'Demand'] = yuag['Demand'].clip(0,5000)\n",
    "# yuag['Demand'].where(yuag['Demand']<0, np.NaN)\n",
    "\n"
   ]
  },
  {
   "cell_type": "markdown",
   "metadata": {},
   "source": [
    "The cell below interpolates both demand and consumption data, and creates an Hourly Consumption column"
   ]
  },
  {
   "cell_type": "code",
   "execution_count": 6,
   "metadata": {},
   "outputs": [
    {
     "data": {
      "text/plain": [
       "count    4990.000000\n",
       "mean      192.996192\n",
       "std       125.063076\n",
       "min         0.000000\n",
       "25%       120.700000\n",
       "50%       148.350000\n",
       "75%       283.000000\n",
       "max      3464.300000\n",
       "Name: Hourly, dtype: float64"
      ]
     },
     "execution_count": 6,
     "metadata": {},
     "output_type": "execute_result"
    }
   ],
   "source": [
    "yuag = yuag.interpolate(method='time',limit=3)\n",
    "\n",
    "yuag = yuag.assign(Hourly=yuag['Consumption'].diff())\n",
    "\n",
    "yuag['Hourly'].describe()"
   ]
  },
  {
   "cell_type": "code",
   "execution_count": null,
   "metadata": {},
   "outputs": [],
   "source": []
  }
 ],
 "metadata": {
  "kernelspec": {
   "display_name": "Python 3",
   "language": "python",
   "name": "python3"
  },
  "language_info": {
   "codemirror_mode": {
    "name": "ipython",
    "version": 3
   },
   "file_extension": ".py",
   "mimetype": "text/x-python",
   "name": "python",
   "nbconvert_exporter": "python",
   "pygments_lexer": "ipython3",
   "version": "3.6.6"
  }
 },
 "nbformat": 4,
 "nbformat_minor": 2
}
