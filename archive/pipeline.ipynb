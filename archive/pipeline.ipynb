{
 "cells": [
  {
   "cell_type": "markdown",
   "metadata": {},
   "source": [
    "This is a work-in-progress pipeline for an independent energy data analysis project I am working on.\n",
    "\n",
    "Full disclosure: this project is not related to S&DS 123. If I am violating the terms of use for this Jupyter Notebook hub, please let me know and I will relocate my work. "
   ]
  },
  {
   "cell_type": "code",
   "execution_count": 1,
   "metadata": {},
   "outputs": [],
   "source": [
    "import numpy as np\n",
    "from datascience import *\n",
    "\n",
    "# These lines do some fancy plotting magic.\\n\",\n",
    "import matplotlib\n",
    "%matplotlib inline\n",
    "import matplotlib.pyplot as plots\n",
    "plots.style.use('fivethirtyeight')"
   ]
  },
  {
   "cell_type": "markdown",
   "metadata": {},
   "source": [
    "This cell imports the rawdata.csv file, which I have previously converted from an xlsx file. Before I exported as it a csv, I added readable column names for each building in the file."
   ]
  },
  {
   "cell_type": "code",
   "execution_count": 2,
   "metadata": {},
   "outputs": [
    {
     "data": {
      "text/html": [
       "<table border=\"1\" class=\"dataframe\">\n",
       "    <thead>\n",
       "        <tr>\n",
       "            <th>Electrical Hourly</th> <th>YUAG</th> <th>Unnamed: 2</th> <th>Berkeley</th> <th>Unnamed: 4</th> <th>Hopper</th> <th>Unnamed: 6</th> <th>304Elm</th> <th>Unnamed: 8</th> <th>Davenport</th> <th>Unnamed: 10</th> <th>38HH</th> <th>Unnamed: 12</th> <th>320Temple</th> <th>Unnamed: 14</th> <th>53Wall</th> <th>Unnamed: 16</th> <th>Sprague</th> <th>Unnamed: 18</th> <th>Malone</th> <th>Unnamed: 20</th> <th>Trumbull</th> <th>Unnamed: 22</th> <th>17HH</th> <th>Unnamed: 24</th>\n",
       "        </tr>\n",
       "    </thead>\n",
       "    <tbody>\n",
       "        <tr>\n",
       "            <td>Mon 01/01/18 00:00</td> <td>nan  </td> <td>7929946.5 </td> <td>nan     </td> <td>7241231.2 </td> <td>nan   </td> <td>2766963.5 </td> <td>nan   </td> <td>1109119.8 </td> <td>nan      </td> <td>4306847.8  </td> <td>nan </td> <td>3164052.8  </td> <td>nan      </td> <td>94018.2    </td> <td>nan      </td> <td>3024576.8  </td> <td>nan    </td> <td>358345.5   </td> <td>nan   </td> <td>6543549.3  </td> <td>nan     </td> <td>4441711.2  </td> <td>nan       </td> <td>8929603.5  </td>\n",
       "        </tr>\n",
       "        <tr>\n",
       "            <td>Mon 01/01/18 01:00</td> <td>157.1</td> <td>7930103.6 </td> <td>69.6    </td> <td>7241300.8 </td> <td>87.6  </td> <td>2767051.1 </td> <td>4.6   </td> <td>1109124.4 </td> <td>95       </td> <td>4306942.8  </td> <td>3.1 </td> <td>3164055.9  </td> <td>1.7      </td> <td>94019.9    </td> <td>-530770.5</td> <td>2493806.4  </td> <td>34.0   </td> <td>358379.5   </td> <td>111.3 </td> <td>6543660.7  </td> <td>54.6    </td> <td>4441765.7  </td> <td>-1510122.1</td> <td>7419481.4  </td>\n",
       "        </tr>\n",
       "        <tr>\n",
       "            <td>Mon 01/01/18 02:00</td> <td>153.2</td> <td>7930256.8 </td> <td>58.9    </td> <td>7241359.7 </td> <td>74.6  </td> <td>2767125.7 </td> <td>4.6   </td> <td>1109129.0 </td> <td>92.9     </td> <td>4307035.7  </td> <td>2.6 </td> <td>3164058.5  </td> <td>1.9      </td> <td>94021.8    </td> <td>530802.8 </td> <td>3024609.2  </td> <td>31.7   </td> <td>358411.2   </td> <td>110.2 </td> <td>6543770.8  </td> <td>52.3    </td> <td>4441818.0  </td> <td>1510424.2 </td> <td>8929905.7  </td>\n",
       "        </tr>\n",
       "        <tr>\n",
       "            <td>Mon 01/01/18 03:00</td> <td>169.3</td> <td>7930426.2 </td> <td>63.7    </td> <td>7241423.3 </td> <td>79.7  </td> <td>2767205.3 </td> <td>4.8   </td> <td>1109133.8 </td> <td>102.2    </td> <td>4307137.8  </td> <td>3.3 </td> <td>3164061.8  </td> <td>2.0      </td> <td>94023.8    </td> <td>16.2     </td> <td>3024625.3  </td> <td>32.3   </td> <td>358443.5   </td> <td>121.2 </td> <td>6543892.0  </td> <td>60.8    </td> <td>4441878.8  </td> <td>150.2     </td> <td>8930055.8  </td>\n",
       "        </tr>\n",
       "        <tr>\n",
       "            <td>Mon 01/01/18 04:00</td> <td>171.8</td> <td>7930598.0 </td> <td>63.2    </td> <td>7241486.5 </td> <td>78.8  </td> <td>2767284.2 </td> <td>5.0   </td> <td>1109138.8 </td> <td>99.8     </td> <td>4307237.7  </td> <td>3.2 </td> <td>3164065    </td> <td>1.8      </td> <td>94025.7    </td> <td>16.3     </td> <td>3024641.7  </td> <td>32.3   </td> <td>358475.8   </td> <td>118.3 </td> <td>6544010.3  </td> <td>61.5    </td> <td>4441940.3  </td> <td>149.2     </td> <td>8930205.0  </td>\n",
       "        </tr>\n",
       "    </tbody>\n",
       "</table>\n",
       "<p>... (4986 rows omitted)</p>"
      ],
      "text/plain": [
       "<IPython.core.display.HTML object>"
      ]
     },
     "metadata": {},
     "output_type": "display_data"
    }
   ],
   "source": [
    "dataraw = Table.read_table(\"rawdata.csv\").take(np.arange(3,4994))\n",
    "dataraw.show(5)"
   ]
  },
  {
   "cell_type": "markdown",
   "metadata": {},
   "source": [
    "This cell adds 'Demand' and 'Consumption' labels to the columns, accordingly.\n",
    "\n",
    "Trying to simplify/automate this. Perhaps create an array with the building names, then use it to create the old-label and new-label arrays to use in Table.relabeled"
   ]
  },
  {
   "cell_type": "code",
   "execution_count": 3,
   "metadata": {},
   "outputs": [
    {
     "data": {
      "text/html": [
       "<table border=\"1\" class=\"dataframe\">\n",
       "    <thead>\n",
       "        <tr>\n",
       "            <th>Electrical Hourly</th> <th>YUAG Demand</th> <th>YUAG Consumption</th> <th>Berkeley Demand</th> <th>Berkeley Consumption</th> <th>Hopper Demand</th> <th>Hopper Consumption</th> <th>304Elm Demand</th> <th>304Elm Consumption</th> <th>Davenport Demand</th> <th>Davenport Consumption</th> <th>38HH Demand</th> <th>38HH Consumption</th> <th>320Temple Demand</th> <th>320Temple Consumption</th> <th>53Wall Demand</th> <th>53Wall Consumption</th> <th>Sprague Demand</th> <th>Sprague Consumption</th> <th>Malone Demand</th> <th>Malone Consumption</th> <th>Trumbull Demand</th> <th>Trumbull Consumption</th> <th>17HH Demand</th> <th>17HH Consumption</th>\n",
       "        </tr>\n",
       "    </thead>\n",
       "    <tbody>\n",
       "        <tr>\n",
       "            <td>Mon 01/01/18 00:00</td> <td>nan        </td> <td>7929946.5       </td> <td>nan            </td> <td>7241231.2           </td> <td>nan          </td> <td>2766963.5         </td> <td>nan          </td> <td>1109119.8         </td> <td>nan             </td> <td>4306847.8            </td> <td>nan        </td> <td>3164052.8       </td> <td>nan             </td> <td>94018.2              </td> <td>nan          </td> <td>3024576.8         </td> <td>nan           </td> <td>358345.5           </td> <td>nan          </td> <td>6543549.3         </td> <td>nan            </td> <td>4441711.2           </td> <td>nan        </td> <td>8929603.5       </td>\n",
       "        </tr>\n",
       "        <tr>\n",
       "            <td>Mon 01/01/18 01:00</td> <td>157.1      </td> <td>7930103.6       </td> <td>69.6           </td> <td>7241300.8           </td> <td>87.6         </td> <td>2767051.1         </td> <td>4.6          </td> <td>1109124.4         </td> <td>95              </td> <td>4306942.8            </td> <td>3.1        </td> <td>3164055.9       </td> <td>1.7             </td> <td>94019.9              </td> <td>-530770.5    </td> <td>2493806.4         </td> <td>34.0          </td> <td>358379.5           </td> <td>111.3        </td> <td>6543660.7         </td> <td>54.6           </td> <td>4441765.7           </td> <td>-1510122.1 </td> <td>7419481.4       </td>\n",
       "        </tr>\n",
       "        <tr>\n",
       "            <td>Mon 01/01/18 02:00</td> <td>153.2      </td> <td>7930256.8       </td> <td>58.9           </td> <td>7241359.7           </td> <td>74.6         </td> <td>2767125.7         </td> <td>4.6          </td> <td>1109129.0         </td> <td>92.9            </td> <td>4307035.7            </td> <td>2.6        </td> <td>3164058.5       </td> <td>1.9             </td> <td>94021.8              </td> <td>530802.8     </td> <td>3024609.2         </td> <td>31.7          </td> <td>358411.2           </td> <td>110.2        </td> <td>6543770.8         </td> <td>52.3           </td> <td>4441818.0           </td> <td>1510424.2  </td> <td>8929905.7       </td>\n",
       "        </tr>\n",
       "        <tr>\n",
       "            <td>Mon 01/01/18 03:00</td> <td>169.3      </td> <td>7930426.2       </td> <td>63.7           </td> <td>7241423.3           </td> <td>79.7         </td> <td>2767205.3         </td> <td>4.8          </td> <td>1109133.8         </td> <td>102.2           </td> <td>4307137.8            </td> <td>3.3        </td> <td>3164061.8       </td> <td>2.0             </td> <td>94023.8              </td> <td>16.2         </td> <td>3024625.3         </td> <td>32.3          </td> <td>358443.5           </td> <td>121.2        </td> <td>6543892.0         </td> <td>60.8           </td> <td>4441878.8           </td> <td>150.2      </td> <td>8930055.8       </td>\n",
       "        </tr>\n",
       "        <tr>\n",
       "            <td>Mon 01/01/18 04:00</td> <td>171.8      </td> <td>7930598.0       </td> <td>63.2           </td> <td>7241486.5           </td> <td>78.8         </td> <td>2767284.2         </td> <td>5.0          </td> <td>1109138.8         </td> <td>99.8            </td> <td>4307237.7            </td> <td>3.2        </td> <td>3164065         </td> <td>1.8             </td> <td>94025.7              </td> <td>16.3         </td> <td>3024641.7         </td> <td>32.3          </td> <td>358475.8           </td> <td>118.3        </td> <td>6544010.3         </td> <td>61.5           </td> <td>4441940.3           </td> <td>149.2      </td> <td>8930205.0       </td>\n",
       "        </tr>\n",
       "    </tbody>\n",
       "</table>\n",
       "<p>... (4986 rows omitted)</p>"
      ],
      "text/plain": [
       "<IPython.core.display.HTML object>"
      ]
     },
     "metadata": {},
     "output_type": "display_data"
    }
   ],
   "source": [
    "#datanew = data.relabeled(make_array('YUAG','Unnamed: 2'),make_array('YUAG Demand','YUAG Consumption'))\n",
    "\n",
    "datalabeled = dataraw.relabeled(make_array('YUAG','Unnamed: 2',\n",
    "                                    'Berkeley','Unnamed: 4',\n",
    "                                    'Hopper','Unnamed: 6',\n",
    "                                    '304Elm','Unnamed: 8',\n",
    "                                    'Davenport','Unnamed: 10',\n",
    "                                    '38HH','Unnamed: 12',\n",
    "                                    '320Temple','Unnamed: 14',\n",
    "                                    '53Wall','Unnamed: 16',\n",
    "                                    'Sprague','Unnamed: 18',\n",
    "                                    'Malone','Unnamed: 20',\n",
    "                                    'Trumbull','Unnamed: 22',\n",
    "                                    '17HH','Unnamed: 24'),\n",
    "                         make_array('YUAG Demand','YUAG Consumption',\n",
    "                                    'Berkeley Demand','Berkeley Consumption',\n",
    "                                    'Hopper Demand','Hopper Consumption',\n",
    "                                    '304Elm Demand','304Elm Consumption',\n",
    "                                    'Davenport Demand','Davenport Consumption',\n",
    "                                    '38HH Demand','38HH Consumption',\n",
    "                                    '320Temple Demand','320Temple Consumption',\n",
    "                                    '53Wall Demand','53Wall Consumption',\n",
    "                                    'Sprague Demand','Sprague Consumption',\n",
    "                                    'Malone Demand','Malone Consumption',\n",
    "                                    'Trumbull Demand','Trumbull Consumption',\n",
    "                                    '17HH Demand','17HH Consumption'))\n",
    "\n",
    "datalabeled.show(5)"
   ]
  },
  {
   "cell_type": "markdown",
   "metadata": {},
   "source": [
    "The following cell replaces NaN entries with zeroes, then converts the strings to floats."
   ]
  },
  {
   "cell_type": "code",
   "execution_count": 4,
   "metadata": {},
   "outputs": [
    {
     "data": {
      "text/html": [
       "<table border=\"1\" class=\"dataframe\">\n",
       "    <thead>\n",
       "        <tr>\n",
       "            <th>Electrical Hourly</th> <th>YUAG Demand</th> <th>YUAG Consumption</th> <th>Berkeley Demand</th> <th>Berkeley Consumption</th> <th>Hopper Demand</th> <th>Hopper Consumption</th> <th>304Elm Demand</th> <th>304Elm Consumption</th> <th>Davenport Demand</th> <th>Davenport Consumption</th> <th>38HH Demand</th> <th>38HH Consumption</th> <th>320Temple Demand</th> <th>320Temple Consumption</th> <th>53Wall Demand</th> <th>53Wall Consumption</th> <th>Sprague Demand</th> <th>Sprague Consumption</th> <th>Malone Demand</th> <th>Malone Consumption</th> <th>Trumbull Demand</th> <th>Trumbull Consumption</th> <th>17HH Demand</th> <th>17HH Consumption</th>\n",
       "        </tr>\n",
       "    </thead>\n",
       "    <tbody>\n",
       "        <tr>\n",
       "            <td>Mon 01/01/18 00:00</td> <td>0          </td> <td>7929946.5       </td> <td>nan            </td> <td>7241231.2           </td> <td>nan          </td> <td>2766963.5         </td> <td>nan          </td> <td>1109119.8         </td> <td>nan             </td> <td>4306847.8            </td> <td>nan        </td> <td>3164052.8       </td> <td>nan             </td> <td>94018.2              </td> <td>nan          </td> <td>3024576.8         </td> <td>nan           </td> <td>358345.5           </td> <td>nan          </td> <td>6543549.3         </td> <td>nan            </td> <td>4441711.2           </td> <td>nan        </td> <td>8929603.5       </td>\n",
       "        </tr>\n",
       "        <tr>\n",
       "            <td>Mon 01/01/18 01:00</td> <td>157.1      </td> <td>7930103.6       </td> <td>69.6           </td> <td>7241300.8           </td> <td>87.6         </td> <td>2767051.1         </td> <td>4.6          </td> <td>1109124.4         </td> <td>95              </td> <td>4306942.8            </td> <td>3.1        </td> <td>3164055.9       </td> <td>1.7             </td> <td>94019.9              </td> <td>-530770.5    </td> <td>2493806.4         </td> <td>34.0          </td> <td>358379.5           </td> <td>111.3        </td> <td>6543660.7         </td> <td>54.6           </td> <td>4441765.7           </td> <td>-1510122.1 </td> <td>7419481.4       </td>\n",
       "        </tr>\n",
       "        <tr>\n",
       "            <td>Mon 01/01/18 02:00</td> <td>153.2      </td> <td>7930256.8       </td> <td>58.9           </td> <td>7241359.7           </td> <td>74.6         </td> <td>2767125.7         </td> <td>4.6          </td> <td>1109129.0         </td> <td>92.9            </td> <td>4307035.7            </td> <td>2.6        </td> <td>3164058.5       </td> <td>1.9             </td> <td>94021.8              </td> <td>530802.8     </td> <td>3024609.2         </td> <td>31.7          </td> <td>358411.2           </td> <td>110.2        </td> <td>6543770.8         </td> <td>52.3           </td> <td>4441818.0           </td> <td>1510424.2  </td> <td>8929905.7       </td>\n",
       "        </tr>\n",
       "        <tr>\n",
       "            <td>Mon 01/01/18 03:00</td> <td>169.3      </td> <td>7930426.2       </td> <td>63.7           </td> <td>7241423.3           </td> <td>79.7         </td> <td>2767205.3         </td> <td>4.8          </td> <td>1109133.8         </td> <td>102.2           </td> <td>4307137.8            </td> <td>3.3        </td> <td>3164061.8       </td> <td>2.0             </td> <td>94023.8              </td> <td>16.2         </td> <td>3024625.3         </td> <td>32.3          </td> <td>358443.5           </td> <td>121.2        </td> <td>6543892.0         </td> <td>60.8           </td> <td>4441878.8           </td> <td>150.2      </td> <td>8930055.8       </td>\n",
       "        </tr>\n",
       "        <tr>\n",
       "            <td>Mon 01/01/18 04:00</td> <td>171.8      </td> <td>7930598.0       </td> <td>63.2           </td> <td>7241486.5           </td> <td>78.8         </td> <td>2767284.2         </td> <td>5.0          </td> <td>1109138.8         </td> <td>99.8            </td> <td>4307237.7            </td> <td>3.2        </td> <td>3164065         </td> <td>1.8             </td> <td>94025.7              </td> <td>16.3         </td> <td>3024641.7         </td> <td>32.3          </td> <td>358475.8           </td> <td>118.3        </td> <td>6544010.3         </td> <td>61.5           </td> <td>4441940.3           </td> <td>149.2      </td> <td>8930205.0       </td>\n",
       "        </tr>\n",
       "    </tbody>\n",
       "</table>\n",
       "<p>... (4986 rows omitted)</p>"
      ],
      "text/plain": [
       "<IPython.core.display.HTML object>"
      ]
     },
     "metadata": {},
     "output_type": "display_data"
    }
   ],
   "source": [
    "datanum = datalabeled\n",
    "\n",
    "# dumarray = [0]*datalabeled.num_rows\n",
    "# datanum = datanum.with_column('1',dumarray)\n",
    "\n",
    "\n",
    "for x in [1]:\n",
    "    for y in range(datalabeled.num_rows):\n",
    "        if datanum.column(x)[y] == 'nan':\n",
    "            datanum.column(x)[y] = '0'\n",
    "        dumarray = [float(datalabeled.column(x)[y]) for ]\n",
    "#         dumarray[y] = float(datalabeled.column(x)[y])\n",
    "        datanum = datanum.with_column('YUAG Demand',dumarray)\n",
    "\n",
    "datanum.show(5)"
   ]
  },
  {
   "cell_type": "code",
   "execution_count": 5,
   "metadata": {},
   "outputs": [
    {
     "ename": "NameError",
     "evalue": "name 'current_array' is not defined",
     "output_type": "error",
     "traceback": [
      "\u001b[0;31m---------------------------------------------------------------------------\u001b[0m",
      "\u001b[0;31mNameError\u001b[0m                                 Traceback (most recent call last)",
      "\u001b[0;32m<ipython-input-5-e38cff098d27>\u001b[0m in \u001b[0;36m<module>\u001b[0;34m\u001b[0m\n\u001b[0;32m----> 1\u001b[0;31m \u001b[0mdesired_array\u001b[0m \u001b[0;34m=\u001b[0m \u001b[0;34m[\u001b[0m\u001b[0mint\u001b[0m\u001b[0;34m(\u001b[0m\u001b[0mnumeric_string\u001b[0m\u001b[0;34m)\u001b[0m \u001b[0;32mfor\u001b[0m \u001b[0mnumeric_string\u001b[0m \u001b[0;32min\u001b[0m \u001b[0mcurrent_array\u001b[0m\u001b[0;34m]\u001b[0m\u001b[0;34m\u001b[0m\u001b[0m\n\u001b[0m\u001b[1;32m      2\u001b[0m \u001b[0;34m\u001b[0m\u001b[0m\n\u001b[1;32m      3\u001b[0m \u001b[0mdatalabeled\u001b[0m\u001b[0;34m.\u001b[0m\u001b[0mcolumn\u001b[0m\u001b[0;34m(\u001b[0m\u001b[0;36m1\u001b[0m\u001b[0;34m)\u001b[0m\u001b[0;34m\u001b[0m\u001b[0m\n\u001b[1;32m      4\u001b[0m \u001b[0;31m# np.nan_to_num(datalabeled.column(1))\u001b[0m\u001b[0;34m\u001b[0m\u001b[0;34m\u001b[0m\u001b[0m\n\u001b[1;32m      5\u001b[0m \u001b[0;34m\u001b[0m\u001b[0m\n",
      "\u001b[0;31mNameError\u001b[0m: name 'current_array' is not defined"
     ]
    }
   ],
   "source": [
    "desired_array = [int(numeric_string) for numeric_string in current_array]\n",
    "\n",
    "datalabeled.column(1)\n",
    "# np.nan_to_num(datalabeled.column(1))\n",
    "\n",
    "# for x in range(1,25):\n",
    "#     datalabeled.column(x) = np.nan_to_num(datalabeled.column(x))\n",
    "\n",
    "#datalabeled.plot(\"Electrical Hourly\",\"YUAG Consumption\")"
   ]
  }
 ],
 "metadata": {
  "kernelspec": {
   "display_name": "Python 3",
   "language": "python",
   "name": "python3"
  },
  "language_info": {
   "codemirror_mode": {
    "name": "ipython",
    "version": 3
   },
   "file_extension": ".py",
   "mimetype": "text/x-python",
   "name": "python",
   "nbconvert_exporter": "python",
   "pygments_lexer": "ipython3",
   "version": "3.6.6"
  }
 },
 "nbformat": 4,
 "nbformat_minor": 2
}
