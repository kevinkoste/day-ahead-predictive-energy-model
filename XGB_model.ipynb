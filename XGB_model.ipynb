{
 "cells": [
  {
   "cell_type": "code",
   "execution_count": null,
   "metadata": {},
   "outputs": [],
   "source": [
    "import pandas as pd\n",
    "import numpy as np\n",
    "\n",
    "import seaborn as sns\n",
    "import matplotlib\n",
    "%matplotlib inline\n",
    "import matplotlib.pyplot as plt\n",
    "plt.style.use('ggplot')\n",
    "\n",
    "import xgboost as xgb\n",
    "from xgboost import plot_importance, plot_tree, to_graphviz\n",
    "\n",
    "import utility_functions as fn"
   ]
  },
  {
   "cell_type": "code",
   "execution_count": null,
   "metadata": {},
   "outputs": [],
   "source": [
    "energy = pd.read_csv('data/energy_clean.csv',index_col=0)\n",
    "energy.index = pd.to_datetime(energy.index,format='%Y-%m-%d %H:00:00')\n",
    "\n",
    "# removing Davenport for now because it is missing most of June and July\n",
    "energy.drop('Davenport',axis=1,inplace=True)\n",
    "\n",
    "energy['Yale_kW']= energy.iloc[:, 0:11].sum(axis=1)\n",
    "energy = pd.DataFrame(energy['Yale_kW'])"
   ]
  },
  {
   "cell_type": "code",
   "execution_count": null,
   "metadata": {
    "scrolled": false
   },
   "outputs": [],
   "source": [
    "weather = pd.read_csv('data/weather_clean.csv',index_col=0)\n",
    "weather.index = pd.to_datetime(weather.index,format='%Y-%m-%d %H:00:00')\n",
    "\n",
    "weather = fn.add_hours_before(weather,np.arange(1,24))\n",
    "weather = weather.loc[energy.index[0]:energy.index[len(energy)-1]]"
   ]
  },
  {
   "cell_type": "code",
   "execution_count": null,
   "metadata": {},
   "outputs": [],
   "source": [
    "# dates = pd.read_csv('one_hot_dates.csv',index_col=0)\n",
    "# dates.index = pd.to_datetime(dates.index,format='%Y-%m-%d %H:00:00')\n",
    "# dates = dates.loc[energy.index[0]:energy.index[len(energy)-1]]\n",
    "dates = fn.date_features(energy)"
   ]
  },
  {
   "cell_type": "code",
   "execution_count": null,
   "metadata": {},
   "outputs": [],
   "source": [
    "split_date = '2018-07-26 00:00:00'\n",
    "\n",
    "y_train = energy.loc[energy.index <= split_date].copy()\n",
    "y_test = energy.loc[energy.index > split_date].copy()"
   ]
  },
  {
   "cell_type": "code",
   "execution_count": null,
   "metadata": {},
   "outputs": [],
   "source": [
    "weather_train = weather.loc[weather.index <= split_date].copy()\n",
    "weather_test = weather.loc[weather.index > split_date].copy()\n",
    "\n",
    "dates_train = dates.loc[dates.index <= split_date].copy()\n",
    "dates_test = dates.loc[dates.index > split_date].copy()\n",
    "\n",
    "X_train = weather_train.join(dates_train)\n",
    "X_test = weather_test.join(dates_test)"
   ]
  },
  {
   "cell_type": "code",
   "execution_count": null,
   "metadata": {},
   "outputs": [],
   "source": [
    "reg = xgb.XGBRegressor(n_estimators=1000)\n",
    "reg.fit(X_train, y_train,\n",
    "        eval_set=[(X_train, y_train), (X_test, y_test)],\n",
    "        early_stopping_rounds=50,\n",
    "        verbose=False)"
   ]
  },
  {
   "cell_type": "code",
   "execution_count": null,
   "metadata": {},
   "outputs": [],
   "source": [
    "_ = plot_importance(reg, height=0.7,max_num_features=15)"
   ]
  },
  {
   "cell_type": "code",
   "execution_count": null,
   "metadata": {},
   "outputs": [],
   "source": [
    "y_test['Prediction_kW'] = reg.predict(X_test)\n",
    "yale_all = pd.concat([y_test, y_train], sort=False)\n",
    "_ = yale_all[['Yale_kW','Prediction_kW']].plot(figsize=(15, 5))"
   ]
  },
  {
   "cell_type": "code",
   "execution_count": null,
   "metadata": {},
   "outputs": [],
   "source": [
    "def mean_absolute_percentage_error(y_true, y_pred): \n",
    "    \"\"\"Calculates MAPE given y_true and y_pred\"\"\"\n",
    "    y_true, y_pred = np.array(y_true), np.array(y_pred)\n",
    "    return np.mean(np.abs((y_true - y_pred) / y_true)) * 100"
   ]
  },
  {
   "cell_type": "code",
   "execution_count": null,
   "metadata": {},
   "outputs": [],
   "source": [
    "MAPE = mean_absolute_percentage_error(y_true=y_test['Yale_kW'], y_pred=y_test['Prediction_kW']).round(2)\n",
    "MAPE"
   ]
  },
  {
   "cell_type": "code",
   "execution_count": null,
   "metadata": {},
   "outputs": [],
   "source": [
    "fn.plot_all(y_test,'2018-07-26 01:00:00','2018-07-27 23:00:00')"
   ]
  },
  {
   "cell_type": "code",
   "execution_count": null,
   "metadata": {},
   "outputs": [],
   "source": []
  }
 ],
 "metadata": {
  "kernelspec": {
   "display_name": "Python 3",
   "language": "python",
   "name": "python3"
  },
  "language_info": {
   "codemirror_mode": {
    "name": "ipython",
    "version": 3
   },
   "file_extension": ".py",
   "mimetype": "text/x-python",
   "name": "python",
   "nbconvert_exporter": "python",
   "pygments_lexer": "ipython3",
   "version": "3.7.0"
  }
 },
 "nbformat": 4,
 "nbformat_minor": 2
}
