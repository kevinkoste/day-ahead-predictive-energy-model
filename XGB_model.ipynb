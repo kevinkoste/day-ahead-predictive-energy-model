{
 "cells": [
  {
   "cell_type": "code",
   "execution_count": 1,
   "metadata": {},
   "outputs": [],
   "source": [
    "import pandas as pd\n",
    "import numpy as np\n",
    "\n",
    "import seaborn as sns\n",
    "import matplotlib\n",
    "%matplotlib inline\n",
    "import matplotlib.pyplot as plt\n",
    "plt.style.use('ggplot')\n",
    "\n",
    "import xgboost as xgb\n",
    "from xgboost import plot_importance, plot_tree\n",
    "\n",
    "import utility_functions as fn"
   ]
  },
  {
   "cell_type": "code",
   "execution_count": 2,
   "metadata": {},
   "outputs": [],
   "source": [
    "energy = pd.read_csv('energy_clean.csv',index_col=0)\n",
    "energy.index = pd.to_datetime(energy.index,format='%Y-%m-%d %H:00:00')\n",
    "\n",
    "energy['Yale_kWh'] = energy['YUAG']+energy['Berkeley']+energy['Hopper']+energy['17HH']\n",
    "energy = pd.DataFrame(energy['Yale_kWh'])"
   ]
  },
  {
   "cell_type": "code",
   "execution_count": 3,
   "metadata": {
    "scrolled": false
   },
   "outputs": [],
   "source": [
    "weather = pd.read_csv('weather_clean.csv',index_col=0)\n",
    "weather.index = pd.to_datetime(weather.index,format='%Y-%m-%d %H:00:00')\n",
    "\n",
    "weather = fn.add_hours_before(weather,np.arange(1,24))\n",
    "weather = weather.loc[energy.index[0]:energy.index[len(energy)-1]]\n",
    "\n",
    "# weather.drop('2018-03-11 02:00:00',inplace=True)"
   ]
  },
  {
   "cell_type": "code",
   "execution_count": 4,
   "metadata": {},
   "outputs": [],
   "source": [
    "split_date = '2018-07-26 00:00:00'\n",
    "\n",
    "# train = energy.loc[energy.index <= split_date].copy()\n",
    "# test = energy.loc[energy.index > split_date].copy()\n",
    "\n",
    "#X_train, y_train = fn.date_features(train, label='Yale_kWh')\n",
    "#X_test, y_test = fn.date_features(test, label='Yale_kWh')"
   ]
  },
  {
   "cell_type": "code",
   "execution_count": 48,
   "metadata": {},
   "outputs": [],
   "source": [
    "X_train = weather.loc[weather.index <= split_date].copy()\n",
    "X_test = weather.loc[weather.index > split_date].copy()\n",
    "\n",
    "y_train = energy.loc[energy.index <= split_date].copy()\n",
    "y_test = energy.loc[energy.index > split_date].copy()\n",
    "\n",
    "# X_train.index.difference(y_train.index)"
   ]
  },
  {
   "cell_type": "code",
   "execution_count": 60,
   "metadata": {},
   "outputs": [
    {
     "data": {
      "text/html": [
       "<div>\n",
       "<style scoped>\n",
       "    .dataframe tbody tr th:only-of-type {\n",
       "        vertical-align: middle;\n",
       "    }\n",
       "\n",
       "    .dataframe tbody tr th {\n",
       "        vertical-align: top;\n",
       "    }\n",
       "\n",
       "    .dataframe thead th {\n",
       "        text-align: right;\n",
       "    }\n",
       "</style>\n",
       "<table border=\"1\" class=\"dataframe\">\n",
       "  <thead>\n",
       "    <tr style=\"text-align: right;\">\n",
       "      <th></th>\n",
       "      <th>Yale_kWh</th>\n",
       "    </tr>\n",
       "  </thead>\n",
       "  <tbody>\n",
       "    <tr>\n",
       "      <th>2018-03-11 00:00:00</th>\n",
       "      <td>432.2</td>\n",
       "    </tr>\n",
       "    <tr>\n",
       "      <th>2018-03-11 01:00:00</th>\n",
       "      <td>372.3</td>\n",
       "    </tr>\n",
       "    <tr>\n",
       "      <th>2018-03-11 03:00:00</th>\n",
       "      <td>423.1</td>\n",
       "    </tr>\n",
       "    <tr>\n",
       "      <th>2018-03-11 04:00:00</th>\n",
       "      <td>400.4</td>\n",
       "    </tr>\n",
       "    <tr>\n",
       "      <th>2018-03-11 05:00:00</th>\n",
       "      <td>396.8</td>\n",
       "    </tr>\n",
       "    <tr>\n",
       "      <th>2018-03-11 02:00:00</th>\n",
       "      <td>400.0</td>\n",
       "    </tr>\n",
       "  </tbody>\n",
       "</table>\n",
       "</div>"
      ],
      "text/plain": [
       "                     Yale_kWh\n",
       "2018-03-11 00:00:00     432.2\n",
       "2018-03-11 01:00:00     372.3\n",
       "2018-03-11 03:00:00     423.1\n",
       "2018-03-11 04:00:00     400.4\n",
       "2018-03-11 05:00:00     396.8\n",
       "2018-03-11 02:00:00     400.0"
      ]
     },
     "execution_count": 60,
     "metadata": {},
     "output_type": "execute_result"
    }
   ],
   "source": [
    "# X_train.index.difference(y_train.index)\n",
    "\n",
    "X_train.loc['2018-03-11 00:00:00':'2018-03-11 05:00:00']\n",
    "\n",
    "y_train.append({'2018-03-11 02:00:00':400},ignore_index=True,sort=True)\n",
    "\n",
    "y_train.loc['2018-03-11 00:00:00':'2018-03-11 05:00:00']"
   ]
  },
  {
   "cell_type": "code",
   "execution_count": null,
   "metadata": {},
   "outputs": [],
   "source": [
    "reg = xgb.XGBRegressor(n_estimators=1000)\n",
    "reg.fit(X_train, y_train,\n",
    "        eval_set=[(X_train, y_train), (X_test, y_test)],\n",
    "        early_stopping_rounds=50,\n",
    "        verbose=False)"
   ]
  },
  {
   "cell_type": "code",
   "execution_count": null,
   "metadata": {},
   "outputs": [],
   "source": [
    "_ = plot_importance(reg, height=0.9)"
   ]
  },
  {
   "cell_type": "code",
   "execution_count": null,
   "metadata": {},
   "outputs": [],
   "source": [
    "test['Prediction_kWh'] = reg.predict(X_test)\n",
    "yale_all = pd.concat([test, train], sort=False)\n",
    "_ = yale_all[['Yale_kWh','Prediction_kWh']].plot(figsize=(15, 5))"
   ]
  },
  {
   "cell_type": "code",
   "execution_count": null,
   "metadata": {},
   "outputs": [],
   "source": [
    "def mean_absolute_percentage_error(y_true, y_pred): \n",
    "    \"\"\"Calculates MAPE given y_true and y_pred\"\"\"\n",
    "    y_true, y_pred = np.array(y_true), np.array(y_pred)\n",
    "    return np.mean(np.abs((y_true - y_pred) / y_true)) * 100"
   ]
  },
  {
   "cell_type": "code",
   "execution_count": null,
   "metadata": {},
   "outputs": [],
   "source": [
    "mean_absolute_percentage_error(y_true=test['Yale_kWh'], y_pred=test['Prediction_kWh'])"
   ]
  },
  {
   "cell_type": "code",
   "execution_count": null,
   "metadata": {},
   "outputs": [],
   "source": []
  }
 ],
 "metadata": {
  "kernelspec": {
   "display_name": "Python 3",
   "language": "python",
   "name": "python3"
  },
  "language_info": {
   "codemirror_mode": {
    "name": "ipython",
    "version": 3
   },
   "file_extension": ".py",
   "mimetype": "text/x-python",
   "name": "python",
   "nbconvert_exporter": "python",
   "pygments_lexer": "ipython3",
   "version": "3.7.0"
  }
 },
 "nbformat": 4,
 "nbformat_minor": 2
}
