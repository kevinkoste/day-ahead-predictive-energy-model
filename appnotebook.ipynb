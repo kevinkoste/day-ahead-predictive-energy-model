{
 "cells": [
  {
   "cell_type": "code",
   "execution_count": 1,
   "metadata": {},
   "outputs": [
    {
     "data": {
      "text/html": [
       "<div>\n",
       "<style scoped>\n",
       "    .dataframe tbody tr th:only-of-type {\n",
       "        vertical-align: middle;\n",
       "    }\n",
       "\n",
       "    .dataframe tbody tr th {\n",
       "        vertical-align: top;\n",
       "    }\n",
       "\n",
       "    .dataframe thead th {\n",
       "        text-align: right;\n",
       "    }\n",
       "</style>\n",
       "<table border=\"1\" class=\"dataframe\">\n",
       "  <thead>\n",
       "    <tr style=\"text-align: right;\">\n",
       "      <th></th>\n",
       "      <th>aggregate</th>\n",
       "      <th>cluster1</th>\n",
       "      <th>cluster2</th>\n",
       "      <th>cluster3</th>\n",
       "    </tr>\n",
       "  </thead>\n",
       "  <tbody>\n",
       "    <tr>\n",
       "      <th>2015-01-01 00:00:00</th>\n",
       "      <td>14814.56</td>\n",
       "      <td>4207.14</td>\n",
       "      <td>380.02</td>\n",
       "      <td>10227.4</td>\n",
       "    </tr>\n",
       "    <tr>\n",
       "      <th>2015-01-01 01:00:00</th>\n",
       "      <td>14814.56</td>\n",
       "      <td>4207.14</td>\n",
       "      <td>380.02</td>\n",
       "      <td>10227.4</td>\n",
       "    </tr>\n",
       "    <tr>\n",
       "      <th>2015-01-01 02:00:00</th>\n",
       "      <td>14814.56</td>\n",
       "      <td>4207.14</td>\n",
       "      <td>380.02</td>\n",
       "      <td>10227.4</td>\n",
       "    </tr>\n",
       "    <tr>\n",
       "      <th>2015-01-01 03:00:00</th>\n",
       "      <td>14814.56</td>\n",
       "      <td>4207.14</td>\n",
       "      <td>380.02</td>\n",
       "      <td>10227.4</td>\n",
       "    </tr>\n",
       "    <tr>\n",
       "      <th>2015-01-01 04:00:00</th>\n",
       "      <td>14814.56</td>\n",
       "      <td>4207.14</td>\n",
       "      <td>380.02</td>\n",
       "      <td>10227.4</td>\n",
       "    </tr>\n",
       "  </tbody>\n",
       "</table>\n",
       "</div>"
      ],
      "text/plain": [
       "                     aggregate  cluster1  cluster2  cluster3\n",
       "2015-01-01 00:00:00   14814.56   4207.14    380.02   10227.4\n",
       "2015-01-01 01:00:00   14814.56   4207.14    380.02   10227.4\n",
       "2015-01-01 02:00:00   14814.56   4207.14    380.02   10227.4\n",
       "2015-01-01 03:00:00   14814.56   4207.14    380.02   10227.4\n",
       "2015-01-01 04:00:00   14814.56   4207.14    380.02   10227.4"
      ]
     },
     "execution_count": 1,
     "metadata": {},
     "output_type": "execute_result"
    }
   ],
   "source": [
    "import numpy as np\n",
    "import pandas as pd\n",
    "import datetime as dt\n",
    "\n",
    "from src.processing.clustering import LoadShapeCluster\n",
    "from src.training.sarimax import TrainSARIMAX\n",
    "\n",
    "# This script is designed to execute ONE (for now) day-ahead forecast given a set of parameters\n",
    "# It outputs the result in the /temp folder\n",
    "\n",
    "# hyperparameters\n",
    "location = 'arizona'\n",
    "numClusters = 3\n",
    "trendParams = (0,0,0)\n",
    "seasonalParams = (1,0,0,24)\n",
    "maxiter = 20\n",
    "\n",
    "# import preprocessed load and covariate data\n",
    "loads = pd.read_csv('data/processed/'+location+'-loads.csv',index_col=0,date_parser=pd.to_datetime)\n",
    "covariates = pd.read_csv('data/processed/'+location+'-covariates.csv',index_col=0,date_parser=pd.to_datetime)\n",
    "\n",
    "# robust method to get today's date in the correct year (based on df.index)\n",
    "today = dt.datetime.now().date()\n",
    "testYear = loads.index[(loads.index.month == today.month) & (loads.index.day == today.day)].year[0]\n",
    "testDate = pd.to_datetime(dt.date(year=testYear, month=today.month, day=today.day))+pd.Timedelta(hours=10)\n",
    "\n",
    "# apply clustering on previous week of data\n",
    "clusterTestDf = loads.loc[(testDate-pd.Timedelta(days=7) <= loads.index) & (loads.index < testDate)]\n",
    "clusterMap, clusterScore = LoadShapeCluster(clusterTestDf,numClusters)\n",
    "\n",
    "# define test df based on clustering results\n",
    "df = pd.DataFrame(data=loads.sum(axis=1), index=loads.index, columns=['aggregate'])\n",
    "for i in range(1,numClusters+1):\n",
    "    df['cluster'+str(i)] = loads[[k for k in loads.columns if clusterMap[k]==i]].sum(axis=1)\n"
   ]
  },
  {
   "cell_type": "markdown",
   "metadata": {},
   "source": [
    "### Work on MLP"
   ]
  },
  {
   "cell_type": "code",
   "execution_count": null,
   "metadata": {},
   "outputs": [],
   "source": [
    "# generate MultiIndex to store results, initialize results df\n",
    "indexMulti = pd.MultiIndex.from_product([list(df.columns),['actual','sarimax','mlp']])\n",
    "results = pd.DataFrame(index=pd.date_range(start=testDate, freq='H', periods=38), columns=indexMulti)\n",
    "\n",
    "for cluster in df.columns:\n",
    "    \n",
    "    y = df[cluster].copy(deep=True)\n",
    "    X = covariates.copy(deep=True)\n",
    "\n",
    "    # split data\n",
    "    y_train = y.loc[y.index < testDate]\n",
    "    y_test = y.loc[(testDate <= y.index) & (y.index < testDate+pd.Timedelta(hours=38))]\n",
    "    X_train = X.loc[X.index < testDate]\n",
    "    X_test = X.loc[(testDate <= X.index) & (X.index < testDate+pd.Timedelta(hours=38))]\n",
    "\n",
    "    # train the SARIMAX model for this cluster, make a forecast\n",
    "    modelFit = TrainSARIMAX(endog=y_train, exog=X_train,trend=trendParams,seasonal=seasonalParams,maxiter=maxiter)\n",
    "    forecast = modelFit.forecast(steps=38, exog=X_test)\n",
    "    \n",
    "    # store the results\n",
    "    results[cluster,'actual'] = y_test.values\n",
    "    results[cluster,'sarimax'] = forecast\n",
    "\n",
    "# results.to_csv('data/results/'+str(today)+'.csv')"
   ]
  },
  {
   "cell_type": "code",
   "execution_count": null,
   "metadata": {},
   "outputs": [],
   "source": []
  },
  {
   "cell_type": "code",
   "execution_count": null,
   "metadata": {},
   "outputs": [],
   "source": []
  },
  {
   "cell_type": "code",
   "execution_count": null,
   "metadata": {},
   "outputs": [],
   "source": []
  }
 ],
 "metadata": {
  "kernelspec": {
   "display_name": "Python 3",
   "language": "python",
   "name": "python3"
  },
  "language_info": {
   "codemirror_mode": {
    "name": "ipython",
    "version": 3
   },
   "file_extension": ".py",
   "mimetype": "text/x-python",
   "name": "python",
   "nbconvert_exporter": "python",
   "pygments_lexer": "ipython3",
   "version": "3.7.2"
  }
 },
 "nbformat": 4,
 "nbformat_minor": 2
}
