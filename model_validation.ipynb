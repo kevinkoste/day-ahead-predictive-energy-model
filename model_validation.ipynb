{
 "cells": [
  {
   "cell_type": "code",
   "execution_count": 1,
   "metadata": {},
   "outputs": [],
   "source": [
    "# computational libraries\n",
    "import pandas as pd\n",
    "pd.set_option('mode.chained_assignment', None)\n",
    "import numpy as np\n",
    "\n",
    "# plotting libraries\n",
    "import seaborn as sns\n",
    "import matplotlib\n",
    "%matplotlib inline\n",
    "import matplotlib.pyplot as plt\n",
    "plt.style.use('ggplot')\n",
    "\n",
    "# models\n",
    "from sklearn.linear_model import LinearRegression\n",
    "from sklearn.svm import LinearSVR\n",
    "from sklearn.neural_network import MLPRegressor\n",
    "from sklearn.tree import DecisionTreeRegressor\n",
    "import xgboost as xgb\n"
   ]
  },
  {
   "cell_type": "markdown",
   "metadata": {},
   "source": [
    "This cell constructs a Series called y that contains the target feature - in this case, hourly electricity demand."
   ]
  },
  {
   "cell_type": "code",
   "execution_count": 2,
   "metadata": {},
   "outputs": [],
   "source": [
    "# read clean electricity data to create target variable array y\n",
    "elec = pd.read_csv('data/elec_clean.csv',index_col=0)\n",
    "elec.index = pd.to_datetime(elec.index,format='%Y-%m-%d %H:00:00')\n",
    "\n",
    "# remove Davenport for now because it is missing most of June and July\n",
    "elec.drop('Davenport',axis=1,inplace=True)\n",
    "\n",
    "y = pd.Series(elec.iloc[:, 0:11].sum(axis=1))"
   ]
  },
  {
   "cell_type": "markdown",
   "metadata": {},
   "source": [
    "This cell constructs a DataFrame called X that contains the covariate data. Here, electricity lag, date, and weather lag features are added for a total of 23 covariates."
   ]
  },
  {
   "cell_type": "code",
   "execution_count": 3,
   "metadata": {},
   "outputs": [],
   "source": [
    "# create X as a copy of y, then add electricity lag features (be careful with this)\n",
    "X = pd.DataFrame(y,columns=['elec'])\n",
    "for i in range(1,7):\n",
    "    X['elec -'+str(i)] = np.append(np.array([np.nan]*i),X['elec'].values[0:len(y)-i])\n",
    "\n",
    "# add date features\n",
    "X['date'] = X.index\n",
    "X['hourofday'] = X['date'].dt.hour\n",
    "X['dayofweek'] = X['date'].dt.dayofweek\n",
    "X['weekofyear'] = X['date'].dt.weekofyear\n",
    "\n",
    "\n",
    "# process weather features (maybe move this to the end of the weather pipeline before export?)\n",
    "weather = pd.read_csv('data/weather_clean.csv',index_col=0)\n",
    "weather.index = pd.to_datetime(weather.index,format='%Y-%m-%d %H:00:00')\n",
    "weather = weather.iloc[:,[0,4]]\n",
    "for k in weather.columns:\n",
    "    for i in range(1,7):\n",
    "        weather[k+' -'+str(i)] = np.append(np.array([np.nan]*i),weather[k].values[0:len(weather)-i])\n",
    "\n",
    "weather = weather.loc[y.index[0]:y.index[len(y)-1]]\n",
    "\n",
    "# add weather features, remove NaN's that were introduced with elec lag variables\n",
    "X = X.join(weather)\n",
    "\n",
    "# drop useless and reorder columns\n",
    "X = X[['hourofday','dayofweek','weekofyear',\n",
    "       'elec -1','elec -2','elec -3','elec -4','elec -5','elec -6',\n",
    "       'temp','temp -1','temp -2','temp -3','temp -4','temp -5','temp -6',\n",
    "       'rh','rh -1','rh -2','rh -3','rh -4','rh -5','rh -6']]"
   ]
  },
  {
   "cell_type": "code",
   "execution_count": 4,
   "metadata": {},
   "outputs": [],
   "source": [
    "# truncate y and X to match each other (this step is only necessary if using elec lag features)\n",
    "X = X.iloc[6:]\n",
    "y = y.iloc[6:]"
   ]
  },
  {
   "cell_type": "code",
   "execution_count": 5,
   "metadata": {},
   "outputs": [],
   "source": [
    "# initialize models to be tested\n",
    "\n",
    "linear_regression = LinearRegression()\n",
    "    \n",
    "svm_regression = LinearSVR()\n",
    "    \n",
    "decision_tree_regression = DecisionTreeRegressor()\n",
    "    \n",
    "mlp_regression = MLPRegressor()\n",
    "\n",
    "xbg_regression = xgb.XGBRegressor(n_estimators=1000)\n"
   ]
  },
  {
   "cell_type": "code",
   "execution_count": 6,
   "metadata": {},
   "outputs": [
    {
     "data": {
      "text/html": [
       "<div>\n",
       "<style scoped>\n",
       "    .dataframe tbody tr th:only-of-type {\n",
       "        vertical-align: middle;\n",
       "    }\n",
       "\n",
       "    .dataframe tbody tr th {\n",
       "        vertical-align: top;\n",
       "    }\n",
       "\n",
       "    .dataframe thead th {\n",
       "        text-align: right;\n",
       "    }\n",
       "</style>\n",
       "<table border=\"1\" class=\"dataframe\">\n",
       "  <thead>\n",
       "    <tr style=\"text-align: right;\">\n",
       "      <th></th>\n",
       "      <th>hours_trained</th>\n",
       "      <th>mape</th>\n",
       "    </tr>\n",
       "  </thead>\n",
       "  <tbody>\n",
       "    <tr>\n",
       "      <th>0</th>\n",
       "      <td>218.0</td>\n",
       "      <td>3.911545</td>\n",
       "    </tr>\n",
       "    <tr>\n",
       "      <th>1</th>\n",
       "      <td>266.0</td>\n",
       "      <td>4.094102</td>\n",
       "    </tr>\n",
       "    <tr>\n",
       "      <th>2</th>\n",
       "      <td>314.0</td>\n",
       "      <td>3.425121</td>\n",
       "    </tr>\n",
       "    <tr>\n",
       "      <th>3</th>\n",
       "      <td>362.0</td>\n",
       "      <td>3.817765</td>\n",
       "    </tr>\n",
       "    <tr>\n",
       "      <th>4</th>\n",
       "      <td>410.0</td>\n",
       "      <td>3.743901</td>\n",
       "    </tr>\n",
       "  </tbody>\n",
       "</table>\n",
       "</div>"
      ],
      "text/plain": [
       "   hours_trained      mape\n",
       "0          218.0  3.911545\n",
       "1          266.0  4.094102\n",
       "2          314.0  3.425121\n",
       "3          362.0  3.817765\n",
       "4          410.0  3.743901"
      ]
     },
     "execution_count": 6,
     "metadata": {},
     "output_type": "execute_result"
    }
   ],
   "source": [
    "# construct empty dataframe to populate with results\n",
    "results = pd.DataFrame(columns=['hours_trained','mape'])\n",
    "\n",
    "# define split times and end times to cut X and y into training and testing sets\n",
    "split_times = pd.date_range(start='2018-01-10 08:00:00',freq='2D',periods=5)\n",
    "end_times = split_times.shift(39,freq='H')\n",
    "\n",
    "# loop to run models and add hours_trained & mape data to the mapes dataframe\n",
    "for i in range(len(split_times)):\n",
    "    \n",
    "    # define training and testing sets based on split_times and end_times\n",
    "    X_train = X.loc[X.index <= split_times[i]].copy()\n",
    "    X_test = X.loc[(X.index > split_times[i]) & (X.index <= end_times[i])].copy()\n",
    "    y_train = y.loc[y.index <= split_times[i]].copy()\n",
    "    y_test = y.loc[(y.index > split_times[i]) & (y.index <= end_times[i])].copy()\n",
    "      \n",
    "    # define model, choosing one from above\n",
    "    model = linear_regression\n",
    "    \n",
    "    # train model and predict on test set\n",
    "    reg = model.fit(X_train,y_train)\n",
    "    y_pred = reg.predict(X_test)\n",
    "    \n",
    "    # store the results of the model and append the results dataframe\n",
    "    hours_trained = len(X_train)\n",
    "    mape = np.mean(np.abs((y_test - y_pred) / y_test))*100\n",
    "    \n",
    "    results = results.append({'hours_trained':hours_trained,'mape':mape},ignore_index=True)\n",
    "\n",
    "results.head(5)"
   ]
  },
  {
   "cell_type": "code",
   "execution_count": 7,
   "metadata": {},
   "outputs": [
    {
     "data": {
      "text/plain": [
       "<matplotlib.axes._subplots.AxesSubplot at 0x105d2b3c8>"
      ]
     },
     "execution_count": 7,
     "metadata": {},
     "output_type": "execute_result"
    },
    {
     "data": {
      "image/png": "[encoded data removed]",
      "text/plain": [
       "<Figure size 1080x360 with 1 Axes>"
      ]
     },
     "metadata": {
      "needs_background": "light"
     },
     "output_type": "display_data"
    }
   ],
   "source": [
    "# construct dataframe with actual and predicted data for the test period, then plot\n",
    "comparison = pd.DataFrame(y_test,columns=['Actual'])                  \n",
    "comparison['Prediction'] = reg.predict(X_test)\n",
    "\n",
    "comparison.plot(figsize=(15, 5))"
   ]
  },
  {
   "cell_type": "code",
   "execution_count": 8,
   "metadata": {},
   "outputs": [
    {
     "data": {
      "text/html": [
       "<div>\n",
       "<style scoped>\n",
       "    .dataframe tbody tr th:only-of-type {\n",
       "        vertical-align: middle;\n",
       "    }\n",
       "\n",
       "    .dataframe tbody tr th {\n",
       "        vertical-align: top;\n",
       "    }\n",
       "\n",
       "    .dataframe thead th {\n",
       "        text-align: right;\n",
       "    }\n",
       "</style>\n",
       "<table border=\"1\" class=\"dataframe\">\n",
       "  <thead>\n",
       "    <tr style=\"text-align: right;\">\n",
       "      <th></th>\n",
       "      <th>Actual</th>\n",
       "      <th>Prediction</th>\n",
       "    </tr>\n",
       "  </thead>\n",
       "  <tbody>\n",
       "    <tr>\n",
       "      <th>2018-01-18 09:00:00</th>\n",
       "      <td>910.9</td>\n",
       "      <td>849.701992</td>\n",
       "    </tr>\n",
       "    <tr>\n",
       "      <th>2018-01-18 10:00:00</th>\n",
       "      <td>1021.3</td>\n",
       "      <td>986.997786</td>\n",
       "    </tr>\n",
       "    <tr>\n",
       "      <th>2018-01-18 11:00:00</th>\n",
       "      <td>1094.2</td>\n",
       "      <td>1075.463491</td>\n",
       "    </tr>\n",
       "    <tr>\n",
       "      <th>2018-01-18 12:00:00</th>\n",
       "      <td>1135.8</td>\n",
       "      <td>1129.120249</td>\n",
       "    </tr>\n",
       "    <tr>\n",
       "      <th>2018-01-18 13:00:00</th>\n",
       "      <td>1144.7</td>\n",
       "      <td>1154.342649</td>\n",
       "    </tr>\n",
       "  </tbody>\n",
       "</table>\n",
       "</div>"
      ],
      "text/plain": [
       "                     Actual   Prediction\n",
       "2018-01-18 09:00:00   910.9   849.701992\n",
       "2018-01-18 10:00:00  1021.3   986.997786\n",
       "2018-01-18 11:00:00  1094.2  1075.463491\n",
       "2018-01-18 12:00:00  1135.8  1129.120249\n",
       "2018-01-18 13:00:00  1144.7  1154.342649"
      ]
     },
     "execution_count": 8,
     "metadata": {},
     "output_type": "execute_result"
    }
   ],
   "source": [
    "comparison.head()"
   ]
  },
  {
   "cell_type": "code",
   "execution_count": null,
   "metadata": {},
   "outputs": [],
   "source": []
  }
 ],
 "metadata": {
  "kernelspec": {
   "display_name": "Python 3",
   "language": "python",
   "name": "python3"
  },
  "language_info": {
   "codemirror_mode": {
    "name": "ipython",
    "version": 3
   },
   "file_extension": ".py",
   "mimetype": "text/x-python",
   "name": "python",
   "nbconvert_exporter": "python",
   "pygments_lexer": "ipython3",
   "version": "3.7.0"
  }
 },
 "nbformat": 4,
 "nbformat_minor": 2
}
