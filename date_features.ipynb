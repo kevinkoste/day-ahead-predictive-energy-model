{
 "cells": [
  {
   "cell_type": "code",
   "execution_count": 1,
   "metadata": {},
   "outputs": [],
   "source": [
    "import pandas as pd\n",
    "import numpy as np\n",
    "import scipy as sp\n",
    "from sklearn import preprocessing\n",
    "\n",
    "\n",
    "import utility_functions as fn\n",
    "\n",
    "import matplotlib\n",
    "%matplotlib inline\n",
    "import matplotlib.pyplot as plt\n",
    "plt.style.use('ggplot')"
   ]
  },
  {
   "cell_type": "markdown",
   "metadata": {},
   "source": [
    "Basic idea here:\n",
    "1. Create a new dataframe with hourly index from start to end above, like the weather data\n",
    "2. Add the following features for each row:\n",
    "\n",
    "    1. hour of day (23) <br/>\n",
    "    2. season (3) <br />\n",
    "    3. weekday (1) <br />\n",
    "    4. Yale class in session (1) <br />\n",
    "    5. Yale offices operating (1) <br />\n",
    "    \n",
    "    "
   ]
  },
  {
   "cell_type": "code",
   "execution_count": 2,
   "metadata": {},
   "outputs": [
    {
     "data": {
      "text/html": [
       "<div>\n",
       "<style scoped>\n",
       "    .dataframe tbody tr th:only-of-type {\n",
       "        vertical-align: middle;\n",
       "    }\n",
       "\n",
       "    .dataframe tbody tr th {\n",
       "        vertical-align: top;\n",
       "    }\n",
       "\n",
       "    .dataframe thead th {\n",
       "        text-align: right;\n",
       "    }\n",
       "</style>\n",
       "<table border=\"1\" class=\"dataframe\">\n",
       "  <thead>\n",
       "    <tr style=\"text-align: right;\">\n",
       "      <th></th>\n",
       "    </tr>\n",
       "  </thead>\n",
       "  <tbody>\n",
       "    <tr>\n",
       "      <th>2013-01-01 00:00:00</th>\n",
       "    </tr>\n",
       "    <tr>\n",
       "      <th>2013-01-01 01:00:00</th>\n",
       "    </tr>\n",
       "    <tr>\n",
       "      <th>2013-01-01 02:00:00</th>\n",
       "    </tr>\n",
       "  </tbody>\n",
       "</table>\n",
       "</div>"
      ],
      "text/plain": [
       "Empty DataFrame\n",
       "Columns: []\n",
       "Index: [2013-01-01 00:00:00, 2013-01-01 01:00:00, 2013-01-01 02:00:00]"
      ]
     },
     "execution_count": 2,
     "metadata": {},
     "output_type": "execute_result"
    }
   ],
   "source": [
    "start = '2013-01-01 00:00:00'\n",
    "end = '2019-02-10 00:00:00'\n",
    "\n",
    "dates = pd.DataFrame(index=pd.DatetimeIndex(start=start, end=end, freq='H'))"
   ]
  },
  {
   "cell_type": "code",
   "execution_count": 3,
   "metadata": {},
   "outputs": [],
   "source": [
    "dates['spring'] = np.array([0]*len(dates))\n",
    "dates['summer'] = np.array([0]*len(dates))\n",
    "dates['fall'] = np.array([0]*len(dates))\n",
    "\n",
    "dates['weekday'] = np.array([0]*len(dates))\n",
    "\n",
    "dates['class'] = np.array([0]*len(dates))\n",
    "\n",
    "dates['office'] = np.array([0]*len(dates))\n",
    "\n",
    "for i in range(1,24):\n",
    "    dates['hr'+str(i)] = np.array([0]*len(dates))"
   ]
  },
  {
   "cell_type": "code",
   "execution_count": 5,
   "metadata": {},
   "outputs": [
    {
     "data": {
      "text/html": [
       "<div>\n",
       "<style scoped>\n",
       "    .dataframe tbody tr th:only-of-type {\n",
       "        vertical-align: middle;\n",
       "    }\n",
       "\n",
       "    .dataframe tbody tr th {\n",
       "        vertical-align: top;\n",
       "    }\n",
       "\n",
       "    .dataframe thead th {\n",
       "        text-align: right;\n",
       "    }\n",
       "</style>\n",
       "<table border=\"1\" class=\"dataframe\">\n",
       "  <thead>\n",
       "    <tr style=\"text-align: right;\">\n",
       "      <th></th>\n",
       "      <th>spring</th>\n",
       "      <th>summer</th>\n",
       "      <th>fall</th>\n",
       "      <th>weekday</th>\n",
       "      <th>class</th>\n",
       "      <th>office</th>\n",
       "      <th>hr1</th>\n",
       "      <th>hr2</th>\n",
       "      <th>hr3</th>\n",
       "      <th>hr4</th>\n",
       "      <th>...</th>\n",
       "      <th>hr14</th>\n",
       "      <th>hr15</th>\n",
       "      <th>hr16</th>\n",
       "      <th>hr17</th>\n",
       "      <th>hr18</th>\n",
       "      <th>hr19</th>\n",
       "      <th>hr20</th>\n",
       "      <th>hr21</th>\n",
       "      <th>hr22</th>\n",
       "      <th>hr23</th>\n",
       "    </tr>\n",
       "  </thead>\n",
       "  <tbody>\n",
       "    <tr>\n",
       "      <th>2013-01-01</th>\n",
       "      <td>0</td>\n",
       "      <td>0</td>\n",
       "      <td>0</td>\n",
       "      <td>0</td>\n",
       "      <td>0</td>\n",
       "      <td>0</td>\n",
       "      <td>0</td>\n",
       "      <td>0</td>\n",
       "      <td>0</td>\n",
       "      <td>0</td>\n",
       "      <td>...</td>\n",
       "      <td>0</td>\n",
       "      <td>0</td>\n",
       "      <td>0</td>\n",
       "      <td>0</td>\n",
       "      <td>0</td>\n",
       "      <td>0</td>\n",
       "      <td>0</td>\n",
       "      <td>0</td>\n",
       "      <td>0</td>\n",
       "      <td>0</td>\n",
       "    </tr>\n",
       "  </tbody>\n",
       "</table>\n",
       "<p>1 rows × 29 columns</p>\n",
       "</div>"
      ],
      "text/plain": [
       "            spring  summer  fall  weekday  class  office  hr1  hr2  hr3  hr4  \\\n",
       "2013-01-01       0       0     0        0      0       0    0    0    0    0   \n",
       "\n",
       "            ...   hr14  hr15  hr16  hr17  hr18  hr19  hr20  hr21  hr22  hr23  \n",
       "2013-01-01  ...      0     0     0     0     0     0     0     0     0     0  \n",
       "\n",
       "[1 rows x 29 columns]"
      ]
     },
     "execution_count": 5,
     "metadata": {},
     "output_type": "execute_result"
    }
   ],
   "source": [
    "dates.head(1)"
   ]
  },
  {
   "cell_type": "code",
   "execution_count": null,
   "metadata": {},
   "outputs": [],
   "source": []
  }
 ],
 "metadata": {
  "kernelspec": {
   "display_name": "Python 3",
   "language": "python",
   "name": "python3"
  },
  "language_info": {
   "codemirror_mode": {
    "name": "ipython",
    "version": 3
   },
   "file_extension": ".py",
   "mimetype": "text/x-python",
   "name": "python",
   "nbconvert_exporter": "python",
   "pygments_lexer": "ipython3",
   "version": "3.7.0"
  }
 },
 "nbformat": 4,
 "nbformat_minor": 2
}
