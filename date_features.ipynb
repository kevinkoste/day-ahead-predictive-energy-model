{
 "cells": [
  {
   "cell_type": "code",
   "execution_count": 1,
   "metadata": {},
   "outputs": [],
   "source": [
    "import pandas as pd\n",
    "import numpy as np\n",
    "from sklearn import preprocessing\n",
    "\n",
    "import utility_functions as fn\n",
    "\n",
    "import matplotlib\n",
    "%matplotlib inline\n",
    "import matplotlib.pyplot as plt\n",
    "plt.style.use('ggplot')"
   ]
  },
  {
   "cell_type": "markdown",
   "metadata": {},
   "source": [
    "Basic idea here:\n",
    "1. Create a new dataframe with hourly index from start to end above, like the weather data\n",
    "2. Add the following features for each row:\n",
    "\n",
    "    1. hour of day (23) <br/>\n",
    "    2. season (3) <br />\n",
    "    3. weekday (1) <br />\n",
    "    4. Yale class in session (1) UNFINISHED <br />\n",
    "    5. Yale offices operating (1) UNFINISHED <br />\n",
    "    \n",
    "    "
   ]
  },
  {
   "cell_type": "code",
   "execution_count": 2,
   "metadata": {},
   "outputs": [],
   "source": [
    "start = '2013-01-01 00:00:00'\n",
    "end = '2019-02-10 00:00:00'\n",
    "\n",
    "dates = pd.DataFrame(index=pd.DatetimeIndex(start=start, end=end, freq='H'))"
   ]
  },
  {
   "cell_type": "code",
   "execution_count": 3,
   "metadata": {},
   "outputs": [],
   "source": [
    "# adds hour of day features\n",
    "for i in range(1,24):\n",
    "    dates['hr'+str(i)] = np.array([i]*len(dates))\n",
    "    dates.loc[:,'hr'+str(i)] = (dates.loc[:,'hr'+str(i)].values == np.asarray(dates.index.hour)).astype(int)"
   ]
  },
  {
   "cell_type": "code",
   "execution_count": 4,
   "metadata": {},
   "outputs": [],
   "source": [
    "# adds season features\n",
    "dates['spring'] = np.asarray(dates.index.month)\n",
    "dates['spring'].replace([1,2,3,4,5,6,7,8,9,10,11,12],[0,0,1,1,1,0,0,0,0,0,0,0],inplace=True)\n",
    "\n",
    "dates['summer'] = np.asarray(dates.index.month)\n",
    "dates['summer'].replace([1,2,3,4,5,6,7,8,9,10,11,12],[0,0,0,0,0,1,1,1,0,0,0,0],inplace=True)\n",
    "\n",
    "dates['autumn'] = np.asarray(dates.index.month)\n",
    "dates['autumn'].replace([1,2,3,4,5,6,7,8,9,10,11,12],[0,0,0,0,0,0,0,0,1,1,1,0],inplace=True)"
   ]
  },
  {
   "cell_type": "code",
   "execution_count": 5,
   "metadata": {},
   "outputs": [],
   "source": [
    "# adds weekday feature\n",
    "dates['weekday'] = np.asarray(dates.index.weekday)\n",
    "dates['weekday'].replace([0,1,2,3,4,5,6],[1,1,1,1,1,0,0],inplace=True)"
   ]
  },
  {
   "cell_type": "code",
   "execution_count": 6,
   "metadata": {},
   "outputs": [],
   "source": [
    "# dates['class'] = np.array([0]*len(dates))\n",
    "\n",
    "# dates['office'] = np.array([0]*len(dates))"
   ]
  },
  {
   "cell_type": "code",
   "execution_count": 7,
   "metadata": {},
   "outputs": [],
   "source": [
    "to_export = dates.copy(deep=True)\n",
    "to_export.to_csv('one_hot_dates.csv')"
   ]
  }
 ],
 "metadata": {
  "kernelspec": {
   "display_name": "Python 3",
   "language": "python",
   "name": "python3"
  },
  "language_info": {
   "codemirror_mode": {
    "name": "ipython",
    "version": 3
   },
   "file_extension": ".py",
   "mimetype": "text/x-python",
   "name": "python",
   "nbconvert_exporter": "python",
   "pygments_lexer": "ipython3",
   "version": "3.7.0"
  }
 },
 "nbformat": 4,
 "nbformat_minor": 2
}
