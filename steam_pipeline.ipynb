{
 "cells": [
  {
   "cell_type": "code",
   "execution_count": 1,
   "metadata": {},
   "outputs": [],
   "source": [
    "import pandas as pd\n",
    "pd.set_option('mode.chained_assignment', None)\n",
    "import numpy as np\n",
    "\n",
    "import utility_functions as fn\n",
    "\n",
    "import matplotlib\n",
    "%matplotlib inline\n",
    "import matplotlib.pyplot as plt\n",
    "plt.style.use('ggplot')"
   ]
  },
  {
   "cell_type": "markdown",
   "metadata": {},
   "source": [
    "## Initialization"
   ]
  },
  {
   "cell_type": "code",
   "execution_count": 2,
   "metadata": {},
   "outputs": [],
   "source": [
    "# manually define building names\n",
    "buildingnames = ['YUAG',\n",
    "                 'Berkeley',\n",
    "                 'Hopper',\n",
    "                 '304Elm',\n",
    "                 'Davenport',\n",
    "                 '38HH',\n",
    "                 '320Temple',\n",
    "                 '53Wall',\n",
    "                 'Sprague',\n",
    "                 'Malone',\n",
    "                 'Trumbull',\n",
    "                 '17HH']"
   ]
  },
  {
   "cell_type": "code",
   "execution_count": null,
   "metadata": {},
   "outputs": [],
   "source": [
    "# read chw data from csv into a new dataframe\n",
    "raw = pd.read_csv('data/chw_raw.csv',index_col=0,na_values=['Bad'])\n",
    "\n",
    "# remove precalculated demand values, which tend to be bugged\n",
    "raw = raw.drop(raw.columns[np.arange(0,len(buildingnames)*2,2)], axis=1)\n",
    "\n",
    "# reindex appropriately by hourly datetime\n",
    "raw.index = pd.to_datetime(raw.index,format='%a %m/%d/%y %H:00')\n",
    "\n",
    "# add missing rows by full reindexing\n",
    "correct_dt = pd.DatetimeIndex(start='2018-01-01 00:00:00',end='2018-07-27 23:00:00',freq='h')\n",
    "raw = raw.reindex(index=correct_dt)\n",
    "\n",
    "# rename columns\n",
    "raw.columns = buildingnames"
   ]
  }
 ],
 "metadata": {
  "kernelspec": {
   "display_name": "Python 3",
   "language": "python",
   "name": "python3"
  },
  "language_info": {
   "codemirror_mode": {
    "name": "ipython",
    "version": 3
   },
   "file_extension": ".py",
   "mimetype": "text/x-python",
   "name": "python",
   "nbconvert_exporter": "python",
   "pygments_lexer": "ipython3",
   "version": "3.7.0"
  }
 },
 "nbformat": 4,
 "nbformat_minor": 2
}
