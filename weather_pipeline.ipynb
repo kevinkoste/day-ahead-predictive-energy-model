{
 "cells": [
  {
   "cell_type": "code",
   "execution_count": null,
   "metadata": {},
   "outputs": [],
   "source": [
    "import numpy as np\n",
    "from scipy import optimize\n",
    "import pandas as pd\n",
    "pd.set_option('mode.chained_assignment', None)\n",
    "import sklearn as sk\n",
    "\n",
    "import matplotlib\n",
    "%matplotlib inline\n",
    "import matplotlib.pyplot as plt\n",
    "plt.style.use('ggplot')\n",
    "\n",
    "import utility_functions as fn"
   ]
  },
  {
   "cell_type": "markdown",
   "metadata": {},
   "source": [
    "## Initialization"
   ]
  },
  {
   "cell_type": "code",
   "execution_count": null,
   "metadata": {},
   "outputs": [],
   "source": [
    "# read from csv into a new dataframe\n",
    "raw_weather = pd.read_csv('data/weather_raw2.csv',index_col=1)\n",
    "\n",
    "# reindex by appropriate datetime\n",
    "raw_weather.index = pd.to_datetime(raw_weather.index,format='%Y-%m-%d %H:00:00 +0000 UTC')\n",
    "raw_weather.index.names = ['']\n",
    "\n",
    "# remove unused columns\n",
    "unused = raw_weather.columns[np.array([0,1,2,3,4,9,10,13,15,16,17,19,20,21,23,24,25,26])]\n",
    "raw_weather.drop(unused,axis=1,inplace=True)\n",
    "\n",
    "# rename and reorder columns\n",
    "column_names = ['temp','tmin','tmax','pressure','humidity','wind','rain','snow','clouds']\n",
    "raw_weather.columns = column_names\n",
    "raw_weather = raw_weather[['temp','tmin','tmax','pressure','humidity','wind','clouds','rain','snow']]"
   ]
  },
  {
   "cell_type": "code",
   "execution_count": null,
   "metadata": {},
   "outputs": [],
   "source": [
    "# drop duplicate rows\n",
    "raw_weather.drop_duplicates(inplace=True)\n",
    "\n",
    "# reindex to add missing rows, for a total length of 53545\n",
    "correct_dt = pd.DatetimeIndex(start='2013-01-01 00:00:00',end='2019-02-10 00:00:00',freq='h')\n",
    "raw_weather = raw_weather.reindex(index=correct_dt)"
   ]
  },
  {
   "cell_type": "code",
   "execution_count": null,
   "metadata": {},
   "outputs": [],
   "source": [
    "print(raw_weather.isnull().sum())\n",
    "# fn.plot_all(raw_weather,'2013-01-02 00:00:00','2019-02-09 00:00:00')"
   ]
  },
  {
   "cell_type": "markdown",
   "metadata": {},
   "source": [
    "## Error Identification"
   ]
  },
  {
   "cell_type": "code",
   "execution_count": null,
   "metadata": {},
   "outputs": [],
   "source": [
    "# set violating values to NaN based on hardcoded low and high limit values for each column separately\n",
    "sparse_weather = raw_weather.copy(deep=True)\n",
    "\n",
    "low_tuners = [250,240,250,900,5,0,0,0,0]\n",
    "high_tuners = [350,350,350,1100,100,25,100,100,10]\n",
    "j=0\n",
    "\n",
    "for i in raw_weather.columns:\n",
    "    sparse_weather[i].where(sparse_weather[i] >= low_tuners[j],inplace=True)\n",
    "    sparse_weather[i].where(sparse_weather[i] <= high_tuners[j],inplace=True)\n",
    "    j=j+1"
   ]
  },
  {
   "cell_type": "code",
   "execution_count": null,
   "metadata": {},
   "outputs": [],
   "source": [
    "# assign NaN precip values to zero, this is an unconfirmed assumption\n",
    "sparse_weather['rain'].replace(np.NaN,0,inplace=True)\n",
    "sparse_weather['snow'].replace(np.NaN,0,inplace=True)\n",
    "\n",
    "# set initial humidity value to suppress errors\n",
    "sparse_weather['humidity'][0] = 46"
   ]
  },
  {
   "cell_type": "code",
   "execution_count": null,
   "metadata": {},
   "outputs": [],
   "source": [
    "fn.plot_all(sparse_weather,'2013-01-01 00:00:00','2019-02-10 00:00:00')\n",
    "# fn.plot_feature(sparse_weather,'temp','2016-07-16 00:00:00','2016-07-24 00:00:00',ylabel='Temp [K]')\n",
    "# print(sparse_weather.isnull().sum())"
   ]
  },
  {
   "cell_type": "markdown",
   "metadata": {},
   "source": [
    "## Imputation"
   ]
  },
  {
   "cell_type": "code",
   "execution_count": null,
   "metadata": {},
   "outputs": [],
   "source": [
    "# impute missing ranges shorter than 6 hours using linear interpolation\n",
    "dense_weather = sparse_weather.copy(deep=True)\n",
    "\n",
    "# interpolate gaps in consumption data 6 hours and shorter\n",
    "for k in dense_weather.columns:\n",
    "    dense_weather[k] = fn.limited_impute(dense_weather[k],6)\n",
    "\n",
    "fn.plot_feature(dense_weather,'temp','2016-07-16 00:00:00','2016-07-24 00:00:00',ylabel='Temp [K]')\n",
    "print(dense_weather.isnull().sum())"
   ]
  },
  {
   "cell_type": "code",
   "execution_count": null,
   "metadata": {},
   "outputs": [],
   "source": [
    "# implement sine_impute function, newly incompatible with fn.gaps for various reasons\n",
    "\n",
    "# for now, linear impute over all gaps\n",
    "dense_weather.interpolate(method='linear',inplace=True)\n",
    "\n",
    "fn.plot_feature(dense_weather,'temp','2016-07-16 00:00:00','2016-07-24 00:00:00',ylabel='Temp [K]')\n",
    "dense_weather.isnull().sum()"
   ]
  },
  {
   "cell_type": "markdown",
   "metadata": {},
   "source": [
    "## Export"
   ]
  },
  {
   "cell_type": "code",
   "execution_count": null,
   "metadata": {},
   "outputs": [],
   "source": [
    "dense_weather.to_csv('data/weather_clean.csv')"
   ]
  },
  {
   "cell_type": "markdown",
   "metadata": {},
   "source": [
    "### unused code below"
   ]
  },
  {
   "cell_type": "code",
   "execution_count": null,
   "metadata": {},
   "outputs": [],
   "source": [
    "# # returns index labels where nan values appear for a certain column\n",
    "# nan_index = weather['temp'].index[weather['temp'].apply(np.isnan)]\n",
    "# nan_index\n",
    "\n",
    "# correct and complete datetime index for the date range considered\n",
    "# dt = pd.DatetimeIndex(start='2013-01-01 00:00:00',end='2019-02-10 00:00:00',freq='h')\n",
    "\n",
    "# # renames (here, makes lowercase) column labels using a simple loop\n",
    "# df.columns = [x.lower() for x in df.columns]\n",
    "\n",
    "# # implements sklearn scaler\n",
    "# from sklearn import preprocessing\n",
    "# x = df.values #returns a numpy array\n",
    "# scaler = preprocessing.MinMaxScaler()\n",
    "# x_scaled = scaler.fit_transform(x)\n",
    "# df = pandas.DataFrame(x_scaled)"
   ]
  },
  {
   "cell_type": "code",
   "execution_count": null,
   "metadata": {},
   "outputs": [],
   "source": [
    "# code from when i was adding an 'impute_ok' column\n",
    "\n",
    "# TEMPORARY bypass missing 2014-2015 data\n",
    "# weather = raw_weather.truncate('2016-01-01 00:00:00','2019-02-10 00:00:00')\n",
    "# weather = raw_weather.copy(deep=False)\n",
    "\n",
    "# add an 'impute_ok' column; True if time gap is less than 6 hours\n",
    "# orig_len = len(raw_weather.index)\n",
    "# raw_weather.insert(0,'impute_ok',True)\n",
    "# raw_weather['impute_ok'].iloc[1:orig_len]=(raw_weather.index[1:orig_len]-raw_weather.index[0:orig_len-1] <= '06:00:00')"
   ]
  },
  {
   "cell_type": "code",
   "execution_count": null,
   "metadata": {},
   "outputs": [],
   "source": [
    "# COULD BE USEFUL, first implementation of fit_sin that worked pretty well\n",
    "\n",
    "# # assigning gap indices manually for now, use impute_ok later on\n",
    "# gap_start = dense_weather.index.get_loc('2016-07-19 00:00:00')\n",
    "# gap_end = dense_weather.index.get_loc('2016-07-20 17:00:00')\n",
    "# gap_length = gap_end - gap_start\n",
    "\n",
    "# # could calculate this as gap_start - (gap_length*2,3)\n",
    "# impute_start = dense_weather.index.get_loc('2016-07-10 00:00:00')\n",
    "\n",
    "# # subset dense_weather to the values just before the gap\n",
    "# impute_data = dense_weather.iloc[impute_start:gap_start]\n",
    "# impute_data.index = np.arange(len(impute_data))\n",
    "\n",
    "# fit = fn.fit_sin(impute_data.index,impute_data['temp'])\n",
    "\n",
    "# dense_weather.iloc[gap_start:gap_end,[0]] = pd.DataFrame(fit['fitfunc'](np.arange(len(impute_data),len(impute_data)+gap_length,1))).values\n",
    "\n",
    "# fn.plot_feature(dense_weather,'temp','2016-07-16 00:00:00','2016-07-24 00:00:00',ylabel='Temp [K]')\n",
    "\n",
    "# impute_data['temp'].values\n",
    "# impute_data.iloc[:,[0]].T.values\n"
   ]
  },
  {
   "cell_type": "code",
   "execution_count": null,
   "metadata": {},
   "outputs": [],
   "source": [
    "# FIRST PASS at writing sine_impute function, more updated version in utility_functions.py\n",
    "# use fn.gaps_as_df AND fn.sine_fit to sine fit one column\n",
    "\n",
    "# df_in = dense_weather.copy(deep=True)\n",
    "# k = 0\n",
    "\n",
    "# df_out = df_in.copy(deep=True)\n",
    "# gaps = fn.gaps_as_df(bool_gaps,)\n",
    "\n",
    "\n",
    "\n",
    "# for k in range(len(df_in.columns)):\n",
    "    \n",
    "# def sine_impute(df_in,column):\n",
    "#     \"\"\"\n",
    "#     Imputes all gaps in data using a least-squares optimized sinusoidal fit function\n",
    "    \n",
    "#     df_in: DataFrame to which the target column belongs\n",
    "#     column: str name of column to be imputed\n",
    "#     \"\"\"\n",
    "#     df_out = df_in.copy(deep=True)\n",
    "#     gaps = fn.gaps(df_in,column,6)\n",
    "\n",
    "#     for i in gaps.index:\n",
    "\n",
    "#         data_start_index = gaps.start[i] - 2*gaps.length[i]-1\n",
    "#         data_end_index = gaps.start[i]-1\n",
    "#         impute_start_index = gaps.start[i]\n",
    "#         impute_end_index = gaps.end[i]\n",
    "\n",
    "#         # print(gaps.start[i])\n",
    "#         # print(gaps.end[i])\n",
    "\n",
    "#         x_start = 0\n",
    "#         x_end = data_end_index - data_start_index\n",
    "#         x_impute_start = x_end+1\n",
    "#         x_impute_end = impute_end_index - data_start_index\n",
    "\n",
    "#         sine_fit = fn.sine_fit(df_in,df_in.columns[k],data_start_index,data_end_index)\n",
    "\n",
    "#         imputed_values = sine_fit['fit'](np.arange(x_impute_start,x_impute_end))\n",
    "\n",
    "#         # print(imputed_values)\n",
    "\n",
    "#         df_in.iloc[gaps.start[i]:gaps.end[i],[k]] = pd.DataFrame(imputed_values).values\n",
    "        \n",
    "#     return df_out\n"
   ]
  }
 ],
 "metadata": {
  "celltoolbar": "Raw Cell Format",
  "kernelspec": {
   "display_name": "Python 3",
   "language": "python",
   "name": "python3"
  },
  "language_info": {
   "codemirror_mode": {
    "name": "ipython",
    "version": 3
   },
   "file_extension": ".py",
   "mimetype": "text/x-python",
   "name": "python",
   "nbconvert_exporter": "python",
   "pygments_lexer": "ipython3",
   "version": "3.7.0"
  }
 },
 "nbformat": 4,
 "nbformat_minor": 2
}
