{
 "cells": [
  {
   "cell_type": "code",
   "execution_count": null,
   "metadata": {},
   "outputs": [],
   "source": [
    "new_weather_start = '2019-02-10 00:00:00'"
   ]
  },
  {
   "cell_type": "code",
   "execution_count": null,
   "metadata": {},
   "outputs": [],
   "source": [
    "# packages\n",
    "import requests\n",
    "import json\n",
    "\n",
    "#openweathermap api parameters\n",
    "#city id, New Haven is 4839366\n",
    "nhid = 4839366\n",
    "\n",
    "# start date (unix time, UTC time zone)\n",
    "examplestart = 1369728000\n",
    "\n",
    "# end date (unix time, UTC time zone)\n",
    "exampleend = 1369789200\n",
    "\n",
    "# number of retuned data points, can be used instead of end\n",
    "cnt = 1\n",
    "\n",
    "# default API key from openweathermap.com\n",
    "#9891777d6b10123f5d478000d231e6b9\n",
    "\n",
    "# weather = requests.get(\"http://history.openweathermap.org/data/2.5/history/city?id={id}&type=hour&start={start}&end={end}\", id=nhid, start=examplestart, end=exampleend)\n",
    "\n",
    "weather_new = requests.get(\"http://api.openweathermap.org/data/2.5/forecast?id=4839366&APPID=9891777d6b10123f5d478000d231e6b9\")\n",
    "\n",
    "print(weather.status_code)\n",
    "\n",
    "data = weather_new.json()\n",
    "\n",
    "# with open('weather.txt','w') as file:\n",
    "#     file.write(json.dumps(data, indent=4, sort_keys=True))\n",
    "\n",
    "data"
   ]
  }
 ],
 "metadata": {
  "kernelspec": {
   "display_name": "Python 3",
   "language": "python",
   "name": "python3"
  },
  "language_info": {
   "codemirror_mode": {
    "name": "ipython",
    "version": 3
   },
   "file_extension": ".py",
   "mimetype": "text/x-python",
   "name": "python",
   "nbconvert_exporter": "python",
   "pygments_lexer": "ipython3",
   "version": "3.7.0"
  }
 },
 "nbformat": 4,
 "nbformat_minor": 2
}
