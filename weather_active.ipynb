{
 "cells": [
  {
   "cell_type": "code",
   "execution_count": 1,
   "metadata": {},
   "outputs": [],
   "source": [
    "# this script is a work-in-progress to stream forecast data every hour continuously\n",
    "\n",
    "# another script should be written to update the historical weather data with the current weather (NOT streaming)\n",
    "new_weather_start = '2019-02-10 00:00:00'"
   ]
  },
  {
   "cell_type": "code",
   "execution_count": 2,
   "metadata": {},
   "outputs": [],
   "source": [
    "import pandas as pd\n",
    "import numpy as np\n",
    "\n",
    "import requests\n",
    "import json\n",
    "\n",
    "import utility_functions as fn\n",
    "import time, datetime"
   ]
  },
  {
   "cell_type": "code",
   "execution_count": 3,
   "metadata": {},
   "outputs": [
    {
     "name": "stdout",
     "output_type": "stream",
     "text": [
      "401\n"
     ]
    },
    {
     "data": {
      "text/plain": [
       "{'cod': 401,\n",
       " 'message': 'Invalid API key. Please see http://openweathermap.org/faq#error401 for more info.'}"
      ]
     },
     "execution_count": 3,
     "metadata": {},
     "output_type": "execute_result"
    }
   ],
   "source": [
    "# city id for New Haven \n",
    "nhid = 4839366\n",
    "\n",
    "# start and end dates (unix time, 00:00:00 on day of interest)\n",
    "start = int(time.mktime(datetime.date(2019,2,10).timetuple()))\n",
    "end = int(time.mktime(datetime.date(2019,3,3).timetuple()))\n",
    "\n",
    "# API key \n",
    "key = '9891777d6b10123f5d478000d231e6b9'\n",
    "\n",
    "params = {'id': nhid,\n",
    "          'key': key,\n",
    "          'type': 'hour',\n",
    "          'start': start,\n",
    "          'end': end\n",
    "         }\n",
    "\n",
    "request = requests.get('http://api.openweathermap.org/data/2.5/history/city?',params=params)\n",
    "\n",
    "print(request.status_code)\n",
    "\n",
    "data = request.json()\n",
    "\n",
    "# with open('weather.txt','w') as file:\n",
    "#     file.write(json.dumps(data, indent=4, sort_keys=True))\n",
    "\n",
    "data"
   ]
  },
  {
   "cell_type": "code",
   "execution_count": 4,
   "metadata": {},
   "outputs": [
    {
     "name": "stdout",
     "output_type": "stream",
     "text": [
      "200\n"
     ]
    }
   ],
   "source": [
    "# weatherbit api for 48-hour forecast\n",
    "\n",
    "nhid = 4839366\n",
    "key = '39853ac984bf47d6a8358b9d4d8ae00c'\n",
    "\n",
    "params = {'city_id': nhid,\n",
    "          'key': key,\n",
    "         }\n",
    "\n",
    "request = requests.get('https://api.weatherbit.io/v2.0/forecast/hourly',params=params)\n",
    "print(request.status_code)\n",
    "\n",
    "json = request.json()\n",
    "forecast = pd.DataFrame.from_dict(json['data'])"
   ]
  },
  {
   "cell_type": "code",
   "execution_count": 5,
   "metadata": {},
   "outputs": [],
   "source": [
    "forecast.index = pd.to_datetime(forecast['timestamp_local'],format='%Y-%m-%dT%H:00:00')\n",
    "forecast.index.names = ['']\n",
    "\n",
    "# remove unused columns\n",
    "forecast.drop(['snow_depth','wind_cdir','wind_cdir','wind_cdir_full','wind_gust_spd','uv',\n",
    "               'datetime','timestamp_local','timestamp_utc','ts','vis','weather','wind_dir',\n",
    "               'dhi','dni','ghi','slp','dewpt','clouds_hi','clouds_low','clouds_mid','ozone',\n",
    "               'pod'],axis=1,inplace=True)\n",
    "\n",
    "fn.plot_all(forecast,'2019-03-04 01:00:00','2019-03-06 00:00:00')"
   ]
  },
  {
   "cell_type": "code",
   "execution_count": null,
   "metadata": {},
   "outputs": [],
   "source": [
    "# working on using multi index to store hourly prediction data\n",
    "# arrays = [[forecast.index[0]],[]]\n",
    "# pd.MultiIndex.from_arrays([[1, 1, 2, 2], ['red', 'blue', 'red', 'blue']], names=('pred_hour', 'hour'))"
   ]
  }
 ],
 "metadata": {
  "kernelspec": {
   "display_name": "Python 3",
   "language": "python",
   "name": "python3"
  },
  "language_info": {
   "codemirror_mode": {
    "name": "ipython",
    "version": 3
   },
   "file_extension": ".py",
   "mimetype": "text/x-python",
   "name": "python",
   "nbconvert_exporter": "python",
   "pygments_lexer": "ipython3",
   "version": "3.7.0"
  }
 },
 "nbformat": 4,
 "nbformat_minor": 2
}
