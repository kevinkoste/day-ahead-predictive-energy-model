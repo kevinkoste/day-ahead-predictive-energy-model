{
 "cells": [
  {
   "cell_type": "code",
   "execution_count": 1,
   "metadata": {},
   "outputs": [],
   "source": [
    "import pandas as pd\n",
    "pd.set_option('mode.chained_assignment', None)\n",
    "import numpy as np\n",
    "import scipy as sp\n",
    "import scipy.optimize\n",
    "from sklearn import preprocessing\n",
    "\n",
    "import utility_functions as fn\n",
    "\n",
    "import matplotlib\n",
    "%matplotlib inline\n",
    "import matplotlib.pyplot as plt\n",
    "plt.style.use('ggplot')"
   ]
  },
  {
   "cell_type": "markdown",
   "metadata": {},
   "source": [
    "# Initialization"
   ]
  },
  {
   "cell_type": "code",
   "execution_count": 2,
   "metadata": {},
   "outputs": [],
   "source": [
    "# read from csv into a new dataframe\n",
    "raw_weather = pd.read_csv('weather_raw2.csv',index_col=1)\n",
    "\n",
    "# reindex by appropriate datetime\n",
    "raw_weather.index = pd.to_datetime(raw_weather.index,format='%Y-%m-%d %H:00:00 +0000 UTC')\n",
    "raw_weather.index.names = ['']\n",
    "\n",
    "# remove unused columns\n",
    "raw_weather.drop(raw_weather.columns[np.array([0,1,2,3,4,9,10,13,15,16,17,19,20,21,23,24,25,26])],axis=1,inplace=True)\n",
    "\n",
    "# rename and reorder columns\n",
    "column_names = ['temp','tmin','tmax','pressure','humidity','wind','rain','snow','clouds']\n",
    "raw_weather.columns = column_names\n",
    "raw_weather = raw_weather[['temp','tmin','tmax','pressure','humidity','wind','clouds','rain','snow']]"
   ]
  },
  {
   "cell_type": "code",
   "execution_count": 3,
   "metadata": {},
   "outputs": [],
   "source": [
    "# drop duplicate rows\n",
    "raw_weather.drop_duplicates(inplace=True)\n",
    "\n",
    "# reindex to add missing rows, for a total length of 53545\n",
    "correct_dt = pd.DatetimeIndex(start='2013-01-01 00:00:00',end='2019-02-10 00:00:00',freq='h')\n",
    "raw_weather = raw_weather.reindex(index=correct_dt)"
   ]
  },
  {
   "cell_type": "code",
   "execution_count": 4,
   "metadata": {},
   "outputs": [
    {
     "name": "stdout",
     "output_type": "stream",
     "text": [
      "temp         1129\n",
      "tmin         1129\n",
      "tmax         1129\n",
      "pressure     1129\n",
      "humidity     1129\n",
      "wind         1129\n",
      "clouds       1129\n",
      "rain        49699\n",
      "snow        53440\n",
      "dtype: int64\n"
     ]
    }
   ],
   "source": [
    "print(raw_weather.isnull().sum())\n",
    "# fn.plot_all(raw_weather,'2013-01-02 00:00:00','2019-02-09 00:00:00')"
   ]
  },
  {
   "cell_type": "markdown",
   "metadata": {},
   "source": [
    "# Error Identification"
   ]
  },
  {
   "cell_type": "code",
   "execution_count": 5,
   "metadata": {},
   "outputs": [],
   "source": [
    "# set violating values to NaN based on hardcoded low and high limit values for each column separately\n",
    "sparse_weather = raw_weather.copy(deep=True)\n",
    "\n",
    "low_tuners = [250,240,250,900,5,0,0,0,0]\n",
    "high_tuners = [350,350,350,1100,100,25,100,100,10]\n",
    "j=0\n",
    "\n",
    "for i in raw_weather.columns:\n",
    "    sparse_weather[i].where(sparse_weather[i] >= low_tuners[j],inplace=True)\n",
    "    sparse_weather[i].where(sparse_weather[i] <= high_tuners[j],inplace=True)\n",
    "    j=j+1"
   ]
  },
  {
   "cell_type": "code",
   "execution_count": 6,
   "metadata": {},
   "outputs": [],
   "source": [
    "# assign NaN precip values to zero, this is an unconfirmed assumption\n",
    "sparse_weather['rain'].replace(np.NaN,0,inplace=True)\n",
    "sparse_weather['snow'].replace(np.NaN,0,inplace=True)\n",
    "\n",
    "# set initial humidity value to suppress errors\n",
    "sparse_weather['humidity'][0] = 46"
   ]
  },
  {
   "cell_type": "code",
   "execution_count": 7,
   "metadata": {},
   "outputs": [
    {
     "name": "stdout",
     "output_type": "stream",
     "text": [
      "temp        1136\n",
      "tmin        1136\n",
      "tmax        1136\n",
      "pressure    1521\n",
      "humidity    2160\n",
      "wind        1133\n",
      "clouds      1129\n",
      "rain           0\n",
      "snow           0\n",
      "dtype: int64\n"
     ]
    }
   ],
   "source": [
    "# fn.plot_all(sparse_weather,'2013-01-01 00:00:00','2019-02-10 00:00:00')\n",
    "print(sparse_weather.isnull().sum())"
   ]
  },
  {
   "cell_type": "markdown",
   "metadata": {},
   "source": [
    "# Imputation"
   ]
  },
  {
   "cell_type": "code",
   "execution_count": 8,
   "metadata": {},
   "outputs": [],
   "source": [
    "# impute missing ranges shorter than 6 hours using linear interpolation\n",
    "dense_weather = sparse_weather.copy(deep=True)\n",
    "impute_ok = fn.gap_indicator(dense_weather,6)\n",
    "\n",
    "for i in dense_weather.columns:\n",
    "    dense_weather[i].mask(impute_ok[i]==True,dense_weather[i].interpolate(method='linear',limit=6),inplace=True)\n"
   ]
  },
  {
   "cell_type": "code",
   "execution_count": 9,
   "metadata": {},
   "outputs": [
    {
     "data": {
      "image/png": "[encoded data removed]",
      "text/plain": [
       "<Figure size 432x288 with 1 Axes>"
      ]
     },
     "metadata": {
      "needs_background": "light"
     },
     "output_type": "display_data"
    }
   ],
   "source": [
    "fn.plot_feature(dense_weather,'temp','2016-07-17 00:00:00','2016-07-23 00:00:00')\n",
    "# print(dense_weather.isnull().sum())"
   ]
  },
  {
   "cell_type": "code",
   "execution_count": 14,
   "metadata": {},
   "outputs": [
    {
     "name": "stdout",
     "output_type": "stream",
     "text": [
      "DatetimeIndex(['2013-10-21 14:00:00', '2013-10-21 15:00:00',\n",
      "               '2013-10-21 16:00:00', '2013-10-21 17:00:00',\n",
      "               '2013-10-21 18:00:00', '2013-10-21 19:00:00',\n",
      "               '2013-10-21 20:00:00', '2013-10-21 21:00:00',\n",
      "               '2013-10-21 22:00:00', '2013-10-21 23:00:00',\n",
      "               ...\n",
      "               '2016-07-20 08:00:00', '2016-07-20 09:00:00',\n",
      "               '2016-07-20 10:00:00', '2016-07-20 11:00:00',\n",
      "               '2016-07-20 12:00:00', '2016-07-20 13:00:00',\n",
      "               '2016-07-20 14:00:00', '2016-07-20 15:00:00',\n",
      "               '2016-07-20 16:00:00', '2016-07-20 17:00:00'],\n",
      "              dtype='datetime64[ns]', length=154, freq=None)\n"
     ]
    }
   ],
   "source": [
    "# impute large segments using least-squares optimization of a sinusoidal curve\n",
    "\n",
    "\n",
    "# returns index labels where nan values appear for a certain column\n",
    "false_index = impute_ok['temp'].index[impute_ok['temp'].apply(np.logical_not)]\n",
    "print(false_index)\n",
    "\n",
    "# gap checker function\n",
    "\n",
    "print('start | end')\n",
    "    \n",
    "for i in range(len(df)):\n",
    "    if (df['temp'][i-1]==True) & (df[gap_indicator_column][i]==False):\n",
    "        gap_start=i\n",
    "        for j in range(i,len(df)):\n",
    "            if df[gap_indicator_column][j]==True:\n",
    "                gap_end=j\n",
    "                break\n",
    "        print(gap_start, gap_end)\n",
    "\n"
   ]
  },
  {
   "cell_type": "code",
   "execution_count": 11,
   "metadata": {},
   "outputs": [
    {
     "data": {
      "image/png": "[encoded data removed]",
      "text/plain": [
       "<Figure size 432x288 with 1 Axes>"
      ]
     },
     "metadata": {
      "needs_background": "light"
     },
     "output_type": "display_data"
    }
   ],
   "source": [
    "# assigning gap indices manually for now, use impute_ok later on\n",
    "gap_start = dense_weather.index.get_loc('2016-07-19 00:00:00')\n",
    "gap_end = dense_weather.index.get_loc('2016-07-20 17:00:00')\n",
    "gap_length = gap_end - gap_start\n",
    "\n",
    "# could calculate this as gap_start - (gap_length*2,3)\n",
    "impute_start = dense_weather.index.get_loc('2016-07-10 00:00:00')\n",
    "\n",
    "# subset dense_weather to the values just before the gap\n",
    "impute_data = dense_weather.iloc[impute_start:gap_start]\n",
    "impute_data.index = np.arange(len(impute_data))\n",
    "\n",
    "fit = fn.fit_sin(impute_data.index,impute_data['temp'])\n",
    "\n",
    "dense_weather.iloc[gap_start:gap_end,[0]] = pd.DataFrame(fit['fitfunc'](np.arange(len(impute_data),len(impute_data)+gap_length,1))).values\n",
    "\n",
    "fn.plot_feature(dense_weather,'temp','2016-07-17 00:00:00','2016-07-23 00:00:00')"
   ]
  },
  {
   "cell_type": "markdown",
   "metadata": {},
   "source": [
    "# Additional Features & Scaling"
   ]
  },
  {
   "cell_type": "code",
   "execution_count": 12,
   "metadata": {},
   "outputs": [
    {
     "ename": "NameError",
     "evalue": "name 'weather' is not defined",
     "output_type": "error",
     "traceback": [
      "\u001b[0;31m---------------------------------------------------------------------------\u001b[0m",
      "\u001b[0;31mNameError\u001b[0m                                 Traceback (most recent call last)",
      "\u001b[0;32m<ipython-input-12-187ef8e67035>\u001b[0m in \u001b[0;36m<module>\u001b[0;34m()\u001b[0m\n\u001b[1;32m      1\u001b[0m \u001b[0;31m# this function adds columns with data from previous hours associated with the target hour\u001b[0m\u001b[0;34m\u001b[0m\u001b[0;34m\u001b[0m\u001b[0m\n\u001b[1;32m      2\u001b[0m \u001b[0mhours_before\u001b[0m \u001b[0;34m=\u001b[0m \u001b[0mnp\u001b[0m\u001b[0;34m.\u001b[0m\u001b[0marange\u001b[0m\u001b[0;34m(\u001b[0m\u001b[0;36m16\u001b[0m\u001b[0;34m,\u001b[0m\u001b[0;36m25\u001b[0m\u001b[0;34m)\u001b[0m\u001b[0;34m\u001b[0m\u001b[0m\n\u001b[0;32m----> 3\u001b[0;31m \u001b[0mweather_with_previous\u001b[0m \u001b[0;34m=\u001b[0m \u001b[0mfn\u001b[0m\u001b[0;34m.\u001b[0m\u001b[0madd_hours_before\u001b[0m\u001b[0;34m(\u001b[0m\u001b[0mweather\u001b[0m\u001b[0;34m,\u001b[0m\u001b[0mhours_before\u001b[0m\u001b[0;34m)\u001b[0m\u001b[0;34m\u001b[0m\u001b[0m\n\u001b[0m\u001b[1;32m      4\u001b[0m \u001b[0mweather_with_previous\u001b[0m\u001b[0;34m.\u001b[0m\u001b[0mdescribe\u001b[0m\u001b[0;34m(\u001b[0m\u001b[0;34m)\u001b[0m\u001b[0;34m\u001b[0m\u001b[0m\n",
      "\u001b[0;31mNameError\u001b[0m: name 'weather' is not defined"
     ]
    }
   ],
   "source": [
    "# this function adds columns with data from previous hours associated with the target hour\n",
    "hours_before = np.arange(16,25)\n",
    "weather_with_previous = fn.add_hours_before(weather,hours_before)\n",
    "weather_with_previous.describe()"
   ]
  },
  {
   "cell_type": "code",
   "execution_count": null,
   "metadata": {},
   "outputs": [],
   "source": [
    "# implements sklearn MinMaxScaler\n",
    "x = weather_with_previous.values\n",
    "scaler = preprocessing.MinMaxScaler(feature_range=(0, 1))\n",
    "x_scaled = scaler.fit_transform(x)\n",
    "\n",
    "scaled = pd.DataFrame(x_scaled)\n",
    "scaled.columns = weather_with_previous.columns\n",
    "scaled.index = weather_with_previous.index\n",
    "\n",
    "scaled.describe()"
   ]
  },
  {
   "cell_type": "code",
   "execution_count": null,
   "metadata": {},
   "outputs": [],
   "source": [
    "# scaled.to_csv('weather_clean.csv')"
   ]
  },
  {
   "cell_type": "markdown",
   "metadata": {},
   "source": [
    "# unused code below"
   ]
  },
  {
   "cell_type": "code",
   "execution_count": null,
   "metadata": {},
   "outputs": [],
   "source": [
    "# # returns index labels where nan values appear for a certain column\n",
    "# nan_index = weather['temp'].index[weather['temp'].apply(np.isnan)]\n",
    "# nan_index\n",
    "\n",
    "# correct and complete datetime index for the date range considered\n",
    "# dt = pd.DatetimeIndex(start='2013-01-01 00:00:00',end='2019-02-10 00:00:00',freq='h')\n",
    "\n",
    "# # renames (here, makes lowercase) column labels using a simple loop\n",
    "# df.columns = [x.lower() for x in df.columns]\n",
    "\n",
    "# # implements sklearn scaler\n",
    "# from sklearn import preprocessing\n",
    "# x = df.values #returns a numpy array\n",
    "# scaler = preprocessing.MinMaxScaler()\n",
    "# x_scaled = scaler.fit_transform(x)\n",
    "# df = pandas.DataFrame(x_scaled)"
   ]
  },
  {
   "cell_type": "code",
   "execution_count": null,
   "metadata": {},
   "outputs": [],
   "source": [
    "# code from when i was adding an 'impute_ok' column\n",
    "\n",
    "# TEMPORARY bypass missing 2014-2015 data\n",
    "# weather = raw_weather.truncate('2016-01-01 00:00:00','2019-02-10 00:00:00')\n",
    "# weather = raw_weather.copy(deep=False)\n",
    "\n",
    "# add an 'impute_ok' column; True if time gap is less than 6 hours\n",
    "# orig_len = len(raw_weather.index)\n",
    "# raw_weather.insert(0,'impute_ok',True)\n",
    "# raw_weather['impute_ok'].iloc[1:orig_len]=(raw_weather.index[1:orig_len]-raw_weather.index[0:orig_len-1] <= '06:00:00')"
   ]
  }
 ],
 "metadata": {
  "celltoolbar": "Raw Cell Format",
  "kernelspec": {
   "display_name": "Python 3",
   "language": "python",
   "name": "python3"
  },
  "language_info": {
   "codemirror_mode": {
    "name": "ipython",
    "version": 3
   },
   "file_extension": ".py",
   "mimetype": "text/x-python",
   "name": "python",
   "nbconvert_exporter": "python",
   "pygments_lexer": "ipython3",
   "version": "3.7.0"
  }
 },
 "nbformat": 4,
 "nbformat_minor": 2
}
